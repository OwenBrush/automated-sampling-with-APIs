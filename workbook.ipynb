{
 "cells": [
  {
   "cell_type": "code",
   "execution_count": 1,
   "metadata": {},
   "outputs": [],
   "source": [
    "#Imports\n",
    "import foursquare\n",
    "import pandas as pd\n",
    "import numpy as np\n",
    "from scripts.constants import *\n",
    "from scripts import dataframe_builder, api_request"
   ]
  },
  {
   "cell_type": "code",
   "execution_count": 2,
   "metadata": {},
   "outputs": [
    {
     "name": "stdout",
     "output_type": "stream",
     "text": [
      "geo location already exists\n",
      "Ending sample collection after 71 samples collection: Geo location not recieved\n"
     ]
    }
   ],
   "source": [
    "# Collect new random samples\n",
    "api_request.collect_random_samples(100)"
   ]
  },
  {
   "cell_type": "code",
   "execution_count": 3,
   "metadata": {},
   "outputs": [],
   "source": [
    "# Reconcile dataset with logged API responses\n",
    "dataframe_builder.update_dataframe()"
   ]
  },
  {
   "cell_type": "code",
   "execution_count": 4,
   "metadata": {},
   "outputs": [],
   "source": [
    "# Make requests for missing information\n",
    "api_request.request_missing_information()"
   ]
  },
  {
   "cell_type": "code",
   "execution_count": 5,
   "metadata": {},
   "outputs": [],
   "source": [
    "#Build data frame for exploration\n",
    "df = pd.read_csv(SAVE_DIR+RESULTS, index_col=0)\n",
    "codes = pd.read_csv(SAVE_DIR+\"country_codes.csv\")\n",
    "codes.rename(columns={'name':'country','alpha-3':'code'}, inplace=True)\n",
    "df = pd.merge(df, codes[['country','code']], on='country', how='left')"
   ]
  },
  {
   "cell_type": "code",
   "execution_count": 6,
   "metadata": {},
   "outputs": [
    {
     "data": {
      "text/plain": [
       "array(['United Kingdom', nan, 'Iran', 'Russia', 'United States',\n",
       "       'Visayas', 'Democratic Republic of the Congo', 'North Korea',\n",
       "       'Cape Verde', 'Venezuela', 'Bolivia', 'Syria', 'Vietnam', 'Laos',\n",
       "       'Tanzania', 'Luzon'], dtype=object)"
      ]
     },
     "execution_count": 6,
     "metadata": {},
     "output_type": "execute_result"
    }
   ],
   "source": [
    "#Country names that did not match codes\n",
    "df[df['code'].isna()]['country'].unique()"
   ]
  },
  {
   "cell_type": "code",
   "execution_count": 9,
   "metadata": {},
   "outputs": [],
   "source": [
    "#Replace nans with apropriate code\n",
    "df.loc[df['country'] == 'United Kingdom', 'code'] = 'GBR'\n",
    "df.loc[df['country'] == 'Iran', 'code'] = 'IRN'\n",
    "df.loc[df['country'] == 'Russia', 'code'] = 'RUS'\n",
    "df.loc[df['country'] == 'United States', 'code'] = 'USA'\n",
    "df.loc[df['country'] == 'Visayas', 'code'] = 'PHL'\n",
    "df.loc[df['country'] == 'Democratic Republic of the Congo', 'code'] = 'COD'\n",
    "df.loc[df['country'] == 'North Korea', 'code'] = 'PRK'\n",
    "df.loc[df['country'] == 'Cape Verde', 'code'] = 'CPV'\n",
    "df.loc[df['country'] == 'Venezuela', 'code'] = 'VEN'\n",
    "df.loc[df['country'] == 'Bolivia', 'code'] = 'BOL'\n",
    "df.loc[df['country'] == 'Syria', 'code'] = 'SYR'\n",
    "df.loc[df['country'] == 'Vietnam', 'code'] = 'VNM'\n",
    "df.loc[df['country'] == 'Laos', 'code'] = 'LAO'\n",
    "df.loc[df['country'] == 'Tanzania', 'code'] = 'TZA'\n",
    "df = df.dropna()"
   ]
  },
  {
   "cell_type": "code",
   "execution_count": 11,
   "metadata": {},
   "outputs": [
    {
     "name": "stdout",
     "output_type": "stream",
     "text": [
      " \n",
      "      From 431 samples:\n",
      " \n",
      "      Four Square:\n",
      "      2765.0 venues across 52 countries\n",
      "      \n",
      " \n",
      "      Google:\n",
      "      158.0 venues across 15 countries\n",
      "      \n",
      " \n",
      "      Yelp:\n",
      "      283.0 venues across 11 countries\n",
      "      \n"
     ]
    }
   ],
   "source": [
    "### Compare Coverage\n",
    "fs = df[['country','four_square']].groupby('country').sum()\n",
    "fs_countries = len(fs[fs['four_square']!= 0])\n",
    "fs_venues = sum(fs['four_square'])\n",
    "\n",
    "yelp = df[['country','yelp']].groupby('country').sum()\n",
    "yelp_countries = len(yelp[yelp['yelp']!= 0])\n",
    "yelp_venues = sum(yelp['yelp'])\n",
    "\n",
    "google = df[['country','google']].groupby('country').sum()\n",
    "google_countries = len(google[google['google']!= 0])\n",
    "google_venues = sum(google['google'])\n",
    "\n",
    "samples = len(df)\n",
    "print(f''' \n",
    "      From {samples} samples:''')\n",
    "\n",
    "print(f''' \n",
    "      Four Square:\n",
    "      {fs_venues} venues across {fs_countries} countries\n",
    "      ''')\n",
    "print(f''' \n",
    "      Google:\n",
    "      {google_venues} venues across {google_countries} countries\n",
    "      ''')\n",
    "print(f''' \n",
    "      Yelp:\n",
    "      {yelp_venues} venues across {yelp_countries} countries\n",
    "      ''')"
   ]
  },
  {
   "cell_type": "code",
   "execution_count": 12,
   "metadata": {},
   "outputs": [
    {
     "name": "stderr",
     "output_type": "stream",
     "text": [
      "<ipython-input-12-2e8f675bf9a9>:1: SettingWithCopyWarning: \n",
      "A value is trying to be set on a copy of a slice from a DataFrame.\n",
      "Try using .loc[row_indexer,col_indexer] = value instead\n",
      "\n",
      "See the caveats in the documentation: https://pandas.pydata.org/pandas-docs/stable/user_guide/indexing.html#returning-a-view-versus-a-copy\n",
      "  df['total'] = df['yelp'] + df['four_square'] + df['google']\n"
     ]
    }
   ],
   "source": [
    "# Group by average for country to country comparison per compnay\n",
    "# group by sum for comparison between companies\n",
    "df['total'] = df['yelp'] + df['four_square'] + df['google']\n",
    "sum_df = df.groupby('code').sum().sort_values('total', ascending=False )\n",
    "avg_df = df.groupby('code').mean().sort_values('total', ascending=False )"
   ]
  },
  {
   "cell_type": "code",
   "execution_count": 14,
   "metadata": {},
   "outputs": [],
   "source": [
    "# graph function for country comparison\n",
    "import plotly.graph_objects as go\n",
    "import pandas as pd\n",
    "\n",
    "def display_company_choropleth(company, color):\n",
    "    fig = go.Figure(data=go.Choropleth(\n",
    "                                        locations = avg_df[avg_df['yelp']!= 0].index,\n",
    "                                        z = avg_df[avg_df['yelp']!= 0][company],\n",
    "                                        text = df['code'],\n",
    "                                        colorscale = color,\n",
    "                                        marker_line_color='darkgray',\n",
    "                                        marker_line_width=0.5,\n",
    "                                        colorbar_title = 'Average results per request',\n",
    "                                        )\n",
    "                    )\n",
    "\n",
    "    fig.update_layout(\n",
    "                        width=1000,\n",
    "                        autosize=True,\n",
    "                        margin=dict(t=50, b=50, l=0, r=0),\n",
    "                        title_text=f'{company} performance',\n",
    "                        geo=dict(\n",
    "                            bgcolor = '#D4D4D4',\n",
    "                            landcolor = '#D4D4D4',\n",
    "                            lakecolor = '#D4D4D4',\n",
    "                            visible=True,\n",
    "                            showframe=True,\n",
    "                            showcoastlines=True,\n",
    "                            projection_type='equirectangular',\n",
    "                                )\n",
    "\n",
    "                     )\n",
    "\n",
    "    fig.data[0].colorbar.x=.9\n",
    "    fig.data[0].colorbar.y=.59\n",
    "    fig.show()"
   ]
  },
  {
   "cell_type": "code",
   "execution_count": 15,
   "metadata": {},
   "outputs": [
    {
     "data": {
      "application/vnd.plotly.v1+json": {
       "config": {
        "plotlyServerURL": "https://plot.ly"
       },
       "data": [
        {
         "colorbar": {
          "title": {
           "text": "Average results per request"
          },
          "x": 0.9,
          "y": 0.59
         },
         "colorscale": [
          [
           0,
           "rgb(255,245,240)"
          ],
          [
           0.125,
           "rgb(254,224,210)"
          ],
          [
           0.25,
           "rgb(252,187,161)"
          ],
          [
           0.375,
           "rgb(252,146,114)"
          ],
          [
           0.5,
           "rgb(251,106,74)"
          ],
          [
           0.625,
           "rgb(239,59,44)"
          ],
          [
           0.75,
           "rgb(203,24,29)"
          ],
          [
           0.875,
           "rgb(165,15,21)"
          ],
          [
           1,
           "rgb(103,0,13)"
          ]
         ],
         "locations": [
          "DEU",
          "GBR",
          "JPN",
          "MYS",
          "DNK",
          "ESP",
          "NZL",
          "FRA",
          "USA",
          "CAN",
          "AUS"
         ],
         "marker": {
          "line": {
           "color": "darkgray",
           "width": 0.5
          }
         },
         "text": [
          "ARG",
          "SDN",
          "AUS",
          "GBR",
          "FRA",
          "IDN",
          "ROU",
          "CHN",
          "CMR",
          "CAN",
          "IRN",
          "CAN",
          "BRA",
          "RUS",
          "RUS",
          "PNG",
          "CAN",
          "SWE",
          "RUS",
          "USA",
          "PNG",
          "DEU",
          "ETH",
          "NOR",
          "PHL",
          "CHN",
          "USA",
          "RUS",
          "CAN",
          "ZMB",
          "RUS",
          "NOR",
          "MOZ",
          "CHN",
          "AUS",
          "COD",
          "ZWE",
          "ZAF",
          "BWA",
          "ZAF",
          "RUS",
          "NOR",
          "ARG",
          "ZAF",
          "NER",
          "USA",
          "TCD",
          "COD",
          "DZA",
          "YEM",
          "MRT",
          "POL",
          "RUS",
          "YEM",
          "NGA",
          "POL",
          "CHN",
          "MEX",
          "AGO",
          "USA",
          "RUS",
          "RUS",
          "PRK",
          "CAN",
          "DNK",
          "COD",
          "RUS",
          "CAN",
          "JPN",
          "NGA",
          "CAN",
          "MRT",
          "TCD",
          "JPN",
          "USA",
          "CHN",
          "CUB",
          "GIN",
          "USA",
          "ARG",
          "SAU",
          "LBY",
          "RUS",
          "RUS",
          "CPV",
          "IND",
          "RUS",
          "RUS",
          "MEX",
          "GRL",
          "VEN",
          "COD",
          "MRT",
          "COD",
          "ZMB",
          "ARG",
          "RUS",
          "RUS",
          "CAN",
          "CHN",
          "BRA",
          "MAR",
          "RUS",
          "RUS",
          "RUS",
          "PNG",
          "AUS",
          "USA",
          "USA",
          "CHN",
          "CAN",
          "GBR",
          "MEX",
          "RUS",
          "AUS",
          "CAN",
          "MRT",
          "SDN",
          "RUS",
          "RUS",
          "RUS",
          "AUS",
          "USA",
          "RUS",
          "RUS",
          "MLI",
          "BRA",
          "JPN",
          "CHL",
          "IRN",
          "TON",
          "USA",
          "ROU",
          "UKR",
          "MNG",
          "DZA",
          "CUB",
          "GNB",
          "TUR",
          "CHN",
          "RUS",
          "EGY",
          "RUS",
          "KAZ",
          "DEU",
          "BRA",
          "UZB",
          "USA",
          "USA",
          "UKR",
          "ARG",
          "CHN",
          "IND",
          "RUS",
          "CAN",
          "RUS",
          "COD",
          "LBY",
          "CAN",
          "MYS",
          "IND",
          "FRA",
          "MMR",
          "GUY",
          "GRL",
          "MLI",
          "CAN",
          "CAN",
          "IND",
          "BRA",
          "RUS",
          "CAN",
          "MDG",
          "USA",
          "DZA",
          "JPN",
          "NZL",
          "BOL",
          "USA",
          "TCD",
          "GRC",
          "MNG",
          "NER",
          "USA",
          "AFG",
          "USA",
          "DZA",
          "KAZ",
          "NZL",
          "BRA",
          "IDN",
          "CAN",
          "AUS",
          "ESP",
          "CHN",
          "UZB",
          "USA",
          "CAN",
          "AUS",
          "COL",
          "AUS",
          "USA",
          "RUS",
          "AUS",
          "CAN",
          "IRN",
          "BOL",
          "SAU",
          "BEN",
          "COL",
          "ETH",
          "ARG",
          "IDN",
          "EGY",
          "PER",
          "AUS",
          "GAB",
          "DZA",
          "USA",
          "CAN",
          "RUS",
          "SUR",
          "CHN",
          "AFG",
          "GAB",
          "NOR",
          "TKM",
          "USA",
          "GRC",
          "CHL",
          "USA",
          "AUS",
          "CAN",
          "RUS",
          "RUS",
          "CAN",
          "SWE",
          "RUS",
          "LBY",
          "CAN",
          "USA",
          "BRA",
          "USA",
          "AFG",
          "IND",
          "TKM",
          "CHN",
          "ARG",
          "SYR",
          "RUS",
          "SLB",
          "USA",
          "IRN",
          "RUS",
          "IDN",
          "SDN",
          "RUS",
          "MNG",
          "COD",
          "RUS",
          "USA",
          "RUS",
          "RUS",
          "IRL",
          "CAN",
          "KAZ",
          "CAN",
          "RUS",
          "IND",
          "CHN",
          "USA",
          "USA",
          "BRA",
          "ARG",
          "VEN",
          "SAU",
          "SAU",
          "NOR",
          "MRT",
          "AUS",
          "SDN",
          "MLI",
          "RUS",
          "USA",
          "YEM",
          "CHN",
          "KGZ",
          "VNM",
          "USA",
          "AUS",
          "IND",
          "CAN",
          "CAN",
          "CAN",
          "CHN",
          "VEN",
          "BRA",
          "IRN",
          "IDN",
          "CAN",
          "BRA",
          "CAN",
          "ARG",
          "SDN",
          "PLW",
          "RUS",
          "RUS",
          "VNM",
          "COD",
          "BRA",
          "RUS",
          "KAZ",
          "AUS",
          "AUS",
          "DEU",
          "EGY",
          "LAO",
          "IDN",
          "CAN",
          "BOL",
          "COD",
          "CHN",
          "TZA",
          "COL",
          "BRA",
          "RUS",
          "MNG",
          "ARG",
          "ETH",
          "NAM",
          "PAK",
          "EGY",
          "IND",
          "MAR",
          "GAB",
          "EGY",
          "BOL",
          "DNK",
          "TUR",
          "USA",
          "CAN",
          "RUS",
          "KAZ",
          "CHN",
          "KAZ",
          "COL",
          "BOL",
          "CHL",
          "CAN",
          "RUS",
          "RUS",
          "ROU",
          "RUS",
          "NZL",
          "IDN",
          "VUT",
          "CAN",
          "USA",
          "MOZ",
          "FRA",
          "CHN",
          "IDN",
          "RUS",
          "CAN",
          "RUS",
          "GRL",
          "SDN",
          "BRA",
          "CHN",
          "LBY",
          "TUR",
          "ZAF",
          "KAZ",
          "USA",
          "RUS",
          "ARG",
          "NLD",
          "IDN",
          "MAR",
          "CHN",
          "CAN",
          "RUS",
          "SOM",
          "CHN",
          "USA",
          "USA",
          "PAK",
          "KAZ",
          "USA",
          "USA",
          "AGO",
          "MRT",
          "ESP",
          "AUS",
          "TKM",
          "IND",
          "CAN",
          "LBY",
          "CHL",
          "CAN",
          "IND",
          "EST",
          "DJI",
          "COD",
          "CAN",
          "USA",
          "IDN",
          "RUS",
          "TCD",
          "CHN",
          "AUS",
          "MNG",
          "MEX",
          "USA",
          "CHN",
          "LBY",
          "RUS",
          "SYC",
          "TGO",
          "CAN",
          "CAN",
          "AUS",
          "CHL",
          "CAN",
          "CAN",
          "KAZ",
          "CHN",
          "JAM",
          "SWE",
          "CHN",
          "AGO"
         ],
         "type": "choropleth",
         "z": [
          30,
          30,
          30,
          30,
          30,
          30,
          24,
          10.333333333333334,
          12.026315789473685,
          4.619047619047619,
          3.5555555555555554
         ]
        }
       ],
       "layout": {
        "autosize": true,
        "geo": {
         "bgcolor": "#D4D4D4",
         "lakecolor": "#D4D4D4",
         "landcolor": "#D4D4D4",
         "projection": {
          "type": "equirectangular"
         },
         "showcoastlines": true,
         "showframe": true,
         "visible": true
        },
        "margin": {
         "b": 50,
         "l": 0,
         "r": 0,
         "t": 50
        },
        "template": {
         "data": {
          "bar": [
           {
            "error_x": {
             "color": "#2a3f5f"
            },
            "error_y": {
             "color": "#2a3f5f"
            },
            "marker": {
             "line": {
              "color": "#E5ECF6",
              "width": 0.5
             },
             "pattern": {
              "fillmode": "overlay",
              "size": 10,
              "solidity": 0.2
             }
            },
            "type": "bar"
           }
          ],
          "barpolar": [
           {
            "marker": {
             "line": {
              "color": "#E5ECF6",
              "width": 0.5
             },
             "pattern": {
              "fillmode": "overlay",
              "size": 10,
              "solidity": 0.2
             }
            },
            "type": "barpolar"
           }
          ],
          "carpet": [
           {
            "aaxis": {
             "endlinecolor": "#2a3f5f",
             "gridcolor": "white",
             "linecolor": "white",
             "minorgridcolor": "white",
             "startlinecolor": "#2a3f5f"
            },
            "baxis": {
             "endlinecolor": "#2a3f5f",
             "gridcolor": "white",
             "linecolor": "white",
             "minorgridcolor": "white",
             "startlinecolor": "#2a3f5f"
            },
            "type": "carpet"
           }
          ],
          "choropleth": [
           {
            "colorbar": {
             "outlinewidth": 0,
             "ticks": ""
            },
            "type": "choropleth"
           }
          ],
          "contour": [
           {
            "colorbar": {
             "outlinewidth": 0,
             "ticks": ""
            },
            "colorscale": [
             [
              0,
              "#0d0887"
             ],
             [
              0.1111111111111111,
              "#46039f"
             ],
             [
              0.2222222222222222,
              "#7201a8"
             ],
             [
              0.3333333333333333,
              "#9c179e"
             ],
             [
              0.4444444444444444,
              "#bd3786"
             ],
             [
              0.5555555555555556,
              "#d8576b"
             ],
             [
              0.6666666666666666,
              "#ed7953"
             ],
             [
              0.7777777777777778,
              "#fb9f3a"
             ],
             [
              0.8888888888888888,
              "#fdca26"
             ],
             [
              1,
              "#f0f921"
             ]
            ],
            "type": "contour"
           }
          ],
          "contourcarpet": [
           {
            "colorbar": {
             "outlinewidth": 0,
             "ticks": ""
            },
            "type": "contourcarpet"
           }
          ],
          "heatmap": [
           {
            "colorbar": {
             "outlinewidth": 0,
             "ticks": ""
            },
            "colorscale": [
             [
              0,
              "#0d0887"
             ],
             [
              0.1111111111111111,
              "#46039f"
             ],
             [
              0.2222222222222222,
              "#7201a8"
             ],
             [
              0.3333333333333333,
              "#9c179e"
             ],
             [
              0.4444444444444444,
              "#bd3786"
             ],
             [
              0.5555555555555556,
              "#d8576b"
             ],
             [
              0.6666666666666666,
              "#ed7953"
             ],
             [
              0.7777777777777778,
              "#fb9f3a"
             ],
             [
              0.8888888888888888,
              "#fdca26"
             ],
             [
              1,
              "#f0f921"
             ]
            ],
            "type": "heatmap"
           }
          ],
          "heatmapgl": [
           {
            "colorbar": {
             "outlinewidth": 0,
             "ticks": ""
            },
            "colorscale": [
             [
              0,
              "#0d0887"
             ],
             [
              0.1111111111111111,
              "#46039f"
             ],
             [
              0.2222222222222222,
              "#7201a8"
             ],
             [
              0.3333333333333333,
              "#9c179e"
             ],
             [
              0.4444444444444444,
              "#bd3786"
             ],
             [
              0.5555555555555556,
              "#d8576b"
             ],
             [
              0.6666666666666666,
              "#ed7953"
             ],
             [
              0.7777777777777778,
              "#fb9f3a"
             ],
             [
              0.8888888888888888,
              "#fdca26"
             ],
             [
              1,
              "#f0f921"
             ]
            ],
            "type": "heatmapgl"
           }
          ],
          "histogram": [
           {
            "marker": {
             "pattern": {
              "fillmode": "overlay",
              "size": 10,
              "solidity": 0.2
             }
            },
            "type": "histogram"
           }
          ],
          "histogram2d": [
           {
            "colorbar": {
             "outlinewidth": 0,
             "ticks": ""
            },
            "colorscale": [
             [
              0,
              "#0d0887"
             ],
             [
              0.1111111111111111,
              "#46039f"
             ],
             [
              0.2222222222222222,
              "#7201a8"
             ],
             [
              0.3333333333333333,
              "#9c179e"
             ],
             [
              0.4444444444444444,
              "#bd3786"
             ],
             [
              0.5555555555555556,
              "#d8576b"
             ],
             [
              0.6666666666666666,
              "#ed7953"
             ],
             [
              0.7777777777777778,
              "#fb9f3a"
             ],
             [
              0.8888888888888888,
              "#fdca26"
             ],
             [
              1,
              "#f0f921"
             ]
            ],
            "type": "histogram2d"
           }
          ],
          "histogram2dcontour": [
           {
            "colorbar": {
             "outlinewidth": 0,
             "ticks": ""
            },
            "colorscale": [
             [
              0,
              "#0d0887"
             ],
             [
              0.1111111111111111,
              "#46039f"
             ],
             [
              0.2222222222222222,
              "#7201a8"
             ],
             [
              0.3333333333333333,
              "#9c179e"
             ],
             [
              0.4444444444444444,
              "#bd3786"
             ],
             [
              0.5555555555555556,
              "#d8576b"
             ],
             [
              0.6666666666666666,
              "#ed7953"
             ],
             [
              0.7777777777777778,
              "#fb9f3a"
             ],
             [
              0.8888888888888888,
              "#fdca26"
             ],
             [
              1,
              "#f0f921"
             ]
            ],
            "type": "histogram2dcontour"
           }
          ],
          "mesh3d": [
           {
            "colorbar": {
             "outlinewidth": 0,
             "ticks": ""
            },
            "type": "mesh3d"
           }
          ],
          "parcoords": [
           {
            "line": {
             "colorbar": {
              "outlinewidth": 0,
              "ticks": ""
             }
            },
            "type": "parcoords"
           }
          ],
          "pie": [
           {
            "automargin": true,
            "type": "pie"
           }
          ],
          "scatter": [
           {
            "marker": {
             "colorbar": {
              "outlinewidth": 0,
              "ticks": ""
             }
            },
            "type": "scatter"
           }
          ],
          "scatter3d": [
           {
            "line": {
             "colorbar": {
              "outlinewidth": 0,
              "ticks": ""
             }
            },
            "marker": {
             "colorbar": {
              "outlinewidth": 0,
              "ticks": ""
             }
            },
            "type": "scatter3d"
           }
          ],
          "scattercarpet": [
           {
            "marker": {
             "colorbar": {
              "outlinewidth": 0,
              "ticks": ""
             }
            },
            "type": "scattercarpet"
           }
          ],
          "scattergeo": [
           {
            "marker": {
             "colorbar": {
              "outlinewidth": 0,
              "ticks": ""
             }
            },
            "type": "scattergeo"
           }
          ],
          "scattergl": [
           {
            "marker": {
             "colorbar": {
              "outlinewidth": 0,
              "ticks": ""
             }
            },
            "type": "scattergl"
           }
          ],
          "scattermapbox": [
           {
            "marker": {
             "colorbar": {
              "outlinewidth": 0,
              "ticks": ""
             }
            },
            "type": "scattermapbox"
           }
          ],
          "scatterpolar": [
           {
            "marker": {
             "colorbar": {
              "outlinewidth": 0,
              "ticks": ""
             }
            },
            "type": "scatterpolar"
           }
          ],
          "scatterpolargl": [
           {
            "marker": {
             "colorbar": {
              "outlinewidth": 0,
              "ticks": ""
             }
            },
            "type": "scatterpolargl"
           }
          ],
          "scatterternary": [
           {
            "marker": {
             "colorbar": {
              "outlinewidth": 0,
              "ticks": ""
             }
            },
            "type": "scatterternary"
           }
          ],
          "surface": [
           {
            "colorbar": {
             "outlinewidth": 0,
             "ticks": ""
            },
            "colorscale": [
             [
              0,
              "#0d0887"
             ],
             [
              0.1111111111111111,
              "#46039f"
             ],
             [
              0.2222222222222222,
              "#7201a8"
             ],
             [
              0.3333333333333333,
              "#9c179e"
             ],
             [
              0.4444444444444444,
              "#bd3786"
             ],
             [
              0.5555555555555556,
              "#d8576b"
             ],
             [
              0.6666666666666666,
              "#ed7953"
             ],
             [
              0.7777777777777778,
              "#fb9f3a"
             ],
             [
              0.8888888888888888,
              "#fdca26"
             ],
             [
              1,
              "#f0f921"
             ]
            ],
            "type": "surface"
           }
          ],
          "table": [
           {
            "cells": {
             "fill": {
              "color": "#EBF0F8"
             },
             "line": {
              "color": "white"
             }
            },
            "header": {
             "fill": {
              "color": "#C8D4E3"
             },
             "line": {
              "color": "white"
             }
            },
            "type": "table"
           }
          ]
         },
         "layout": {
          "annotationdefaults": {
           "arrowcolor": "#2a3f5f",
           "arrowhead": 0,
           "arrowwidth": 1
          },
          "autotypenumbers": "strict",
          "coloraxis": {
           "colorbar": {
            "outlinewidth": 0,
            "ticks": ""
           }
          },
          "colorscale": {
           "diverging": [
            [
             0,
             "#8e0152"
            ],
            [
             0.1,
             "#c51b7d"
            ],
            [
             0.2,
             "#de77ae"
            ],
            [
             0.3,
             "#f1b6da"
            ],
            [
             0.4,
             "#fde0ef"
            ],
            [
             0.5,
             "#f7f7f7"
            ],
            [
             0.6,
             "#e6f5d0"
            ],
            [
             0.7,
             "#b8e186"
            ],
            [
             0.8,
             "#7fbc41"
            ],
            [
             0.9,
             "#4d9221"
            ],
            [
             1,
             "#276419"
            ]
           ],
           "sequential": [
            [
             0,
             "#0d0887"
            ],
            [
             0.1111111111111111,
             "#46039f"
            ],
            [
             0.2222222222222222,
             "#7201a8"
            ],
            [
             0.3333333333333333,
             "#9c179e"
            ],
            [
             0.4444444444444444,
             "#bd3786"
            ],
            [
             0.5555555555555556,
             "#d8576b"
            ],
            [
             0.6666666666666666,
             "#ed7953"
            ],
            [
             0.7777777777777778,
             "#fb9f3a"
            ],
            [
             0.8888888888888888,
             "#fdca26"
            ],
            [
             1,
             "#f0f921"
            ]
           ],
           "sequentialminus": [
            [
             0,
             "#0d0887"
            ],
            [
             0.1111111111111111,
             "#46039f"
            ],
            [
             0.2222222222222222,
             "#7201a8"
            ],
            [
             0.3333333333333333,
             "#9c179e"
            ],
            [
             0.4444444444444444,
             "#bd3786"
            ],
            [
             0.5555555555555556,
             "#d8576b"
            ],
            [
             0.6666666666666666,
             "#ed7953"
            ],
            [
             0.7777777777777778,
             "#fb9f3a"
            ],
            [
             0.8888888888888888,
             "#fdca26"
            ],
            [
             1,
             "#f0f921"
            ]
           ]
          },
          "colorway": [
           "#636efa",
           "#EF553B",
           "#00cc96",
           "#ab63fa",
           "#FFA15A",
           "#19d3f3",
           "#FF6692",
           "#B6E880",
           "#FF97FF",
           "#FECB52"
          ],
          "font": {
           "color": "#2a3f5f"
          },
          "geo": {
           "bgcolor": "white",
           "lakecolor": "white",
           "landcolor": "#E5ECF6",
           "showlakes": true,
           "showland": true,
           "subunitcolor": "white"
          },
          "hoverlabel": {
           "align": "left"
          },
          "hovermode": "closest",
          "mapbox": {
           "style": "light"
          },
          "paper_bgcolor": "white",
          "plot_bgcolor": "#E5ECF6",
          "polar": {
           "angularaxis": {
            "gridcolor": "white",
            "linecolor": "white",
            "ticks": ""
           },
           "bgcolor": "#E5ECF6",
           "radialaxis": {
            "gridcolor": "white",
            "linecolor": "white",
            "ticks": ""
           }
          },
          "scene": {
           "xaxis": {
            "backgroundcolor": "#E5ECF6",
            "gridcolor": "white",
            "gridwidth": 2,
            "linecolor": "white",
            "showbackground": true,
            "ticks": "",
            "zerolinecolor": "white"
           },
           "yaxis": {
            "backgroundcolor": "#E5ECF6",
            "gridcolor": "white",
            "gridwidth": 2,
            "linecolor": "white",
            "showbackground": true,
            "ticks": "",
            "zerolinecolor": "white"
           },
           "zaxis": {
            "backgroundcolor": "#E5ECF6",
            "gridcolor": "white",
            "gridwidth": 2,
            "linecolor": "white",
            "showbackground": true,
            "ticks": "",
            "zerolinecolor": "white"
           }
          },
          "shapedefaults": {
           "line": {
            "color": "#2a3f5f"
           }
          },
          "ternary": {
           "aaxis": {
            "gridcolor": "white",
            "linecolor": "white",
            "ticks": ""
           },
           "baxis": {
            "gridcolor": "white",
            "linecolor": "white",
            "ticks": ""
           },
           "bgcolor": "#E5ECF6",
           "caxis": {
            "gridcolor": "white",
            "linecolor": "white",
            "ticks": ""
           }
          },
          "title": {
           "x": 0.05
          },
          "xaxis": {
           "automargin": true,
           "gridcolor": "white",
           "linecolor": "white",
           "ticks": "",
           "title": {
            "standoff": 15
           },
           "zerolinecolor": "white",
           "zerolinewidth": 2
          },
          "yaxis": {
           "automargin": true,
           "gridcolor": "white",
           "linecolor": "white",
           "ticks": "",
           "title": {
            "standoff": 15
           },
           "zerolinecolor": "white",
           "zerolinewidth": 2
          }
         }
        },
        "title": {
         "text": "four_square performance"
        },
        "width": 1000
       }
      }
     },
     "metadata": {},
     "output_type": "display_data"
    }
   ],
   "source": [
    "display_company_choropleth('four_square','Reds')"
   ]
  },
  {
   "cell_type": "code",
   "execution_count": 21,
   "metadata": {},
   "outputs": [
    {
     "data": {
      "application/vnd.plotly.v1+json": {
       "config": {
        "plotlyServerURL": "https://plot.ly"
       },
       "data": [
        {
         "colorbar": {
          "title": {
           "text": "Average results per request"
          },
          "x": 0.9,
          "y": 0.59
         },
         "colorscale": [
          [
           0,
           "rgb(247,251,255)"
          ],
          [
           0.125,
           "rgb(222,235,247)"
          ],
          [
           0.25,
           "rgb(198,219,239)"
          ],
          [
           0.375,
           "rgb(158,202,225)"
          ],
          [
           0.5,
           "rgb(107,174,214)"
          ],
          [
           0.625,
           "rgb(66,146,198)"
          ],
          [
           0.75,
           "rgb(33,113,181)"
          ],
          [
           0.875,
           "rgb(8,81,156)"
          ],
          [
           1,
           "rgb(8,48,107)"
          ]
         ],
         "locations": [
          "DEU",
          "GBR",
          "JPN",
          "MYS",
          "DNK",
          "ESP",
          "NZL",
          "FRA",
          "USA",
          "CAN",
          "AUS"
         ],
         "marker": {
          "line": {
           "color": "darkgray",
           "width": 0.5
          }
         },
         "text": [
          "ARG",
          "SDN",
          "AUS",
          "GBR",
          "FRA",
          "IDN",
          "ROU",
          "CHN",
          "CMR",
          "CAN",
          "IRN",
          "CAN",
          "BRA",
          "RUS",
          "RUS",
          "PNG",
          "CAN",
          "SWE",
          "RUS",
          "USA",
          "PNG",
          "DEU",
          "ETH",
          "NOR",
          "PHL",
          "CHN",
          "USA",
          "RUS",
          "CAN",
          "ZMB",
          "RUS",
          "NOR",
          "MOZ",
          "CHN",
          "AUS",
          "COD",
          "ZWE",
          "ZAF",
          "BWA",
          "ZAF",
          "RUS",
          "NOR",
          "ARG",
          "ZAF",
          "NER",
          "USA",
          "TCD",
          "COD",
          "DZA",
          "YEM",
          "MRT",
          "POL",
          "RUS",
          "YEM",
          "NGA",
          "POL",
          "CHN",
          "MEX",
          "AGO",
          "USA",
          "RUS",
          "RUS",
          "PRK",
          "CAN",
          "DNK",
          "COD",
          "RUS",
          "CAN",
          "JPN",
          "NGA",
          "CAN",
          "MRT",
          "TCD",
          "JPN",
          "USA",
          "CHN",
          "CUB",
          "GIN",
          "USA",
          "ARG",
          "SAU",
          "LBY",
          "RUS",
          "RUS",
          "CPV",
          "IND",
          "RUS",
          "RUS",
          "MEX",
          "GRL",
          "VEN",
          "COD",
          "MRT",
          "COD",
          "ZMB",
          "ARG",
          "RUS",
          "RUS",
          "CAN",
          "CHN",
          "BRA",
          "MAR",
          "RUS",
          "RUS",
          "RUS",
          "PNG",
          "AUS",
          "USA",
          "USA",
          "CHN",
          "CAN",
          "GBR",
          "MEX",
          "RUS",
          "AUS",
          "CAN",
          "MRT",
          "SDN",
          "RUS",
          "RUS",
          "RUS",
          "AUS",
          "USA",
          "RUS",
          "RUS",
          "MLI",
          "BRA",
          "JPN",
          "CHL",
          "IRN",
          "TON",
          "USA",
          "ROU",
          "UKR",
          "MNG",
          "DZA",
          "CUB",
          "GNB",
          "TUR",
          "CHN",
          "RUS",
          "EGY",
          "RUS",
          "KAZ",
          "DEU",
          "BRA",
          "UZB",
          "USA",
          "USA",
          "UKR",
          "ARG",
          "CHN",
          "IND",
          "RUS",
          "CAN",
          "RUS",
          "COD",
          "LBY",
          "CAN",
          "MYS",
          "IND",
          "FRA",
          "MMR",
          "GUY",
          "GRL",
          "MLI",
          "CAN",
          "CAN",
          "IND",
          "BRA",
          "RUS",
          "CAN",
          "MDG",
          "USA",
          "DZA",
          "JPN",
          "NZL",
          "BOL",
          "USA",
          "TCD",
          "GRC",
          "MNG",
          "NER",
          "USA",
          "AFG",
          "USA",
          "DZA",
          "KAZ",
          "NZL",
          "BRA",
          "IDN",
          "CAN",
          "AUS",
          "ESP",
          "CHN",
          "UZB",
          "USA",
          "CAN",
          "AUS",
          "COL",
          "AUS",
          "USA",
          "RUS",
          "AUS",
          "CAN",
          "IRN",
          "BOL",
          "SAU",
          "BEN",
          "COL",
          "ETH",
          "ARG",
          "IDN",
          "EGY",
          "PER",
          "AUS",
          "GAB",
          "DZA",
          "USA",
          "CAN",
          "RUS",
          "SUR",
          "CHN",
          "AFG",
          "GAB",
          "NOR",
          "TKM",
          "USA",
          "GRC",
          "CHL",
          "USA",
          "AUS",
          "CAN",
          "RUS",
          "RUS",
          "CAN",
          "SWE",
          "RUS",
          "LBY",
          "CAN",
          "USA",
          "BRA",
          "USA",
          "AFG",
          "IND",
          "TKM",
          "CHN",
          "ARG",
          "SYR",
          "RUS",
          "SLB",
          "USA",
          "IRN",
          "RUS",
          "IDN",
          "SDN",
          "RUS",
          "MNG",
          "COD",
          "RUS",
          "USA",
          "RUS",
          "RUS",
          "IRL",
          "CAN",
          "KAZ",
          "CAN",
          "RUS",
          "IND",
          "CHN",
          "USA",
          "USA",
          "BRA",
          "ARG",
          "VEN",
          "SAU",
          "SAU",
          "NOR",
          "MRT",
          "AUS",
          "SDN",
          "MLI",
          "RUS",
          "USA",
          "YEM",
          "CHN",
          "KGZ",
          "VNM",
          "USA",
          "AUS",
          "IND",
          "CAN",
          "CAN",
          "CAN",
          "CHN",
          "VEN",
          "BRA",
          "IRN",
          "IDN",
          "CAN",
          "BRA",
          "CAN",
          "ARG",
          "SDN",
          "PLW",
          "RUS",
          "RUS",
          "VNM",
          "COD",
          "BRA",
          "RUS",
          "KAZ",
          "AUS",
          "AUS",
          "DEU",
          "EGY",
          "LAO",
          "IDN",
          "CAN",
          "BOL",
          "COD",
          "CHN",
          "TZA",
          "COL",
          "BRA",
          "RUS",
          "MNG",
          "ARG",
          "ETH",
          "NAM",
          "PAK",
          "EGY",
          "IND",
          "MAR",
          "GAB",
          "EGY",
          "BOL",
          "DNK",
          "TUR",
          "USA",
          "CAN",
          "RUS",
          "KAZ",
          "CHN",
          "KAZ",
          "COL",
          "BOL",
          "CHL",
          "CAN",
          "RUS",
          "RUS",
          "ROU",
          "RUS",
          "NZL",
          "IDN",
          "VUT",
          "CAN",
          "USA",
          "MOZ",
          "FRA",
          "CHN",
          "IDN",
          "RUS",
          "CAN",
          "RUS",
          "GRL",
          "SDN",
          "BRA",
          "CHN",
          "LBY",
          "TUR",
          "ZAF",
          "KAZ",
          "USA",
          "RUS",
          "ARG",
          "NLD",
          "IDN",
          "MAR",
          "CHN",
          "CAN",
          "RUS",
          "SOM",
          "CHN",
          "USA",
          "USA",
          "PAK",
          "KAZ",
          "USA",
          "USA",
          "AGO",
          "MRT",
          "ESP",
          "AUS",
          "TKM",
          "IND",
          "CAN",
          "LBY",
          "CHL",
          "CAN",
          "IND",
          "EST",
          "DJI",
          "COD",
          "CAN",
          "USA",
          "IDN",
          "RUS",
          "TCD",
          "CHN",
          "AUS",
          "MNG",
          "MEX",
          "USA",
          "CHN",
          "LBY",
          "RUS",
          "SYC",
          "TGO",
          "CAN",
          "CAN",
          "AUS",
          "CHL",
          "CAN",
          "CAN",
          "KAZ",
          "CHN",
          "JAM",
          "SWE",
          "CHN",
          "AGO"
         ],
         "type": "choropleth",
         "z": [
          6.666666666666667,
          10,
          0,
          0,
          0,
          0,
          0,
          6.666666666666667,
          0,
          0.47619047619047616,
          0.1111111111111111
         ]
        }
       ],
       "layout": {
        "autosize": true,
        "geo": {
         "bgcolor": "#D4D4D4",
         "lakecolor": "#D4D4D4",
         "landcolor": "#D4D4D4",
         "projection": {
          "type": "equirectangular"
         },
         "showcoastlines": true,
         "showframe": true,
         "visible": true
        },
        "margin": {
         "b": 50,
         "l": 0,
         "r": 0,
         "t": 50
        },
        "template": {
         "data": {
          "bar": [
           {
            "error_x": {
             "color": "#2a3f5f"
            },
            "error_y": {
             "color": "#2a3f5f"
            },
            "marker": {
             "line": {
              "color": "#E5ECF6",
              "width": 0.5
             },
             "pattern": {
              "fillmode": "overlay",
              "size": 10,
              "solidity": 0.2
             }
            },
            "type": "bar"
           }
          ],
          "barpolar": [
           {
            "marker": {
             "line": {
              "color": "#E5ECF6",
              "width": 0.5
             },
             "pattern": {
              "fillmode": "overlay",
              "size": 10,
              "solidity": 0.2
             }
            },
            "type": "barpolar"
           }
          ],
          "carpet": [
           {
            "aaxis": {
             "endlinecolor": "#2a3f5f",
             "gridcolor": "white",
             "linecolor": "white",
             "minorgridcolor": "white",
             "startlinecolor": "#2a3f5f"
            },
            "baxis": {
             "endlinecolor": "#2a3f5f",
             "gridcolor": "white",
             "linecolor": "white",
             "minorgridcolor": "white",
             "startlinecolor": "#2a3f5f"
            },
            "type": "carpet"
           }
          ],
          "choropleth": [
           {
            "colorbar": {
             "outlinewidth": 0,
             "ticks": ""
            },
            "type": "choropleth"
           }
          ],
          "contour": [
           {
            "colorbar": {
             "outlinewidth": 0,
             "ticks": ""
            },
            "colorscale": [
             [
              0,
              "#0d0887"
             ],
             [
              0.1111111111111111,
              "#46039f"
             ],
             [
              0.2222222222222222,
              "#7201a8"
             ],
             [
              0.3333333333333333,
              "#9c179e"
             ],
             [
              0.4444444444444444,
              "#bd3786"
             ],
             [
              0.5555555555555556,
              "#d8576b"
             ],
             [
              0.6666666666666666,
              "#ed7953"
             ],
             [
              0.7777777777777778,
              "#fb9f3a"
             ],
             [
              0.8888888888888888,
              "#fdca26"
             ],
             [
              1,
              "#f0f921"
             ]
            ],
            "type": "contour"
           }
          ],
          "contourcarpet": [
           {
            "colorbar": {
             "outlinewidth": 0,
             "ticks": ""
            },
            "type": "contourcarpet"
           }
          ],
          "heatmap": [
           {
            "colorbar": {
             "outlinewidth": 0,
             "ticks": ""
            },
            "colorscale": [
             [
              0,
              "#0d0887"
             ],
             [
              0.1111111111111111,
              "#46039f"
             ],
             [
              0.2222222222222222,
              "#7201a8"
             ],
             [
              0.3333333333333333,
              "#9c179e"
             ],
             [
              0.4444444444444444,
              "#bd3786"
             ],
             [
              0.5555555555555556,
              "#d8576b"
             ],
             [
              0.6666666666666666,
              "#ed7953"
             ],
             [
              0.7777777777777778,
              "#fb9f3a"
             ],
             [
              0.8888888888888888,
              "#fdca26"
             ],
             [
              1,
              "#f0f921"
             ]
            ],
            "type": "heatmap"
           }
          ],
          "heatmapgl": [
           {
            "colorbar": {
             "outlinewidth": 0,
             "ticks": ""
            },
            "colorscale": [
             [
              0,
              "#0d0887"
             ],
             [
              0.1111111111111111,
              "#46039f"
             ],
             [
              0.2222222222222222,
              "#7201a8"
             ],
             [
              0.3333333333333333,
              "#9c179e"
             ],
             [
              0.4444444444444444,
              "#bd3786"
             ],
             [
              0.5555555555555556,
              "#d8576b"
             ],
             [
              0.6666666666666666,
              "#ed7953"
             ],
             [
              0.7777777777777778,
              "#fb9f3a"
             ],
             [
              0.8888888888888888,
              "#fdca26"
             ],
             [
              1,
              "#f0f921"
             ]
            ],
            "type": "heatmapgl"
           }
          ],
          "histogram": [
           {
            "marker": {
             "pattern": {
              "fillmode": "overlay",
              "size": 10,
              "solidity": 0.2
             }
            },
            "type": "histogram"
           }
          ],
          "histogram2d": [
           {
            "colorbar": {
             "outlinewidth": 0,
             "ticks": ""
            },
            "colorscale": [
             [
              0,
              "#0d0887"
             ],
             [
              0.1111111111111111,
              "#46039f"
             ],
             [
              0.2222222222222222,
              "#7201a8"
             ],
             [
              0.3333333333333333,
              "#9c179e"
             ],
             [
              0.4444444444444444,
              "#bd3786"
             ],
             [
              0.5555555555555556,
              "#d8576b"
             ],
             [
              0.6666666666666666,
              "#ed7953"
             ],
             [
              0.7777777777777778,
              "#fb9f3a"
             ],
             [
              0.8888888888888888,
              "#fdca26"
             ],
             [
              1,
              "#f0f921"
             ]
            ],
            "type": "histogram2d"
           }
          ],
          "histogram2dcontour": [
           {
            "colorbar": {
             "outlinewidth": 0,
             "ticks": ""
            },
            "colorscale": [
             [
              0,
              "#0d0887"
             ],
             [
              0.1111111111111111,
              "#46039f"
             ],
             [
              0.2222222222222222,
              "#7201a8"
             ],
             [
              0.3333333333333333,
              "#9c179e"
             ],
             [
              0.4444444444444444,
              "#bd3786"
             ],
             [
              0.5555555555555556,
              "#d8576b"
             ],
             [
              0.6666666666666666,
              "#ed7953"
             ],
             [
              0.7777777777777778,
              "#fb9f3a"
             ],
             [
              0.8888888888888888,
              "#fdca26"
             ],
             [
              1,
              "#f0f921"
             ]
            ],
            "type": "histogram2dcontour"
           }
          ],
          "mesh3d": [
           {
            "colorbar": {
             "outlinewidth": 0,
             "ticks": ""
            },
            "type": "mesh3d"
           }
          ],
          "parcoords": [
           {
            "line": {
             "colorbar": {
              "outlinewidth": 0,
              "ticks": ""
             }
            },
            "type": "parcoords"
           }
          ],
          "pie": [
           {
            "automargin": true,
            "type": "pie"
           }
          ],
          "scatter": [
           {
            "marker": {
             "colorbar": {
              "outlinewidth": 0,
              "ticks": ""
             }
            },
            "type": "scatter"
           }
          ],
          "scatter3d": [
           {
            "line": {
             "colorbar": {
              "outlinewidth": 0,
              "ticks": ""
             }
            },
            "marker": {
             "colorbar": {
              "outlinewidth": 0,
              "ticks": ""
             }
            },
            "type": "scatter3d"
           }
          ],
          "scattercarpet": [
           {
            "marker": {
             "colorbar": {
              "outlinewidth": 0,
              "ticks": ""
             }
            },
            "type": "scattercarpet"
           }
          ],
          "scattergeo": [
           {
            "marker": {
             "colorbar": {
              "outlinewidth": 0,
              "ticks": ""
             }
            },
            "type": "scattergeo"
           }
          ],
          "scattergl": [
           {
            "marker": {
             "colorbar": {
              "outlinewidth": 0,
              "ticks": ""
             }
            },
            "type": "scattergl"
           }
          ],
          "scattermapbox": [
           {
            "marker": {
             "colorbar": {
              "outlinewidth": 0,
              "ticks": ""
             }
            },
            "type": "scattermapbox"
           }
          ],
          "scatterpolar": [
           {
            "marker": {
             "colorbar": {
              "outlinewidth": 0,
              "ticks": ""
             }
            },
            "type": "scatterpolar"
           }
          ],
          "scatterpolargl": [
           {
            "marker": {
             "colorbar": {
              "outlinewidth": 0,
              "ticks": ""
             }
            },
            "type": "scatterpolargl"
           }
          ],
          "scatterternary": [
           {
            "marker": {
             "colorbar": {
              "outlinewidth": 0,
              "ticks": ""
             }
            },
            "type": "scatterternary"
           }
          ],
          "surface": [
           {
            "colorbar": {
             "outlinewidth": 0,
             "ticks": ""
            },
            "colorscale": [
             [
              0,
              "#0d0887"
             ],
             [
              0.1111111111111111,
              "#46039f"
             ],
             [
              0.2222222222222222,
              "#7201a8"
             ],
             [
              0.3333333333333333,
              "#9c179e"
             ],
             [
              0.4444444444444444,
              "#bd3786"
             ],
             [
              0.5555555555555556,
              "#d8576b"
             ],
             [
              0.6666666666666666,
              "#ed7953"
             ],
             [
              0.7777777777777778,
              "#fb9f3a"
             ],
             [
              0.8888888888888888,
              "#fdca26"
             ],
             [
              1,
              "#f0f921"
             ]
            ],
            "type": "surface"
           }
          ],
          "table": [
           {
            "cells": {
             "fill": {
              "color": "#EBF0F8"
             },
             "line": {
              "color": "white"
             }
            },
            "header": {
             "fill": {
              "color": "#C8D4E3"
             },
             "line": {
              "color": "white"
             }
            },
            "type": "table"
           }
          ]
         },
         "layout": {
          "annotationdefaults": {
           "arrowcolor": "#2a3f5f",
           "arrowhead": 0,
           "arrowwidth": 1
          },
          "autotypenumbers": "strict",
          "coloraxis": {
           "colorbar": {
            "outlinewidth": 0,
            "ticks": ""
           }
          },
          "colorscale": {
           "diverging": [
            [
             0,
             "#8e0152"
            ],
            [
             0.1,
             "#c51b7d"
            ],
            [
             0.2,
             "#de77ae"
            ],
            [
             0.3,
             "#f1b6da"
            ],
            [
             0.4,
             "#fde0ef"
            ],
            [
             0.5,
             "#f7f7f7"
            ],
            [
             0.6,
             "#e6f5d0"
            ],
            [
             0.7,
             "#b8e186"
            ],
            [
             0.8,
             "#7fbc41"
            ],
            [
             0.9,
             "#4d9221"
            ],
            [
             1,
             "#276419"
            ]
           ],
           "sequential": [
            [
             0,
             "#0d0887"
            ],
            [
             0.1111111111111111,
             "#46039f"
            ],
            [
             0.2222222222222222,
             "#7201a8"
            ],
            [
             0.3333333333333333,
             "#9c179e"
            ],
            [
             0.4444444444444444,
             "#bd3786"
            ],
            [
             0.5555555555555556,
             "#d8576b"
            ],
            [
             0.6666666666666666,
             "#ed7953"
            ],
            [
             0.7777777777777778,
             "#fb9f3a"
            ],
            [
             0.8888888888888888,
             "#fdca26"
            ],
            [
             1,
             "#f0f921"
            ]
           ],
           "sequentialminus": [
            [
             0,
             "#0d0887"
            ],
            [
             0.1111111111111111,
             "#46039f"
            ],
            [
             0.2222222222222222,
             "#7201a8"
            ],
            [
             0.3333333333333333,
             "#9c179e"
            ],
            [
             0.4444444444444444,
             "#bd3786"
            ],
            [
             0.5555555555555556,
             "#d8576b"
            ],
            [
             0.6666666666666666,
             "#ed7953"
            ],
            [
             0.7777777777777778,
             "#fb9f3a"
            ],
            [
             0.8888888888888888,
             "#fdca26"
            ],
            [
             1,
             "#f0f921"
            ]
           ]
          },
          "colorway": [
           "#636efa",
           "#EF553B",
           "#00cc96",
           "#ab63fa",
           "#FFA15A",
           "#19d3f3",
           "#FF6692",
           "#B6E880",
           "#FF97FF",
           "#FECB52"
          ],
          "font": {
           "color": "#2a3f5f"
          },
          "geo": {
           "bgcolor": "white",
           "lakecolor": "white",
           "landcolor": "#E5ECF6",
           "showlakes": true,
           "showland": true,
           "subunitcolor": "white"
          },
          "hoverlabel": {
           "align": "left"
          },
          "hovermode": "closest",
          "mapbox": {
           "style": "light"
          },
          "paper_bgcolor": "white",
          "plot_bgcolor": "#E5ECF6",
          "polar": {
           "angularaxis": {
            "gridcolor": "white",
            "linecolor": "white",
            "ticks": ""
           },
           "bgcolor": "#E5ECF6",
           "radialaxis": {
            "gridcolor": "white",
            "linecolor": "white",
            "ticks": ""
           }
          },
          "scene": {
           "xaxis": {
            "backgroundcolor": "#E5ECF6",
            "gridcolor": "white",
            "gridwidth": 2,
            "linecolor": "white",
            "showbackground": true,
            "ticks": "",
            "zerolinecolor": "white"
           },
           "yaxis": {
            "backgroundcolor": "#E5ECF6",
            "gridcolor": "white",
            "gridwidth": 2,
            "linecolor": "white",
            "showbackground": true,
            "ticks": "",
            "zerolinecolor": "white"
           },
           "zaxis": {
            "backgroundcolor": "#E5ECF6",
            "gridcolor": "white",
            "gridwidth": 2,
            "linecolor": "white",
            "showbackground": true,
            "ticks": "",
            "zerolinecolor": "white"
           }
          },
          "shapedefaults": {
           "line": {
            "color": "#2a3f5f"
           }
          },
          "ternary": {
           "aaxis": {
            "gridcolor": "white",
            "linecolor": "white",
            "ticks": ""
           },
           "baxis": {
            "gridcolor": "white",
            "linecolor": "white",
            "ticks": ""
           },
           "bgcolor": "#E5ECF6",
           "caxis": {
            "gridcolor": "white",
            "linecolor": "white",
            "ticks": ""
           }
          },
          "title": {
           "x": 0.05
          },
          "xaxis": {
           "automargin": true,
           "gridcolor": "white",
           "linecolor": "white",
           "ticks": "",
           "title": {
            "standoff": 15
           },
           "zerolinecolor": "white",
           "zerolinewidth": 2
          },
          "yaxis": {
           "automargin": true,
           "gridcolor": "white",
           "linecolor": "white",
           "ticks": "",
           "title": {
            "standoff": 15
           },
           "zerolinecolor": "white",
           "zerolinewidth": 2
          }
         }
        },
        "title": {
         "text": "google performance"
        },
        "width": 1000
       }
      }
     },
     "metadata": {},
     "output_type": "display_data"
    }
   ],
   "source": [
    "display_company_choropleth('google','Blues')"
   ]
  },
  {
   "cell_type": "code",
   "execution_count": 17,
   "metadata": {},
   "outputs": [
    {
     "data": {
      "application/vnd.plotly.v1+json": {
       "config": {
        "plotlyServerURL": "https://plot.ly"
       },
       "data": [
        {
         "colorbar": {
          "title": {
           "text": "Average results per request"
          },
          "x": 0.9,
          "y": 0.59
         },
         "colorscale": [
          [
           0,
           "rgb(247,252,245)"
          ],
          [
           0.125,
           "rgb(229,245,224)"
          ],
          [
           0.25,
           "rgb(199,233,192)"
          ],
          [
           0.375,
           "rgb(161,217,155)"
          ],
          [
           0.5,
           "rgb(116,196,118)"
          ],
          [
           0.625,
           "rgb(65,171,93)"
          ],
          [
           0.75,
           "rgb(35,139,69)"
          ],
          [
           0.875,
           "rgb(0,109,44)"
          ],
          [
           1,
           "rgb(0,68,27)"
          ]
         ],
         "locations": [
          "DEU",
          "GBR",
          "JPN",
          "MYS",
          "DNK",
          "ESP",
          "NZL",
          "FRA",
          "USA",
          "CAN",
          "AUS"
         ],
         "marker": {
          "line": {
           "color": "darkgray",
           "width": 0.5
          }
         },
         "text": [
          "ARG",
          "SDN",
          "AUS",
          "GBR",
          "FRA",
          "IDN",
          "ROU",
          "CHN",
          "CMR",
          "CAN",
          "IRN",
          "CAN",
          "BRA",
          "RUS",
          "RUS",
          "PNG",
          "CAN",
          "SWE",
          "RUS",
          "USA",
          "PNG",
          "DEU",
          "ETH",
          "NOR",
          "PHL",
          "CHN",
          "USA",
          "RUS",
          "CAN",
          "ZMB",
          "RUS",
          "NOR",
          "MOZ",
          "CHN",
          "AUS",
          "COD",
          "ZWE",
          "ZAF",
          "BWA",
          "ZAF",
          "RUS",
          "NOR",
          "ARG",
          "ZAF",
          "NER",
          "USA",
          "TCD",
          "COD",
          "DZA",
          "YEM",
          "MRT",
          "POL",
          "RUS",
          "YEM",
          "NGA",
          "POL",
          "CHN",
          "MEX",
          "AGO",
          "USA",
          "RUS",
          "RUS",
          "PRK",
          "CAN",
          "DNK",
          "COD",
          "RUS",
          "CAN",
          "JPN",
          "NGA",
          "CAN",
          "MRT",
          "TCD",
          "JPN",
          "USA",
          "CHN",
          "CUB",
          "GIN",
          "USA",
          "ARG",
          "SAU",
          "LBY",
          "RUS",
          "RUS",
          "CPV",
          "IND",
          "RUS",
          "RUS",
          "MEX",
          "GRL",
          "VEN",
          "COD",
          "MRT",
          "COD",
          "ZMB",
          "ARG",
          "RUS",
          "RUS",
          "CAN",
          "CHN",
          "BRA",
          "MAR",
          "RUS",
          "RUS",
          "RUS",
          "PNG",
          "AUS",
          "USA",
          "USA",
          "CHN",
          "CAN",
          "GBR",
          "MEX",
          "RUS",
          "AUS",
          "CAN",
          "MRT",
          "SDN",
          "RUS",
          "RUS",
          "RUS",
          "AUS",
          "USA",
          "RUS",
          "RUS",
          "MLI",
          "BRA",
          "JPN",
          "CHL",
          "IRN",
          "TON",
          "USA",
          "ROU",
          "UKR",
          "MNG",
          "DZA",
          "CUB",
          "GNB",
          "TUR",
          "CHN",
          "RUS",
          "EGY",
          "RUS",
          "KAZ",
          "DEU",
          "BRA",
          "UZB",
          "USA",
          "USA",
          "UKR",
          "ARG",
          "CHN",
          "IND",
          "RUS",
          "CAN",
          "RUS",
          "COD",
          "LBY",
          "CAN",
          "MYS",
          "IND",
          "FRA",
          "MMR",
          "GUY",
          "GRL",
          "MLI",
          "CAN",
          "CAN",
          "IND",
          "BRA",
          "RUS",
          "CAN",
          "MDG",
          "USA",
          "DZA",
          "JPN",
          "NZL",
          "BOL",
          "USA",
          "TCD",
          "GRC",
          "MNG",
          "NER",
          "USA",
          "AFG",
          "USA",
          "DZA",
          "KAZ",
          "NZL",
          "BRA",
          "IDN",
          "CAN",
          "AUS",
          "ESP",
          "CHN",
          "UZB",
          "USA",
          "CAN",
          "AUS",
          "COL",
          "AUS",
          "USA",
          "RUS",
          "AUS",
          "CAN",
          "IRN",
          "BOL",
          "SAU",
          "BEN",
          "COL",
          "ETH",
          "ARG",
          "IDN",
          "EGY",
          "PER",
          "AUS",
          "GAB",
          "DZA",
          "USA",
          "CAN",
          "RUS",
          "SUR",
          "CHN",
          "AFG",
          "GAB",
          "NOR",
          "TKM",
          "USA",
          "GRC",
          "CHL",
          "USA",
          "AUS",
          "CAN",
          "RUS",
          "RUS",
          "CAN",
          "SWE",
          "RUS",
          "LBY",
          "CAN",
          "USA",
          "BRA",
          "USA",
          "AFG",
          "IND",
          "TKM",
          "CHN",
          "ARG",
          "SYR",
          "RUS",
          "SLB",
          "USA",
          "IRN",
          "RUS",
          "IDN",
          "SDN",
          "RUS",
          "MNG",
          "COD",
          "RUS",
          "USA",
          "RUS",
          "RUS",
          "IRL",
          "CAN",
          "KAZ",
          "CAN",
          "RUS",
          "IND",
          "CHN",
          "USA",
          "USA",
          "BRA",
          "ARG",
          "VEN",
          "SAU",
          "SAU",
          "NOR",
          "MRT",
          "AUS",
          "SDN",
          "MLI",
          "RUS",
          "USA",
          "YEM",
          "CHN",
          "KGZ",
          "VNM",
          "USA",
          "AUS",
          "IND",
          "CAN",
          "CAN",
          "CAN",
          "CHN",
          "VEN",
          "BRA",
          "IRN",
          "IDN",
          "CAN",
          "BRA",
          "CAN",
          "ARG",
          "SDN",
          "PLW",
          "RUS",
          "RUS",
          "VNM",
          "COD",
          "BRA",
          "RUS",
          "KAZ",
          "AUS",
          "AUS",
          "DEU",
          "EGY",
          "LAO",
          "IDN",
          "CAN",
          "BOL",
          "COD",
          "CHN",
          "TZA",
          "COL",
          "BRA",
          "RUS",
          "MNG",
          "ARG",
          "ETH",
          "NAM",
          "PAK",
          "EGY",
          "IND",
          "MAR",
          "GAB",
          "EGY",
          "BOL",
          "DNK",
          "TUR",
          "USA",
          "CAN",
          "RUS",
          "KAZ",
          "CHN",
          "KAZ",
          "COL",
          "BOL",
          "CHL",
          "CAN",
          "RUS",
          "RUS",
          "ROU",
          "RUS",
          "NZL",
          "IDN",
          "VUT",
          "CAN",
          "USA",
          "MOZ",
          "FRA",
          "CHN",
          "IDN",
          "RUS",
          "CAN",
          "RUS",
          "GRL",
          "SDN",
          "BRA",
          "CHN",
          "LBY",
          "TUR",
          "ZAF",
          "KAZ",
          "USA",
          "RUS",
          "ARG",
          "NLD",
          "IDN",
          "MAR",
          "CHN",
          "CAN",
          "RUS",
          "SOM",
          "CHN",
          "USA",
          "USA",
          "PAK",
          "KAZ",
          "USA",
          "USA",
          "AGO",
          "MRT",
          "ESP",
          "AUS",
          "TKM",
          "IND",
          "CAN",
          "LBY",
          "CHL",
          "CAN",
          "IND",
          "EST",
          "DJI",
          "COD",
          "CAN",
          "USA",
          "IDN",
          "RUS",
          "TCD",
          "CHN",
          "AUS",
          "MNG",
          "MEX",
          "USA",
          "CHN",
          "LBY",
          "RUS",
          "SYC",
          "TGO",
          "CAN",
          "CAN",
          "AUS",
          "CHL",
          "CAN",
          "CAN",
          "KAZ",
          "CHN",
          "JAM",
          "SWE",
          "CHN",
          "AGO"
         ],
         "type": "choropleth",
         "z": [
          33,
          12.5,
          8.75,
          3,
          1.5,
          0.5,
          1.6666666666666667,
          0.6666666666666666,
          2.6315789473684212,
          0.21428571428571427,
          0.05555555555555555
         ]
        }
       ],
       "layout": {
        "autosize": true,
        "geo": {
         "bgcolor": "#D4D4D4",
         "lakecolor": "#D4D4D4",
         "landcolor": "#D4D4D4",
         "projection": {
          "type": "equirectangular"
         },
         "showcoastlines": true,
         "showframe": true,
         "visible": true
        },
        "margin": {
         "b": 50,
         "l": 0,
         "r": 0,
         "t": 50
        },
        "template": {
         "data": {
          "bar": [
           {
            "error_x": {
             "color": "#2a3f5f"
            },
            "error_y": {
             "color": "#2a3f5f"
            },
            "marker": {
             "line": {
              "color": "#E5ECF6",
              "width": 0.5
             },
             "pattern": {
              "fillmode": "overlay",
              "size": 10,
              "solidity": 0.2
             }
            },
            "type": "bar"
           }
          ],
          "barpolar": [
           {
            "marker": {
             "line": {
              "color": "#E5ECF6",
              "width": 0.5
             },
             "pattern": {
              "fillmode": "overlay",
              "size": 10,
              "solidity": 0.2
             }
            },
            "type": "barpolar"
           }
          ],
          "carpet": [
           {
            "aaxis": {
             "endlinecolor": "#2a3f5f",
             "gridcolor": "white",
             "linecolor": "white",
             "minorgridcolor": "white",
             "startlinecolor": "#2a3f5f"
            },
            "baxis": {
             "endlinecolor": "#2a3f5f",
             "gridcolor": "white",
             "linecolor": "white",
             "minorgridcolor": "white",
             "startlinecolor": "#2a3f5f"
            },
            "type": "carpet"
           }
          ],
          "choropleth": [
           {
            "colorbar": {
             "outlinewidth": 0,
             "ticks": ""
            },
            "type": "choropleth"
           }
          ],
          "contour": [
           {
            "colorbar": {
             "outlinewidth": 0,
             "ticks": ""
            },
            "colorscale": [
             [
              0,
              "#0d0887"
             ],
             [
              0.1111111111111111,
              "#46039f"
             ],
             [
              0.2222222222222222,
              "#7201a8"
             ],
             [
              0.3333333333333333,
              "#9c179e"
             ],
             [
              0.4444444444444444,
              "#bd3786"
             ],
             [
              0.5555555555555556,
              "#d8576b"
             ],
             [
              0.6666666666666666,
              "#ed7953"
             ],
             [
              0.7777777777777778,
              "#fb9f3a"
             ],
             [
              0.8888888888888888,
              "#fdca26"
             ],
             [
              1,
              "#f0f921"
             ]
            ],
            "type": "contour"
           }
          ],
          "contourcarpet": [
           {
            "colorbar": {
             "outlinewidth": 0,
             "ticks": ""
            },
            "type": "contourcarpet"
           }
          ],
          "heatmap": [
           {
            "colorbar": {
             "outlinewidth": 0,
             "ticks": ""
            },
            "colorscale": [
             [
              0,
              "#0d0887"
             ],
             [
              0.1111111111111111,
              "#46039f"
             ],
             [
              0.2222222222222222,
              "#7201a8"
             ],
             [
              0.3333333333333333,
              "#9c179e"
             ],
             [
              0.4444444444444444,
              "#bd3786"
             ],
             [
              0.5555555555555556,
              "#d8576b"
             ],
             [
              0.6666666666666666,
              "#ed7953"
             ],
             [
              0.7777777777777778,
              "#fb9f3a"
             ],
             [
              0.8888888888888888,
              "#fdca26"
             ],
             [
              1,
              "#f0f921"
             ]
            ],
            "type": "heatmap"
           }
          ],
          "heatmapgl": [
           {
            "colorbar": {
             "outlinewidth": 0,
             "ticks": ""
            },
            "colorscale": [
             [
              0,
              "#0d0887"
             ],
             [
              0.1111111111111111,
              "#46039f"
             ],
             [
              0.2222222222222222,
              "#7201a8"
             ],
             [
              0.3333333333333333,
              "#9c179e"
             ],
             [
              0.4444444444444444,
              "#bd3786"
             ],
             [
              0.5555555555555556,
              "#d8576b"
             ],
             [
              0.6666666666666666,
              "#ed7953"
             ],
             [
              0.7777777777777778,
              "#fb9f3a"
             ],
             [
              0.8888888888888888,
              "#fdca26"
             ],
             [
              1,
              "#f0f921"
             ]
            ],
            "type": "heatmapgl"
           }
          ],
          "histogram": [
           {
            "marker": {
             "pattern": {
              "fillmode": "overlay",
              "size": 10,
              "solidity": 0.2
             }
            },
            "type": "histogram"
           }
          ],
          "histogram2d": [
           {
            "colorbar": {
             "outlinewidth": 0,
             "ticks": ""
            },
            "colorscale": [
             [
              0,
              "#0d0887"
             ],
             [
              0.1111111111111111,
              "#46039f"
             ],
             [
              0.2222222222222222,
              "#7201a8"
             ],
             [
              0.3333333333333333,
              "#9c179e"
             ],
             [
              0.4444444444444444,
              "#bd3786"
             ],
             [
              0.5555555555555556,
              "#d8576b"
             ],
             [
              0.6666666666666666,
              "#ed7953"
             ],
             [
              0.7777777777777778,
              "#fb9f3a"
             ],
             [
              0.8888888888888888,
              "#fdca26"
             ],
             [
              1,
              "#f0f921"
             ]
            ],
            "type": "histogram2d"
           }
          ],
          "histogram2dcontour": [
           {
            "colorbar": {
             "outlinewidth": 0,
             "ticks": ""
            },
            "colorscale": [
             [
              0,
              "#0d0887"
             ],
             [
              0.1111111111111111,
              "#46039f"
             ],
             [
              0.2222222222222222,
              "#7201a8"
             ],
             [
              0.3333333333333333,
              "#9c179e"
             ],
             [
              0.4444444444444444,
              "#bd3786"
             ],
             [
              0.5555555555555556,
              "#d8576b"
             ],
             [
              0.6666666666666666,
              "#ed7953"
             ],
             [
              0.7777777777777778,
              "#fb9f3a"
             ],
             [
              0.8888888888888888,
              "#fdca26"
             ],
             [
              1,
              "#f0f921"
             ]
            ],
            "type": "histogram2dcontour"
           }
          ],
          "mesh3d": [
           {
            "colorbar": {
             "outlinewidth": 0,
             "ticks": ""
            },
            "type": "mesh3d"
           }
          ],
          "parcoords": [
           {
            "line": {
             "colorbar": {
              "outlinewidth": 0,
              "ticks": ""
             }
            },
            "type": "parcoords"
           }
          ],
          "pie": [
           {
            "automargin": true,
            "type": "pie"
           }
          ],
          "scatter": [
           {
            "marker": {
             "colorbar": {
              "outlinewidth": 0,
              "ticks": ""
             }
            },
            "type": "scatter"
           }
          ],
          "scatter3d": [
           {
            "line": {
             "colorbar": {
              "outlinewidth": 0,
              "ticks": ""
             }
            },
            "marker": {
             "colorbar": {
              "outlinewidth": 0,
              "ticks": ""
             }
            },
            "type": "scatter3d"
           }
          ],
          "scattercarpet": [
           {
            "marker": {
             "colorbar": {
              "outlinewidth": 0,
              "ticks": ""
             }
            },
            "type": "scattercarpet"
           }
          ],
          "scattergeo": [
           {
            "marker": {
             "colorbar": {
              "outlinewidth": 0,
              "ticks": ""
             }
            },
            "type": "scattergeo"
           }
          ],
          "scattergl": [
           {
            "marker": {
             "colorbar": {
              "outlinewidth": 0,
              "ticks": ""
             }
            },
            "type": "scattergl"
           }
          ],
          "scattermapbox": [
           {
            "marker": {
             "colorbar": {
              "outlinewidth": 0,
              "ticks": ""
             }
            },
            "type": "scattermapbox"
           }
          ],
          "scatterpolar": [
           {
            "marker": {
             "colorbar": {
              "outlinewidth": 0,
              "ticks": ""
             }
            },
            "type": "scatterpolar"
           }
          ],
          "scatterpolargl": [
           {
            "marker": {
             "colorbar": {
              "outlinewidth": 0,
              "ticks": ""
             }
            },
            "type": "scatterpolargl"
           }
          ],
          "scatterternary": [
           {
            "marker": {
             "colorbar": {
              "outlinewidth": 0,
              "ticks": ""
             }
            },
            "type": "scatterternary"
           }
          ],
          "surface": [
           {
            "colorbar": {
             "outlinewidth": 0,
             "ticks": ""
            },
            "colorscale": [
             [
              0,
              "#0d0887"
             ],
             [
              0.1111111111111111,
              "#46039f"
             ],
             [
              0.2222222222222222,
              "#7201a8"
             ],
             [
              0.3333333333333333,
              "#9c179e"
             ],
             [
              0.4444444444444444,
              "#bd3786"
             ],
             [
              0.5555555555555556,
              "#d8576b"
             ],
             [
              0.6666666666666666,
              "#ed7953"
             ],
             [
              0.7777777777777778,
              "#fb9f3a"
             ],
             [
              0.8888888888888888,
              "#fdca26"
             ],
             [
              1,
              "#f0f921"
             ]
            ],
            "type": "surface"
           }
          ],
          "table": [
           {
            "cells": {
             "fill": {
              "color": "#EBF0F8"
             },
             "line": {
              "color": "white"
             }
            },
            "header": {
             "fill": {
              "color": "#C8D4E3"
             },
             "line": {
              "color": "white"
             }
            },
            "type": "table"
           }
          ]
         },
         "layout": {
          "annotationdefaults": {
           "arrowcolor": "#2a3f5f",
           "arrowhead": 0,
           "arrowwidth": 1
          },
          "autotypenumbers": "strict",
          "coloraxis": {
           "colorbar": {
            "outlinewidth": 0,
            "ticks": ""
           }
          },
          "colorscale": {
           "diverging": [
            [
             0,
             "#8e0152"
            ],
            [
             0.1,
             "#c51b7d"
            ],
            [
             0.2,
             "#de77ae"
            ],
            [
             0.3,
             "#f1b6da"
            ],
            [
             0.4,
             "#fde0ef"
            ],
            [
             0.5,
             "#f7f7f7"
            ],
            [
             0.6,
             "#e6f5d0"
            ],
            [
             0.7,
             "#b8e186"
            ],
            [
             0.8,
             "#7fbc41"
            ],
            [
             0.9,
             "#4d9221"
            ],
            [
             1,
             "#276419"
            ]
           ],
           "sequential": [
            [
             0,
             "#0d0887"
            ],
            [
             0.1111111111111111,
             "#46039f"
            ],
            [
             0.2222222222222222,
             "#7201a8"
            ],
            [
             0.3333333333333333,
             "#9c179e"
            ],
            [
             0.4444444444444444,
             "#bd3786"
            ],
            [
             0.5555555555555556,
             "#d8576b"
            ],
            [
             0.6666666666666666,
             "#ed7953"
            ],
            [
             0.7777777777777778,
             "#fb9f3a"
            ],
            [
             0.8888888888888888,
             "#fdca26"
            ],
            [
             1,
             "#f0f921"
            ]
           ],
           "sequentialminus": [
            [
             0,
             "#0d0887"
            ],
            [
             0.1111111111111111,
             "#46039f"
            ],
            [
             0.2222222222222222,
             "#7201a8"
            ],
            [
             0.3333333333333333,
             "#9c179e"
            ],
            [
             0.4444444444444444,
             "#bd3786"
            ],
            [
             0.5555555555555556,
             "#d8576b"
            ],
            [
             0.6666666666666666,
             "#ed7953"
            ],
            [
             0.7777777777777778,
             "#fb9f3a"
            ],
            [
             0.8888888888888888,
             "#fdca26"
            ],
            [
             1,
             "#f0f921"
            ]
           ]
          },
          "colorway": [
           "#636efa",
           "#EF553B",
           "#00cc96",
           "#ab63fa",
           "#FFA15A",
           "#19d3f3",
           "#FF6692",
           "#B6E880",
           "#FF97FF",
           "#FECB52"
          ],
          "font": {
           "color": "#2a3f5f"
          },
          "geo": {
           "bgcolor": "white",
           "lakecolor": "white",
           "landcolor": "#E5ECF6",
           "showlakes": true,
           "showland": true,
           "subunitcolor": "white"
          },
          "hoverlabel": {
           "align": "left"
          },
          "hovermode": "closest",
          "mapbox": {
           "style": "light"
          },
          "paper_bgcolor": "white",
          "plot_bgcolor": "#E5ECF6",
          "polar": {
           "angularaxis": {
            "gridcolor": "white",
            "linecolor": "white",
            "ticks": ""
           },
           "bgcolor": "#E5ECF6",
           "radialaxis": {
            "gridcolor": "white",
            "linecolor": "white",
            "ticks": ""
           }
          },
          "scene": {
           "xaxis": {
            "backgroundcolor": "#E5ECF6",
            "gridcolor": "white",
            "gridwidth": 2,
            "linecolor": "white",
            "showbackground": true,
            "ticks": "",
            "zerolinecolor": "white"
           },
           "yaxis": {
            "backgroundcolor": "#E5ECF6",
            "gridcolor": "white",
            "gridwidth": 2,
            "linecolor": "white",
            "showbackground": true,
            "ticks": "",
            "zerolinecolor": "white"
           },
           "zaxis": {
            "backgroundcolor": "#E5ECF6",
            "gridcolor": "white",
            "gridwidth": 2,
            "linecolor": "white",
            "showbackground": true,
            "ticks": "",
            "zerolinecolor": "white"
           }
          },
          "shapedefaults": {
           "line": {
            "color": "#2a3f5f"
           }
          },
          "ternary": {
           "aaxis": {
            "gridcolor": "white",
            "linecolor": "white",
            "ticks": ""
           },
           "baxis": {
            "gridcolor": "white",
            "linecolor": "white",
            "ticks": ""
           },
           "bgcolor": "#E5ECF6",
           "caxis": {
            "gridcolor": "white",
            "linecolor": "white",
            "ticks": ""
           }
          },
          "title": {
           "x": 0.05
          },
          "xaxis": {
           "automargin": true,
           "gridcolor": "white",
           "linecolor": "white",
           "ticks": "",
           "title": {
            "standoff": 15
           },
           "zerolinecolor": "white",
           "zerolinewidth": 2
          },
          "yaxis": {
           "automargin": true,
           "gridcolor": "white",
           "linecolor": "white",
           "ticks": "",
           "title": {
            "standoff": 15
           },
           "zerolinecolor": "white",
           "zerolinewidth": 2
          }
         }
        },
        "title": {
         "text": "yelp performance"
        },
        "width": 1000
       }
      }
     },
     "metadata": {},
     "output_type": "display_data"
    }
   ],
   "source": [
    "display_company_choropleth('yelp','Greens')"
   ]
  },
  {
   "cell_type": "code",
   "execution_count": 19,
   "metadata": {},
   "outputs": [
    {
     "data": {
      "text/html": [
       "<div>\n",
       "<style scoped>\n",
       "    .dataframe tbody tr th:only-of-type {\n",
       "        vertical-align: middle;\n",
       "    }\n",
       "\n",
       "    .dataframe tbody tr th {\n",
       "        vertical-align: top;\n",
       "    }\n",
       "\n",
       "    .dataframe thead th {\n",
       "        text-align: right;\n",
       "    }\n",
       "</style>\n",
       "<table border=\"1\" class=\"dataframe\">\n",
       "  <thead>\n",
       "    <tr style=\"text-align: right;\">\n",
       "      <th></th>\n",
       "      <th>yelp</th>\n",
       "      <th>four_square</th>\n",
       "      <th>google</th>\n",
       "      <th>total</th>\n",
       "      <th>r</th>\n",
       "      <th>g</th>\n",
       "      <th>b</th>\n",
       "    </tr>\n",
       "    <tr>\n",
       "      <th>code</th>\n",
       "      <th></th>\n",
       "      <th></th>\n",
       "      <th></th>\n",
       "      <th></th>\n",
       "      <th></th>\n",
       "      <th></th>\n",
       "      <th></th>\n",
       "    </tr>\n",
       "  </thead>\n",
       "  <tbody>\n",
       "    <tr>\n",
       "      <th>USA</th>\n",
       "      <td>100.0</td>\n",
       "      <td>457.0</td>\n",
       "      <td>0.0</td>\n",
       "      <td>557.0</td>\n",
       "      <td>0.820467</td>\n",
       "      <td>0.179533</td>\n",
       "      <td>0.000000</td>\n",
       "    </tr>\n",
       "    <tr>\n",
       "      <th>CAN</th>\n",
       "      <td>9.0</td>\n",
       "      <td>194.0</td>\n",
       "      <td>20.0</td>\n",
       "      <td>223.0</td>\n",
       "      <td>0.869955</td>\n",
       "      <td>0.040359</td>\n",
       "      <td>0.089686</td>\n",
       "    </tr>\n",
       "    <tr>\n",
       "      <th>BRA</th>\n",
       "      <td>0.0</td>\n",
       "      <td>214.0</td>\n",
       "      <td>6.0</td>\n",
       "      <td>220.0</td>\n",
       "      <td>0.972727</td>\n",
       "      <td>0.000000</td>\n",
       "      <td>0.027273</td>\n",
       "    </tr>\n",
       "    <tr>\n",
       "      <th>DEU</th>\n",
       "      <td>99.0</td>\n",
       "      <td>90.0</td>\n",
       "      <td>20.0</td>\n",
       "      <td>209.0</td>\n",
       "      <td>0.430622</td>\n",
       "      <td>0.473684</td>\n",
       "      <td>0.095694</td>\n",
       "    </tr>\n",
       "    <tr>\n",
       "      <th>RUS</th>\n",
       "      <td>0.0</td>\n",
       "      <td>205.0</td>\n",
       "      <td>3.0</td>\n",
       "      <td>208.0</td>\n",
       "      <td>0.985577</td>\n",
       "      <td>0.000000</td>\n",
       "      <td>0.014423</td>\n",
       "    </tr>\n",
       "    <tr>\n",
       "      <th>...</th>\n",
       "      <td>...</td>\n",
       "      <td>...</td>\n",
       "      <td>...</td>\n",
       "      <td>...</td>\n",
       "      <td>...</td>\n",
       "      <td>...</td>\n",
       "      <td>...</td>\n",
       "    </tr>\n",
       "    <tr>\n",
       "      <th>MRT</th>\n",
       "      <td>0.0</td>\n",
       "      <td>0.0</td>\n",
       "      <td>0.0</td>\n",
       "      <td>0.0</td>\n",
       "      <td>0.000000</td>\n",
       "      <td>0.000000</td>\n",
       "      <td>0.000000</td>\n",
       "    </tr>\n",
       "    <tr>\n",
       "      <th>NAM</th>\n",
       "      <td>0.0</td>\n",
       "      <td>0.0</td>\n",
       "      <td>0.0</td>\n",
       "      <td>0.0</td>\n",
       "      <td>0.000000</td>\n",
       "      <td>0.000000</td>\n",
       "      <td>0.000000</td>\n",
       "    </tr>\n",
       "    <tr>\n",
       "      <th>NER</th>\n",
       "      <td>0.0</td>\n",
       "      <td>0.0</td>\n",
       "      <td>0.0</td>\n",
       "      <td>0.0</td>\n",
       "      <td>0.000000</td>\n",
       "      <td>0.000000</td>\n",
       "      <td>0.000000</td>\n",
       "    </tr>\n",
       "    <tr>\n",
       "      <th>NGA</th>\n",
       "      <td>0.0</td>\n",
       "      <td>0.0</td>\n",
       "      <td>0.0</td>\n",
       "      <td>0.0</td>\n",
       "      <td>0.000000</td>\n",
       "      <td>0.000000</td>\n",
       "      <td>0.000000</td>\n",
       "    </tr>\n",
       "    <tr>\n",
       "      <th>ZWE</th>\n",
       "      <td>0.0</td>\n",
       "      <td>0.0</td>\n",
       "      <td>0.0</td>\n",
       "      <td>0.0</td>\n",
       "      <td>0.000000</td>\n",
       "      <td>0.000000</td>\n",
       "      <td>0.000000</td>\n",
       "    </tr>\n",
       "  </tbody>\n",
       "</table>\n",
       "<p>90 rows × 7 columns</p>\n",
       "</div>"
      ],
      "text/plain": [
       "       yelp  four_square  google  total         r         g         b\n",
       "code                                                                 \n",
       "USA   100.0        457.0     0.0  557.0  0.820467  0.179533  0.000000\n",
       "CAN     9.0        194.0    20.0  223.0  0.869955  0.040359  0.089686\n",
       "BRA     0.0        214.0     6.0  220.0  0.972727  0.000000  0.027273\n",
       "DEU    99.0         90.0    20.0  209.0  0.430622  0.473684  0.095694\n",
       "RUS     0.0        205.0     3.0  208.0  0.985577  0.000000  0.014423\n",
       "...     ...          ...     ...    ...       ...       ...       ...\n",
       "MRT     0.0          0.0     0.0    0.0  0.000000  0.000000  0.000000\n",
       "NAM     0.0          0.0     0.0    0.0  0.000000  0.000000  0.000000\n",
       "NER     0.0          0.0     0.0    0.0  0.000000  0.000000  0.000000\n",
       "NGA     0.0          0.0     0.0    0.0  0.000000  0.000000  0.000000\n",
       "ZWE     0.0          0.0     0.0    0.0  0.000000  0.000000  0.000000\n",
       "\n",
       "[90 rows x 7 columns]"
      ]
     },
     "execution_count": 19,
     "metadata": {},
     "output_type": "execute_result"
    }
   ],
   "source": [
    "#Create color values for company comparison chart\n",
    "sum_df['r'] = sum_df['four_square'] / sum_df['total']\n",
    "sum_df['g'] = sum_df['yelp'] / sum_df['total']\n",
    "sum_df['b'] = sum_df['google'] / sum_df['total']\n",
    "sum_df = sum_df.fillna(0)\n",
    "sum_df"
   ]
  },
  {
   "cell_type": "code",
   "execution_count": 20,
   "metadata": {},
   "outputs": [
    {
     "data": {
      "application/vnd.plotly.v1+json": {
       "config": {
        "plotlyServerURL": "https://plot.ly"
       },
       "data": [
        {
         "colorbar": {
          "title": {
           "text": "Average results per request"
          }
         },
         "marker": {
          "line": {
           "color": "darkgray",
           "width": 0.5
          }
         },
         "type": "choropleth"
        },
        {
         "colorscale": [
          [
           0,
           "rgb(209.21903052064633,45.78096947935368,0.0)"
          ],
          [
           1,
           "rgb(209.21903052064633,45.78096947935368,0.0)"
          ]
         ],
         "locations": [
          "USA"
         ],
         "showscale": false,
         "text": "Four Square:82.05%, Yelp:17.95%, Google:0.0%",
         "type": "choropleth",
         "z": [
          1
         ]
        },
        {
         "colorscale": [
          [
           0,
           "rgb(221.8385650224215,10.291479820627803,22.86995515695067)"
          ],
          [
           1,
           "rgb(221.8385650224215,10.291479820627803,22.86995515695067)"
          ]
         ],
         "locations": [
          "CAN"
         ],
         "showscale": false,
         "text": "Four Square:87.0%, Yelp:4.04%, Google:8.97%",
         "type": "choropleth",
         "z": [
          1
         ]
        },
        {
         "colorscale": [
          [
           0,
           "rgb(248.04545454545456,0.0,6.954545454545454)"
          ],
          [
           1,
           "rgb(248.04545454545456,0.0,6.954545454545454)"
          ]
         ],
         "locations": [
          "BRA"
         ],
         "showscale": false,
         "text": "Four Square:97.27%, Yelp:0.0%, Google:2.73%",
         "type": "choropleth",
         "z": [
          1
         ]
        },
        {
         "colorscale": [
          [
           0,
           "rgb(109.8086124401914,120.78947368421052,24.401913875598087)"
          ],
          [
           1,
           "rgb(109.8086124401914,120.78947368421052,24.401913875598087)"
          ]
         ],
         "locations": [
          "DEU"
         ],
         "showscale": false,
         "text": "Four Square:43.06%, Yelp:47.37%, Google:9.57%",
         "type": "choropleth",
         "z": [
          1
         ]
        },
        {
         "colorscale": [
          [
           0,
           "rgb(251.3221153846154,0.0,3.6778846153846154)"
          ],
          [
           1,
           "rgb(251.3221153846154,0.0,3.6778846153846154)"
          ]
         ],
         "locations": [
          "RUS"
         ],
         "showscale": false,
         "text": "Four Square:98.56%, Yelp:0.0%, Google:1.44%",
         "type": "choropleth",
         "z": [
          1
         ]
        },
        {
         "colorscale": [
          [
           0,
           "rgb(197.41935483870967,57.58064516129032,0.0)"
          ],
          [
           1,
           "rgb(197.41935483870967,57.58064516129032,0.0)"
          ]
         ],
         "locations": [
          "JPN"
         ],
         "showscale": false,
         "text": "Four Square:77.42%, Yelp:22.58%, Google:0.0%",
         "type": "choropleth",
         "z": [
          1
         ]
        },
        {
         "colorscale": [
          [
           0,
           "rgb(208.63636363636365,0.0,46.36363636363637)"
          ],
          [
           1,
           "rgb(208.63636363636365,0.0,46.36363636363637)"
          ]
         ],
         "locations": [
          "ROU"
         ],
         "showscale": false,
         "text": "Four Square:81.82%, Yelp:0.0%, Google:18.18%",
         "type": "choropleth",
         "z": [
          1
         ]
        },
        {
         "colorscale": [
          [
           0,
           "rgb(145.7142857142857,60.71428571428571,48.57142857142857)"
          ],
          [
           1,
           "rgb(145.7142857142857,60.71428571428571,48.57142857142857)"
          ]
         ],
         "locations": [
          "GBR"
         ],
         "showscale": false,
         "text": "Four Square:57.14%, Yelp:23.81%, Google:19.05%",
         "type": "choropleth",
         "z": [
          1
         ]
        },
        {
         "colorscale": [
          [
           0,
           "rgb(255.0,0.0,0.0)"
          ],
          [
           1,
           "rgb(255.0,0.0,0.0)"
          ]
         ],
         "locations": [
          "TUR"
         ],
         "showscale": false,
         "text": "Four Square:100.0%, Yelp:0.0%, Google:0.0%",
         "type": "choropleth",
         "z": [
          1
         ]
        },
        {
         "colorscale": [
          [
           0,
           "rgb(234.7159090909091,0.0,20.28409090909091)"
          ],
          [
           1,
           "rgb(234.7159090909091,0.0,20.28409090909091)"
          ]
         ],
         "locations": [
          "CHN"
         ],
         "showscale": false,
         "text": "Four Square:92.05%, Yelp:0.0%, Google:7.95%",
         "type": "choropleth",
         "z": [
          1
         ]
        },
        {
         "colorscale": [
          [
           0,
           "rgb(255.0,0.0,0.0)"
          ],
          [
           1,
           "rgb(255.0,0.0,0.0)"
          ]
         ],
         "locations": [
          "IND"
         ],
         "showscale": false,
         "text": "Four Square:100.0%, Yelp:0.0%, Google:0.0%",
         "type": "choropleth",
         "z": [
          1
         ]
        },
        {
         "colorscale": [
          [
           0,
           "rgb(238.44155844155844,16.558441558441558,0.0)"
          ],
          [
           1,
           "rgb(238.44155844155844,16.558441558441558,0.0)"
          ]
         ],
         "locations": [
          "NZL"
         ],
         "showscale": false,
         "text": "Four Square:93.51%, Yelp:6.49%, Google:0.0%",
         "type": "choropleth",
         "z": [
          1
         ]
        },
        {
         "colorscale": [
          [
           0,
           "rgb(236.7857142857143,0.0,18.21428571428571)"
          ],
          [
           1,
           "rgb(236.7857142857143,0.0,18.21428571428571)"
          ]
         ],
         "locations": [
          "IRN"
         ],
         "showscale": false,
         "text": "Four Square:92.86%, Yelp:0.0%, Google:7.14%",
         "type": "choropleth",
         "z": [
          1
         ]
        },
        {
         "colorscale": [
          [
           0,
           "rgb(243.5820895522388,3.8059701492537314,7.611940298507463)"
          ],
          [
           1,
           "rgb(243.5820895522388,3.8059701492537314,7.611940298507463)"
          ]
         ],
         "locations": [
          "AUS"
         ],
         "showscale": false,
         "text": "Four Square:95.52%, Yelp:1.49%, Google:2.99%",
         "type": "choropleth",
         "z": [
          1
         ]
        },
        {
         "colorscale": [
          [
           0,
           "rgb(242.85714285714283,12.142857142857142,0.0)"
          ],
          [
           1,
           "rgb(242.85714285714283,12.142857142857142,0.0)"
          ]
         ],
         "locations": [
          "DNK"
         ],
         "showscale": false,
         "text": "Four Square:95.24%, Yelp:4.76%, Google:0.0%",
         "type": "choropleth",
         "z": [
          1
         ]
        },
        {
         "colorscale": [
          [
           0,
           "rgb(250.81967213114754,4.180327868852459,0.0)"
          ],
          [
           1,
           "rgb(250.81967213114754,4.180327868852459,0.0)"
          ]
         ],
         "locations": [
          "ESP"
         ],
         "showscale": false,
         "text": "Four Square:98.36%, Yelp:1.64%, Google:0.0%",
         "type": "choropleth",
         "z": [
          1
         ]
        },
        {
         "colorscale": [
          [
           0,
           "rgb(255.0,0.0,0.0)"
          ],
          [
           1,
           "rgb(255.0,0.0,0.0)"
          ]
         ],
         "locations": [
          "GRC"
         ],
         "showscale": false,
         "text": "Four Square:100.0%, Yelp:0.0%, Google:0.0%",
         "type": "choropleth",
         "z": [
          1
         ]
        },
        {
         "colorscale": [
          [
           0,
           "rgb(255.0,0.0,0.0)"
          ],
          [
           1,
           "rgb(255.0,0.0,0.0)"
          ]
         ],
         "locations": [
          "POL"
         ],
         "showscale": false,
         "text": "Four Square:100.0%, Yelp:0.0%, Google:0.0%",
         "type": "choropleth",
         "z": [
          1
         ]
        },
        {
         "colorscale": [
          [
           0,
           "rgb(255.0,0.0,0.0)"
          ],
          [
           1,
           "rgb(255.0,0.0,0.0)"
          ]
         ],
         "locations": [
          "MAR"
         ],
         "showscale": false,
         "text": "Four Square:100.0%, Yelp:0.0%, Google:0.0%",
         "type": "choropleth",
         "z": [
          1
         ]
        },
        {
         "colorscale": [
          [
           0,
           "rgb(149.1509433962264,9.622641509433961,96.22641509433963)"
          ],
          [
           1,
           "rgb(149.1509433962264,9.622641509433961,96.22641509433963)"
          ]
         ],
         "locations": [
          "FRA"
         ],
         "showscale": false,
         "text": "Four Square:58.49%, Yelp:3.77%, Google:37.74%",
         "type": "choropleth",
         "z": [
          1
         ]
        },
        {
         "colorscale": [
          [
           0,
           "rgb(239.7,0.0,15.299999999999999)"
          ],
          [
           1,
           "rgb(239.7,0.0,15.299999999999999)"
          ]
         ],
         "locations": [
          "IDN"
         ],
         "showscale": false,
         "text": "Four Square:94.0%, Yelp:0.0%, Google:6.0%",
         "type": "choropleth",
         "z": [
          1
         ]
        },
        {
         "colorscale": [
          [
           0,
           "rgb(255.0,0.0,0.0)"
          ],
          [
           1,
           "rgb(255.0,0.0,0.0)"
          ]
         ],
         "locations": [
          "MEX"
         ],
         "showscale": false,
         "text": "Four Square:100.0%, Yelp:0.0%, Google:0.0%",
         "type": "choropleth",
         "z": [
          1
         ]
        },
        {
         "colorscale": [
          [
           0,
           "rgb(255.0,0.0,0.0)"
          ],
          [
           1,
           "rgb(255.0,0.0,0.0)"
          ]
         ],
         "locations": [
          "KAZ"
         ],
         "showscale": false,
         "text": "Four Square:100.0%, Yelp:0.0%, Google:0.0%",
         "type": "choropleth",
         "z": [
          1
         ]
        },
        {
         "colorscale": [
          [
           0,
           "rgb(231.8181818181818,23.181818181818183,0.0)"
          ],
          [
           1,
           "rgb(231.8181818181818,23.181818181818183,0.0)"
          ]
         ],
         "locations": [
          "MYS"
         ],
         "showscale": false,
         "text": "Four Square:90.91%, Yelp:9.09%, Google:0.0%",
         "type": "choropleth",
         "z": [
          1
         ]
        },
        {
         "colorscale": [
          [
           0,
           "rgb(255.0,0.0,0.0)"
          ],
          [
           1,
           "rgb(255.0,0.0,0.0)"
          ]
         ],
         "locations": [
          "ARG"
         ],
         "showscale": false,
         "text": "Four Square:100.0%, Yelp:0.0%, Google:0.0%",
         "type": "choropleth",
         "z": [
          1
         ]
        },
        {
         "colorscale": [
          [
           0,
           "rgb(255.0,0.0,0.0)"
          ],
          [
           1,
           "rgb(255.0,0.0,0.0)"
          ]
         ],
         "locations": [
          "EGY"
         ],
         "showscale": false,
         "text": "Four Square:100.0%, Yelp:0.0%, Google:0.0%",
         "type": "choropleth",
         "z": [
          1
         ]
        },
        {
         "colorscale": [
          [
           0,
           "rgb(255.0,0.0,0.0)"
          ],
          [
           1,
           "rgb(255.0,0.0,0.0)"
          ]
         ],
         "locations": [
          "IRL"
         ],
         "showscale": false,
         "text": "Four Square:100.0%, Yelp:0.0%, Google:0.0%",
         "type": "choropleth",
         "z": [
          1
         ]
        },
        {
         "colorscale": [
          [
           0,
           "rgb(255.0,0.0,0.0)"
          ],
          [
           1,
           "rgb(255.0,0.0,0.0)"
          ]
         ],
         "locations": [
          "EST"
         ],
         "showscale": false,
         "text": "Four Square:100.0%, Yelp:0.0%, Google:0.0%",
         "type": "choropleth",
         "z": [
          1
         ]
        },
        {
         "colorscale": [
          [
           0,
           "rgb(255.0,0.0,0.0)"
          ],
          [
           1,
           "rgb(255.0,0.0,0.0)"
          ]
         ],
         "locations": [
          "PHL"
         ],
         "showscale": false,
         "text": "Four Square:100.0%, Yelp:0.0%, Google:0.0%",
         "type": "choropleth",
         "z": [
          1
         ]
        },
        {
         "colorscale": [
          [
           0,
           "rgb(255.0,0.0,0.0)"
          ],
          [
           1,
           "rgb(255.0,0.0,0.0)"
          ]
         ],
         "locations": [
          "NLD"
         ],
         "showscale": false,
         "text": "Four Square:100.0%, Yelp:0.0%, Google:0.0%",
         "type": "choropleth",
         "z": [
          1
         ]
        },
        {
         "colorscale": [
          [
           0,
           "rgb(238.0,0.0,17.0)"
          ],
          [
           1,
           "rgb(238.0,0.0,17.0)"
          ]
         ],
         "locations": [
          "NOR"
         ],
         "showscale": false,
         "text": "Four Square:93.33%, Yelp:0.0%, Google:6.67%",
         "type": "choropleth",
         "z": [
          1
         ]
        },
        {
         "colorscale": [
          [
           0,
           "rgb(255.0,0.0,0.0)"
          ],
          [
           1,
           "rgb(255.0,0.0,0.0)"
          ]
         ],
         "locations": [
          "VEN"
         ],
         "showscale": false,
         "text": "Four Square:100.0%, Yelp:0.0%, Google:0.0%",
         "type": "choropleth",
         "z": [
          1
         ]
        },
        {
         "colorscale": [
          [
           0,
           "rgb(255.0,0.0,0.0)"
          ],
          [
           1,
           "rgb(255.0,0.0,0.0)"
          ]
         ],
         "locations": [
          "CUB"
         ],
         "showscale": false,
         "text": "Four Square:100.0%, Yelp:0.0%, Google:0.0%",
         "type": "choropleth",
         "z": [
          1
         ]
        },
        {
         "colorscale": [
          [
           0,
           "rgb(255.0,0.0,0.0)"
          ],
          [
           1,
           "rgb(255.0,0.0,0.0)"
          ]
         ],
         "locations": [
          "COL"
         ],
         "showscale": false,
         "text": "Four Square:100.0%, Yelp:0.0%, Google:0.0%",
         "type": "choropleth",
         "z": [
          1
         ]
        },
        {
         "colorscale": [
          [
           0,
           "rgb(221.7391304347826,0.0,33.26086956521739)"
          ],
          [
           1,
           "rgb(221.7391304347826,0.0,33.26086956521739)"
          ]
         ],
         "locations": [
          "SWE"
         ],
         "showscale": false,
         "text": "Four Square:86.96%, Yelp:0.0%, Google:13.04%",
         "type": "choropleth",
         "z": [
          1
         ]
        },
        {
         "colorscale": [
          [
           0,
           "rgb(0.0,0.0,255.0)"
          ],
          [
           1,
           "rgb(0.0,0.0,255.0)"
          ]
         ],
         "locations": [
          "PNG"
         ],
         "showscale": false,
         "text": "Four Square:0.0%, Yelp:0.0%, Google:100.0%",
         "type": "choropleth",
         "z": [
          1
         ]
        },
        {
         "colorscale": [
          [
           0,
           "rgb(255.0,0.0,0.0)"
          ],
          [
           1,
           "rgb(255.0,0.0,0.0)"
          ]
         ],
         "locations": [
          "CHL"
         ],
         "showscale": false,
         "text": "Four Square:100.0%, Yelp:0.0%, Google:0.0%",
         "type": "choropleth",
         "z": [
          1
         ]
        },
        {
         "colorscale": [
          [
           0,
           "rgb(255.0,0.0,0.0)"
          ],
          [
           1,
           "rgb(255.0,0.0,0.0)"
          ]
         ],
         "locations": [
          "SDN"
         ],
         "showscale": false,
         "text": "Four Square:100.0%, Yelp:0.0%, Google:0.0%",
         "type": "choropleth",
         "z": [
          1
         ]
        },
        {
         "colorscale": [
          [
           0,
           "rgb(255.0,0.0,0.0)"
          ],
          [
           1,
           "rgb(255.0,0.0,0.0)"
          ]
         ],
         "locations": [
          "ZAF"
         ],
         "showscale": false,
         "text": "Four Square:100.0%, Yelp:0.0%, Google:0.0%",
         "type": "choropleth",
         "z": [
          1
         ]
        },
        {
         "colorscale": [
          [
           0,
           "rgb(46.36363636363637,0.0,208.63636363636365)"
          ],
          [
           1,
           "rgb(46.36363636363637,0.0,208.63636363636365)"
          ]
         ],
         "locations": [
          "CMR"
         ],
         "showscale": false,
         "text": "Four Square:18.18%, Yelp:0.0%, Google:81.82%",
         "type": "choropleth",
         "z": [
          1
         ]
        },
        {
         "colorscale": [
          [
           0,
           "rgb(255.0,0.0,0.0)"
          ],
          [
           1,
           "rgb(255.0,0.0,0.0)"
          ]
         ],
         "locations": [
          "TGO"
         ],
         "showscale": false,
         "text": "Four Square:100.0%, Yelp:0.0%, Google:0.0%",
         "type": "choropleth",
         "z": [
          1
         ]
        },
        {
         "colorscale": [
          [
           0,
           "rgb(255.0,0.0,0.0)"
          ],
          [
           1,
           "rgb(255.0,0.0,0.0)"
          ]
         ],
         "locations": [
          "UKR"
         ],
         "showscale": false,
         "text": "Four Square:100.0%, Yelp:0.0%, Google:0.0%",
         "type": "choropleth",
         "z": [
          1
         ]
        },
        {
         "colorscale": [
          [
           0,
           "rgb(255.0,0.0,0.0)"
          ],
          [
           1,
           "rgb(255.0,0.0,0.0)"
          ]
         ],
         "locations": [
          "TON"
         ],
         "showscale": false,
         "text": "Four Square:100.0%, Yelp:0.0%, Google:0.0%",
         "type": "choropleth",
         "z": [
          1
         ]
        },
        {
         "colorscale": [
          [
           0,
           "rgb(255.0,0.0,0.0)"
          ],
          [
           1,
           "rgb(255.0,0.0,0.0)"
          ]
         ],
         "locations": [
          "VUT"
         ],
         "showscale": false,
         "text": "Four Square:100.0%, Yelp:0.0%, Google:0.0%",
         "type": "choropleth",
         "z": [
          1
         ]
        },
        {
         "colorscale": [
          [
           0,
           "rgb(255.0,0.0,0.0)"
          ],
          [
           1,
           "rgb(255.0,0.0,0.0)"
          ]
         ],
         "locations": [
          "PAK"
         ],
         "showscale": false,
         "text": "Four Square:100.0%, Yelp:0.0%, Google:0.0%",
         "type": "choropleth",
         "z": [
          1
         ]
        },
        {
         "colorscale": [
          [
           0,
           "rgb(255.0,0.0,0.0)"
          ],
          [
           1,
           "rgb(255.0,0.0,0.0)"
          ]
         ],
         "locations": [
          "CPV"
         ],
         "showscale": false,
         "text": "Four Square:100.0%, Yelp:0.0%, Google:0.0%",
         "type": "choropleth",
         "z": [
          1
         ]
        },
        {
         "colorscale": [
          [
           0,
           "rgb(255.0,0.0,0.0)"
          ],
          [
           1,
           "rgb(255.0,0.0,0.0)"
          ]
         ],
         "locations": [
          "PER"
         ],
         "showscale": false,
         "text": "Four Square:100.0%, Yelp:0.0%, Google:0.0%",
         "type": "choropleth",
         "z": [
          1
         ]
        },
        {
         "colorscale": [
          [
           0,
           "rgb(255.0,0.0,0.0)"
          ],
          [
           1,
           "rgb(255.0,0.0,0.0)"
          ]
         ],
         "locations": [
          "SAU"
         ],
         "showscale": false,
         "text": "Four Square:100.0%, Yelp:0.0%, Google:0.0%",
         "type": "choropleth",
         "z": [
          1
         ]
        },
        {
         "colorscale": [
          [
           0,
           "rgb(255.0,0.0,0.0)"
          ],
          [
           1,
           "rgb(255.0,0.0,0.0)"
          ]
         ],
         "locations": [
          "SUR"
         ],
         "showscale": false,
         "text": "Four Square:100.0%, Yelp:0.0%, Google:0.0%",
         "type": "choropleth",
         "z": [
          1
         ]
        },
        {
         "colorscale": [
          [
           0,
           "rgb(255.0,0.0,0.0)"
          ],
          [
           1,
           "rgb(255.0,0.0,0.0)"
          ]
         ],
         "locations": [
          "GNB"
         ],
         "showscale": false,
         "text": "Four Square:100.0%, Yelp:0.0%, Google:0.0%",
         "type": "choropleth",
         "z": [
          1
         ]
        },
        {
         "colorscale": [
          [
           0,
           "rgb(255.0,0.0,0.0)"
          ],
          [
           1,
           "rgb(255.0,0.0,0.0)"
          ]
         ],
         "locations": [
          "BWA"
         ],
         "showscale": false,
         "text": "Four Square:100.0%, Yelp:0.0%, Google:0.0%",
         "type": "choropleth",
         "z": [
          1
         ]
        },
        {
         "colorscale": [
          [
           0,
           "rgb(255.0,0.0,0.0)"
          ],
          [
           1,
           "rgb(255.0,0.0,0.0)"
          ]
         ],
         "locations": [
          "GAB"
         ],
         "showscale": false,
         "text": "Four Square:100.0%, Yelp:0.0%, Google:0.0%",
         "type": "choropleth",
         "z": [
          1
         ]
        },
        {
         "colorscale": [
          [
           0,
           "rgb(255.0,0.0,0.0)"
          ],
          [
           1,
           "rgb(255.0,0.0,0.0)"
          ]
         ],
         "locations": [
          "BEN"
         ],
         "showscale": false,
         "text": "Four Square:100.0%, Yelp:0.0%, Google:0.0%",
         "type": "choropleth",
         "z": [
          1
         ]
        },
        {
         "colorscale": [
          [
           0,
           "white"
          ],
          [
           1,
           "white"
          ]
         ],
         "locations": [
          "TKM"
         ],
         "showscale": false,
         "text": "Four Square:0.0%, Yelp:0.0%, Google:0.0%",
         "type": "choropleth",
         "z": [
          1
         ]
        },
        {
         "colorscale": [
          [
           0,
           "white"
          ],
          [
           1,
           "white"
          ]
         ],
         "locations": [
          "SLB"
         ],
         "showscale": false,
         "text": "Four Square:0.0%, Yelp:0.0%, Google:0.0%",
         "type": "choropleth",
         "z": [
          1
         ]
        },
        {
         "colorscale": [
          [
           0,
           "white"
          ],
          [
           1,
           "white"
          ]
         ],
         "locations": [
          "SOM"
         ],
         "showscale": false,
         "text": "Four Square:0.0%, Yelp:0.0%, Google:0.0%",
         "type": "choropleth",
         "z": [
          1
         ]
        },
        {
         "colorscale": [
          [
           0,
           "white"
          ],
          [
           1,
           "white"
          ]
         ],
         "locations": [
          "SYC"
         ],
         "showscale": false,
         "text": "Four Square:0.0%, Yelp:0.0%, Google:0.0%",
         "type": "choropleth",
         "z": [
          1
         ]
        },
        {
         "colorscale": [
          [
           0,
           "white"
          ],
          [
           1,
           "white"
          ]
         ],
         "locations": [
          "SYR"
         ],
         "showscale": false,
         "text": "Four Square:0.0%, Yelp:0.0%, Google:0.0%",
         "type": "choropleth",
         "z": [
          1
         ]
        },
        {
         "colorscale": [
          [
           0,
           "white"
          ],
          [
           1,
           "white"
          ]
         ],
         "locations": [
          "TCD"
         ],
         "showscale": false,
         "text": "Four Square:0.0%, Yelp:0.0%, Google:0.0%",
         "type": "choropleth",
         "z": [
          1
         ]
        },
        {
         "colorscale": [
          [
           0,
           "white"
          ],
          [
           1,
           "white"
          ]
         ],
         "locations": [
          "ZMB"
         ],
         "showscale": false,
         "text": "Four Square:0.0%, Yelp:0.0%, Google:0.0%",
         "type": "choropleth",
         "z": [
          1
         ]
        },
        {
         "colorscale": [
          [
           0,
           "white"
          ],
          [
           1,
           "white"
          ]
         ],
         "locations": [
          "TZA"
         ],
         "showscale": false,
         "text": "Four Square:0.0%, Yelp:0.0%, Google:0.0%",
         "type": "choropleth",
         "z": [
          1
         ]
        },
        {
         "colorscale": [
          [
           0,
           "white"
          ],
          [
           1,
           "white"
          ]
         ],
         "locations": [
          "UZB"
         ],
         "showscale": false,
         "text": "Four Square:0.0%, Yelp:0.0%, Google:0.0%",
         "type": "choropleth",
         "z": [
          1
         ]
        },
        {
         "colorscale": [
          [
           0,
           "white"
          ],
          [
           1,
           "white"
          ]
         ],
         "locations": [
          "YEM"
         ],
         "showscale": false,
         "text": "Four Square:0.0%, Yelp:0.0%, Google:0.0%",
         "type": "choropleth",
         "z": [
          1
         ]
        },
        {
         "colorscale": [
          [
           0,
           "white"
          ],
          [
           1,
           "white"
          ]
         ],
         "locations": [
          "VNM"
         ],
         "showscale": false,
         "text": "Four Square:0.0%, Yelp:0.0%, Google:0.0%",
         "type": "choropleth",
         "z": [
          1
         ]
        },
        {
         "colorscale": [
          [
           0,
           "white"
          ],
          [
           1,
           "white"
          ]
         ],
         "locations": [
          "AFG"
         ],
         "showscale": false,
         "text": "Four Square:0.0%, Yelp:0.0%, Google:0.0%",
         "type": "choropleth",
         "z": [
          1
         ]
        },
        {
         "colorscale": [
          [
           0,
           "white"
          ],
          [
           1,
           "white"
          ]
         ],
         "locations": [
          "MLI"
         ],
         "showscale": false,
         "text": "Four Square:0.0%, Yelp:0.0%, Google:0.0%",
         "type": "choropleth",
         "z": [
          1
         ]
        },
        {
         "colorscale": [
          [
           0,
           "white"
          ],
          [
           1,
           "white"
          ]
         ],
         "locations": [
          "PRK"
         ],
         "showscale": false,
         "text": "Four Square:0.0%, Yelp:0.0%, Google:0.0%",
         "type": "choropleth",
         "z": [
          1
         ]
        },
        {
         "colorscale": [
          [
           0,
           "white"
          ],
          [
           1,
           "white"
          ]
         ],
         "locations": [
          "PLW"
         ],
         "showscale": false,
         "text": "Four Square:0.0%, Yelp:0.0%, Google:0.0%",
         "type": "choropleth",
         "z": [
          1
         ]
        },
        {
         "colorscale": [
          [
           0,
           "white"
          ],
          [
           1,
           "white"
          ]
         ],
         "locations": [
          "BOL"
         ],
         "showscale": false,
         "text": "Four Square:0.0%, Yelp:0.0%, Google:0.0%",
         "type": "choropleth",
         "z": [
          1
         ]
        },
        {
         "colorscale": [
          [
           0,
           "white"
          ],
          [
           1,
           "white"
          ]
         ],
         "locations": [
          "COD"
         ],
         "showscale": false,
         "text": "Four Square:0.0%, Yelp:0.0%, Google:0.0%",
         "type": "choropleth",
         "z": [
          1
         ]
        },
        {
         "colorscale": [
          [
           0,
           "white"
          ],
          [
           1,
           "white"
          ]
         ],
         "locations": [
          "DJI"
         ],
         "showscale": false,
         "text": "Four Square:0.0%, Yelp:0.0%, Google:0.0%",
         "type": "choropleth",
         "z": [
          1
         ]
        },
        {
         "colorscale": [
          [
           0,
           "white"
          ],
          [
           1,
           "white"
          ]
         ],
         "locations": [
          "DZA"
         ],
         "showscale": false,
         "text": "Four Square:0.0%, Yelp:0.0%, Google:0.0%",
         "type": "choropleth",
         "z": [
          1
         ]
        },
        {
         "colorscale": [
          [
           0,
           "white"
          ],
          [
           1,
           "white"
          ]
         ],
         "locations": [
          "ETH"
         ],
         "showscale": false,
         "text": "Four Square:0.0%, Yelp:0.0%, Google:0.0%",
         "type": "choropleth",
         "z": [
          1
         ]
        },
        {
         "colorscale": [
          [
           0,
           "white"
          ],
          [
           1,
           "white"
          ]
         ],
         "locations": [
          "GIN"
         ],
         "showscale": false,
         "text": "Four Square:0.0%, Yelp:0.0%, Google:0.0%",
         "type": "choropleth",
         "z": [
          1
         ]
        },
        {
         "colorscale": [
          [
           0,
           "white"
          ],
          [
           1,
           "white"
          ]
         ],
         "locations": [
          "GRL"
         ],
         "showscale": false,
         "text": "Four Square:0.0%, Yelp:0.0%, Google:0.0%",
         "type": "choropleth",
         "z": [
          1
         ]
        },
        {
         "colorscale": [
          [
           0,
           "white"
          ],
          [
           1,
           "white"
          ]
         ],
         "locations": [
          "GUY"
         ],
         "showscale": false,
         "text": "Four Square:0.0%, Yelp:0.0%, Google:0.0%",
         "type": "choropleth",
         "z": [
          1
         ]
        },
        {
         "colorscale": [
          [
           0,
           "white"
          ],
          [
           1,
           "white"
          ]
         ],
         "locations": [
          "JAM"
         ],
         "showscale": false,
         "text": "Four Square:0.0%, Yelp:0.0%, Google:0.0%",
         "type": "choropleth",
         "z": [
          1
         ]
        },
        {
         "colorscale": [
          [
           0,
           "white"
          ],
          [
           1,
           "white"
          ]
         ],
         "locations": [
          "KGZ"
         ],
         "showscale": false,
         "text": "Four Square:0.0%, Yelp:0.0%, Google:0.0%",
         "type": "choropleth",
         "z": [
          1
         ]
        },
        {
         "colorscale": [
          [
           0,
           "white"
          ],
          [
           1,
           "white"
          ]
         ],
         "locations": [
          "LAO"
         ],
         "showscale": false,
         "text": "Four Square:0.0%, Yelp:0.0%, Google:0.0%",
         "type": "choropleth",
         "z": [
          1
         ]
        },
        {
         "colorscale": [
          [
           0,
           "white"
          ],
          [
           1,
           "white"
          ]
         ],
         "locations": [
          "LBY"
         ],
         "showscale": false,
         "text": "Four Square:0.0%, Yelp:0.0%, Google:0.0%",
         "type": "choropleth",
         "z": [
          1
         ]
        },
        {
         "colorscale": [
          [
           0,
           "white"
          ],
          [
           1,
           "white"
          ]
         ],
         "locations": [
          "MDG"
         ],
         "showscale": false,
         "text": "Four Square:0.0%, Yelp:0.0%, Google:0.0%",
         "type": "choropleth",
         "z": [
          1
         ]
        },
        {
         "colorscale": [
          [
           0,
           "white"
          ],
          [
           1,
           "white"
          ]
         ],
         "locations": [
          "AGO"
         ],
         "showscale": false,
         "text": "Four Square:0.0%, Yelp:0.0%, Google:0.0%",
         "type": "choropleth",
         "z": [
          1
         ]
        },
        {
         "colorscale": [
          [
           0,
           "white"
          ],
          [
           1,
           "white"
          ]
         ],
         "locations": [
          "MMR"
         ],
         "showscale": false,
         "text": "Four Square:0.0%, Yelp:0.0%, Google:0.0%",
         "type": "choropleth",
         "z": [
          1
         ]
        },
        {
         "colorscale": [
          [
           0,
           "white"
          ],
          [
           1,
           "white"
          ]
         ],
         "locations": [
          "MNG"
         ],
         "showscale": false,
         "text": "Four Square:0.0%, Yelp:0.0%, Google:0.0%",
         "type": "choropleth",
         "z": [
          1
         ]
        },
        {
         "colorscale": [
          [
           0,
           "white"
          ],
          [
           1,
           "white"
          ]
         ],
         "locations": [
          "MOZ"
         ],
         "showscale": false,
         "text": "Four Square:0.0%, Yelp:0.0%, Google:0.0%",
         "type": "choropleth",
         "z": [
          1
         ]
        },
        {
         "colorscale": [
          [
           0,
           "white"
          ],
          [
           1,
           "white"
          ]
         ],
         "locations": [
          "MRT"
         ],
         "showscale": false,
         "text": "Four Square:0.0%, Yelp:0.0%, Google:0.0%",
         "type": "choropleth",
         "z": [
          1
         ]
        },
        {
         "colorscale": [
          [
           0,
           "white"
          ],
          [
           1,
           "white"
          ]
         ],
         "locations": [
          "NAM"
         ],
         "showscale": false,
         "text": "Four Square:0.0%, Yelp:0.0%, Google:0.0%",
         "type": "choropleth",
         "z": [
          1
         ]
        },
        {
         "colorscale": [
          [
           0,
           "white"
          ],
          [
           1,
           "white"
          ]
         ],
         "locations": [
          "NER"
         ],
         "showscale": false,
         "text": "Four Square:0.0%, Yelp:0.0%, Google:0.0%",
         "type": "choropleth",
         "z": [
          1
         ]
        },
        {
         "colorscale": [
          [
           0,
           "white"
          ],
          [
           1,
           "white"
          ]
         ],
         "locations": [
          "NGA"
         ],
         "showscale": false,
         "text": "Four Square:0.0%, Yelp:0.0%, Google:0.0%",
         "type": "choropleth",
         "z": [
          1
         ]
        },
        {
         "colorscale": [
          [
           0,
           "white"
          ],
          [
           1,
           "white"
          ]
         ],
         "locations": [
          "ZWE"
         ],
         "showscale": false,
         "text": "Four Square:0.0%, Yelp:0.0%, Google:0.0%",
         "type": "choropleth",
         "z": [
          1
         ]
        }
       ],
       "layout": {
        "annotations": [
         {
          "showarrow": false,
          "text": "Red: Four Square",
          "x": 0.85,
          "xanchor": "left",
          "y": 0.7
         },
         {
          "showarrow": false,
          "text": "Green: Yelp",
          "x": 0.85,
          "xanchor": "left",
          "y": 0.584
         },
         {
          "showarrow": false,
          "text": "Blue: Google",
          "x": 0.85,
          "xanchor": "left",
          "y": 0.5
         },
         {
          "showarrow": false,
          "text": "White: No Results",
          "x": 0.85,
          "xanchor": "left",
          "y": 0.41
         }
        ],
        "autosize": true,
        "geo": {
         "bgcolor": "#D4D4D4",
         "lakecolor": "#D4D4D4",
         "landcolor": "#D4D4D4",
         "projection": {
          "type": "equirectangular"
         },
         "showcoastlines": true,
         "showframe": true,
         "visible": true
        },
        "margin": {
         "b": 50,
         "l": 0,
         "r": 0,
         "t": 50
        },
        "template": {
         "data": {
          "bar": [
           {
            "error_x": {
             "color": "#2a3f5f"
            },
            "error_y": {
             "color": "#2a3f5f"
            },
            "marker": {
             "line": {
              "color": "#E5ECF6",
              "width": 0.5
             },
             "pattern": {
              "fillmode": "overlay",
              "size": 10,
              "solidity": 0.2
             }
            },
            "type": "bar"
           }
          ],
          "barpolar": [
           {
            "marker": {
             "line": {
              "color": "#E5ECF6",
              "width": 0.5
             },
             "pattern": {
              "fillmode": "overlay",
              "size": 10,
              "solidity": 0.2
             }
            },
            "type": "barpolar"
           }
          ],
          "carpet": [
           {
            "aaxis": {
             "endlinecolor": "#2a3f5f",
             "gridcolor": "white",
             "linecolor": "white",
             "minorgridcolor": "white",
             "startlinecolor": "#2a3f5f"
            },
            "baxis": {
             "endlinecolor": "#2a3f5f",
             "gridcolor": "white",
             "linecolor": "white",
             "minorgridcolor": "white",
             "startlinecolor": "#2a3f5f"
            },
            "type": "carpet"
           }
          ],
          "choropleth": [
           {
            "colorbar": {
             "outlinewidth": 0,
             "ticks": ""
            },
            "type": "choropleth"
           }
          ],
          "contour": [
           {
            "colorbar": {
             "outlinewidth": 0,
             "ticks": ""
            },
            "colorscale": [
             [
              0,
              "#0d0887"
             ],
             [
              0.1111111111111111,
              "#46039f"
             ],
             [
              0.2222222222222222,
              "#7201a8"
             ],
             [
              0.3333333333333333,
              "#9c179e"
             ],
             [
              0.4444444444444444,
              "#bd3786"
             ],
             [
              0.5555555555555556,
              "#d8576b"
             ],
             [
              0.6666666666666666,
              "#ed7953"
             ],
             [
              0.7777777777777778,
              "#fb9f3a"
             ],
             [
              0.8888888888888888,
              "#fdca26"
             ],
             [
              1,
              "#f0f921"
             ]
            ],
            "type": "contour"
           }
          ],
          "contourcarpet": [
           {
            "colorbar": {
             "outlinewidth": 0,
             "ticks": ""
            },
            "type": "contourcarpet"
           }
          ],
          "heatmap": [
           {
            "colorbar": {
             "outlinewidth": 0,
             "ticks": ""
            },
            "colorscale": [
             [
              0,
              "#0d0887"
             ],
             [
              0.1111111111111111,
              "#46039f"
             ],
             [
              0.2222222222222222,
              "#7201a8"
             ],
             [
              0.3333333333333333,
              "#9c179e"
             ],
             [
              0.4444444444444444,
              "#bd3786"
             ],
             [
              0.5555555555555556,
              "#d8576b"
             ],
             [
              0.6666666666666666,
              "#ed7953"
             ],
             [
              0.7777777777777778,
              "#fb9f3a"
             ],
             [
              0.8888888888888888,
              "#fdca26"
             ],
             [
              1,
              "#f0f921"
             ]
            ],
            "type": "heatmap"
           }
          ],
          "heatmapgl": [
           {
            "colorbar": {
             "outlinewidth": 0,
             "ticks": ""
            },
            "colorscale": [
             [
              0,
              "#0d0887"
             ],
             [
              0.1111111111111111,
              "#46039f"
             ],
             [
              0.2222222222222222,
              "#7201a8"
             ],
             [
              0.3333333333333333,
              "#9c179e"
             ],
             [
              0.4444444444444444,
              "#bd3786"
             ],
             [
              0.5555555555555556,
              "#d8576b"
             ],
             [
              0.6666666666666666,
              "#ed7953"
             ],
             [
              0.7777777777777778,
              "#fb9f3a"
             ],
             [
              0.8888888888888888,
              "#fdca26"
             ],
             [
              1,
              "#f0f921"
             ]
            ],
            "type": "heatmapgl"
           }
          ],
          "histogram": [
           {
            "marker": {
             "pattern": {
              "fillmode": "overlay",
              "size": 10,
              "solidity": 0.2
             }
            },
            "type": "histogram"
           }
          ],
          "histogram2d": [
           {
            "colorbar": {
             "outlinewidth": 0,
             "ticks": ""
            },
            "colorscale": [
             [
              0,
              "#0d0887"
             ],
             [
              0.1111111111111111,
              "#46039f"
             ],
             [
              0.2222222222222222,
              "#7201a8"
             ],
             [
              0.3333333333333333,
              "#9c179e"
             ],
             [
              0.4444444444444444,
              "#bd3786"
             ],
             [
              0.5555555555555556,
              "#d8576b"
             ],
             [
              0.6666666666666666,
              "#ed7953"
             ],
             [
              0.7777777777777778,
              "#fb9f3a"
             ],
             [
              0.8888888888888888,
              "#fdca26"
             ],
             [
              1,
              "#f0f921"
             ]
            ],
            "type": "histogram2d"
           }
          ],
          "histogram2dcontour": [
           {
            "colorbar": {
             "outlinewidth": 0,
             "ticks": ""
            },
            "colorscale": [
             [
              0,
              "#0d0887"
             ],
             [
              0.1111111111111111,
              "#46039f"
             ],
             [
              0.2222222222222222,
              "#7201a8"
             ],
             [
              0.3333333333333333,
              "#9c179e"
             ],
             [
              0.4444444444444444,
              "#bd3786"
             ],
             [
              0.5555555555555556,
              "#d8576b"
             ],
             [
              0.6666666666666666,
              "#ed7953"
             ],
             [
              0.7777777777777778,
              "#fb9f3a"
             ],
             [
              0.8888888888888888,
              "#fdca26"
             ],
             [
              1,
              "#f0f921"
             ]
            ],
            "type": "histogram2dcontour"
           }
          ],
          "mesh3d": [
           {
            "colorbar": {
             "outlinewidth": 0,
             "ticks": ""
            },
            "type": "mesh3d"
           }
          ],
          "parcoords": [
           {
            "line": {
             "colorbar": {
              "outlinewidth": 0,
              "ticks": ""
             }
            },
            "type": "parcoords"
           }
          ],
          "pie": [
           {
            "automargin": true,
            "type": "pie"
           }
          ],
          "scatter": [
           {
            "marker": {
             "colorbar": {
              "outlinewidth": 0,
              "ticks": ""
             }
            },
            "type": "scatter"
           }
          ],
          "scatter3d": [
           {
            "line": {
             "colorbar": {
              "outlinewidth": 0,
              "ticks": ""
             }
            },
            "marker": {
             "colorbar": {
              "outlinewidth": 0,
              "ticks": ""
             }
            },
            "type": "scatter3d"
           }
          ],
          "scattercarpet": [
           {
            "marker": {
             "colorbar": {
              "outlinewidth": 0,
              "ticks": ""
             }
            },
            "type": "scattercarpet"
           }
          ],
          "scattergeo": [
           {
            "marker": {
             "colorbar": {
              "outlinewidth": 0,
              "ticks": ""
             }
            },
            "type": "scattergeo"
           }
          ],
          "scattergl": [
           {
            "marker": {
             "colorbar": {
              "outlinewidth": 0,
              "ticks": ""
             }
            },
            "type": "scattergl"
           }
          ],
          "scattermapbox": [
           {
            "marker": {
             "colorbar": {
              "outlinewidth": 0,
              "ticks": ""
             }
            },
            "type": "scattermapbox"
           }
          ],
          "scatterpolar": [
           {
            "marker": {
             "colorbar": {
              "outlinewidth": 0,
              "ticks": ""
             }
            },
            "type": "scatterpolar"
           }
          ],
          "scatterpolargl": [
           {
            "marker": {
             "colorbar": {
              "outlinewidth": 0,
              "ticks": ""
             }
            },
            "type": "scatterpolargl"
           }
          ],
          "scatterternary": [
           {
            "marker": {
             "colorbar": {
              "outlinewidth": 0,
              "ticks": ""
             }
            },
            "type": "scatterternary"
           }
          ],
          "surface": [
           {
            "colorbar": {
             "outlinewidth": 0,
             "ticks": ""
            },
            "colorscale": [
             [
              0,
              "#0d0887"
             ],
             [
              0.1111111111111111,
              "#46039f"
             ],
             [
              0.2222222222222222,
              "#7201a8"
             ],
             [
              0.3333333333333333,
              "#9c179e"
             ],
             [
              0.4444444444444444,
              "#bd3786"
             ],
             [
              0.5555555555555556,
              "#d8576b"
             ],
             [
              0.6666666666666666,
              "#ed7953"
             ],
             [
              0.7777777777777778,
              "#fb9f3a"
             ],
             [
              0.8888888888888888,
              "#fdca26"
             ],
             [
              1,
              "#f0f921"
             ]
            ],
            "type": "surface"
           }
          ],
          "table": [
           {
            "cells": {
             "fill": {
              "color": "#EBF0F8"
             },
             "line": {
              "color": "white"
             }
            },
            "header": {
             "fill": {
              "color": "#C8D4E3"
             },
             "line": {
              "color": "white"
             }
            },
            "type": "table"
           }
          ]
         },
         "layout": {
          "annotationdefaults": {
           "arrowcolor": "#2a3f5f",
           "arrowhead": 0,
           "arrowwidth": 1
          },
          "autotypenumbers": "strict",
          "coloraxis": {
           "colorbar": {
            "outlinewidth": 0,
            "ticks": ""
           }
          },
          "colorscale": {
           "diverging": [
            [
             0,
             "#8e0152"
            ],
            [
             0.1,
             "#c51b7d"
            ],
            [
             0.2,
             "#de77ae"
            ],
            [
             0.3,
             "#f1b6da"
            ],
            [
             0.4,
             "#fde0ef"
            ],
            [
             0.5,
             "#f7f7f7"
            ],
            [
             0.6,
             "#e6f5d0"
            ],
            [
             0.7,
             "#b8e186"
            ],
            [
             0.8,
             "#7fbc41"
            ],
            [
             0.9,
             "#4d9221"
            ],
            [
             1,
             "#276419"
            ]
           ],
           "sequential": [
            [
             0,
             "#0d0887"
            ],
            [
             0.1111111111111111,
             "#46039f"
            ],
            [
             0.2222222222222222,
             "#7201a8"
            ],
            [
             0.3333333333333333,
             "#9c179e"
            ],
            [
             0.4444444444444444,
             "#bd3786"
            ],
            [
             0.5555555555555556,
             "#d8576b"
            ],
            [
             0.6666666666666666,
             "#ed7953"
            ],
            [
             0.7777777777777778,
             "#fb9f3a"
            ],
            [
             0.8888888888888888,
             "#fdca26"
            ],
            [
             1,
             "#f0f921"
            ]
           ],
           "sequentialminus": [
            [
             0,
             "#0d0887"
            ],
            [
             0.1111111111111111,
             "#46039f"
            ],
            [
             0.2222222222222222,
             "#7201a8"
            ],
            [
             0.3333333333333333,
             "#9c179e"
            ],
            [
             0.4444444444444444,
             "#bd3786"
            ],
            [
             0.5555555555555556,
             "#d8576b"
            ],
            [
             0.6666666666666666,
             "#ed7953"
            ],
            [
             0.7777777777777778,
             "#fb9f3a"
            ],
            [
             0.8888888888888888,
             "#fdca26"
            ],
            [
             1,
             "#f0f921"
            ]
           ]
          },
          "colorway": [
           "#636efa",
           "#EF553B",
           "#00cc96",
           "#ab63fa",
           "#FFA15A",
           "#19d3f3",
           "#FF6692",
           "#B6E880",
           "#FF97FF",
           "#FECB52"
          ],
          "font": {
           "color": "#2a3f5f"
          },
          "geo": {
           "bgcolor": "white",
           "lakecolor": "white",
           "landcolor": "#E5ECF6",
           "showlakes": true,
           "showland": true,
           "subunitcolor": "white"
          },
          "hoverlabel": {
           "align": "left"
          },
          "hovermode": "closest",
          "mapbox": {
           "style": "light"
          },
          "paper_bgcolor": "white",
          "plot_bgcolor": "#E5ECF6",
          "polar": {
           "angularaxis": {
            "gridcolor": "white",
            "linecolor": "white",
            "ticks": ""
           },
           "bgcolor": "#E5ECF6",
           "radialaxis": {
            "gridcolor": "white",
            "linecolor": "white",
            "ticks": ""
           }
          },
          "scene": {
           "xaxis": {
            "backgroundcolor": "#E5ECF6",
            "gridcolor": "white",
            "gridwidth": 2,
            "linecolor": "white",
            "showbackground": true,
            "ticks": "",
            "zerolinecolor": "white"
           },
           "yaxis": {
            "backgroundcolor": "#E5ECF6",
            "gridcolor": "white",
            "gridwidth": 2,
            "linecolor": "white",
            "showbackground": true,
            "ticks": "",
            "zerolinecolor": "white"
           },
           "zaxis": {
            "backgroundcolor": "#E5ECF6",
            "gridcolor": "white",
            "gridwidth": 2,
            "linecolor": "white",
            "showbackground": true,
            "ticks": "",
            "zerolinecolor": "white"
           }
          },
          "shapedefaults": {
           "line": {
            "color": "#2a3f5f"
           }
          },
          "ternary": {
           "aaxis": {
            "gridcolor": "white",
            "linecolor": "white",
            "ticks": ""
           },
           "baxis": {
            "gridcolor": "white",
            "linecolor": "white",
            "ticks": ""
           },
           "bgcolor": "#E5ECF6",
           "caxis": {
            "gridcolor": "white",
            "linecolor": "white",
            "ticks": ""
           }
          },
          "title": {
           "x": 0.05
          },
          "xaxis": {
           "automargin": true,
           "gridcolor": "white",
           "linecolor": "white",
           "ticks": "",
           "title": {
            "standoff": 15
           },
           "zerolinecolor": "white",
           "zerolinewidth": 2
          },
          "yaxis": {
           "automargin": true,
           "gridcolor": "white",
           "linecolor": "white",
           "ticks": "",
           "title": {
            "standoff": 15
           },
           "zerolinecolor": "white",
           "zerolinewidth": 2
          }
         }
        },
        "title": {
         "text": "Color blending of total results in country."
        },
        "width": 1000
       }
      }
     },
     "metadata": {},
     "output_type": "display_data"
    }
   ],
   "source": [
    "#company comparison\n",
    "fig = go.Figure(data=go.Choropleth(\n",
    "\n",
    "        marker_line_color='darkgray',\n",
    "        marker_line_width=0.5,\n",
    "        colorbar_title = 'Average results per request',\n",
    "    ))\n",
    "\n",
    "fig.update_layout(\n",
    "    width=1000,\n",
    "    autosize=True,\n",
    "    margin=dict(t=50, b=50, l=0, r=0),\n",
    "    title_text='Color blending of total results in country.',\n",
    "    geo=dict(\n",
    "        bgcolor = '#D4D4D4',\n",
    "        landcolor = '#D4D4D4',\n",
    "        lakecolor = '#D4D4D4',\n",
    "        visible=True,\n",
    "        showframe=True,\n",
    "        showcoastlines=True,\n",
    "        projection_type='equirectangular',\n",
    "        # framewidth=600\n",
    "                ),\n",
    "\n",
    "\n",
    "            )\n",
    "for code in sum_df.index:\n",
    "    r = sum_df.loc[code]['r']*255\n",
    "    g = sum_df.loc[code]['g']*255\n",
    "    b = sum_df.loc[code]['b']*255\n",
    "    if r == 0 and g == 0 and b == 0:\n",
    "        color = 'white'\n",
    "    else:\n",
    "        color = f'rgb({r},{g},{b})'\n",
    "    fig.add_trace(go.Choropleth(locations= [code],\n",
    "                            z = [1],\n",
    "                            text = f'Four Square:{round((r/255*100),2)}%, Yelp:{round((g/255*100),2)}%, Google:{round((b/255*100),2)}%',\n",
    "                            colorscale = [[0, color],[1, color]],\n",
    "                            colorbar=None,\n",
    "                            showscale = False))\n",
    "fig.add_annotation(x=0.85, y=0.7,\n",
    "            text=\"Red: Four Square\",\n",
    "            showarrow=False,\n",
    "            xanchor='left',\n",
    "            )\n",
    "fig.add_annotation(x=0.85, y=0.584,\n",
    "            text=\"Green: Yelp\",\n",
    "            showarrow=False,\n",
    "            xanchor='left',\n",
    "            )\n",
    "fig.add_annotation(x=0.85, y=0.5,\n",
    "            text=\"Blue: Google\",\n",
    "            showarrow=False,\n",
    "            xanchor='left',\n",
    "            )\n",
    "\n",
    "fig.add_annotation(x=0.85, y=0.41,\n",
    "            text=\"White: No Results\",\n",
    "            showarrow=False,\n",
    "            xanchor='left',\n",
    "            )\n",
    "\n",
    "fig.show()\n",
    "    \n",
    "    \n",
    "    "
   ]
  }
 ],
 "metadata": {
  "interpreter": {
   "hash": "4fe28adbe6d40c82bdde6a2233f025e3b944121e67b5abb397657075ce1366ca"
  },
  "kernelspec": {
   "display_name": "Python 3.8.5 64-bit ('lighthouse': conda)",
   "name": "python3"
  },
  "language_info": {
   "codemirror_mode": {
    "name": "ipython",
    "version": 3
   },
   "file_extension": ".py",
   "mimetype": "text/x-python",
   "name": "python",
   "nbconvert_exporter": "python",
   "pygments_lexer": "ipython3",
   "version": "3.8.12"
  },
  "orig_nbformat": 4
 },
 "nbformat": 4,
 "nbformat_minor": 2
}
