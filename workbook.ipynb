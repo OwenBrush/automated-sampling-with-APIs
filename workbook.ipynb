{
 "cells": [
  {
   "cell_type": "code",
   "execution_count": 1,
   "metadata": {},
   "outputs": [],
   "source": [
    "#Imports\n",
    "import foursquare\n",
    "import pandas as pd\n",
    "import numpy as np\n",
    "from scripts.constants import *\n",
    "from scripts import dataframe_builder, api_request"
   ]
  },
  {
   "cell_type": "code",
   "execution_count": null,
   "metadata": {},
   "outputs": [],
   "source": [
    "# Collect new random samples\n",
    "api_request.collect_random_samples(100)"
   ]
  },
  {
   "cell_type": "code",
   "execution_count": null,
   "metadata": {},
   "outputs": [],
   "source": []
  },
  {
   "cell_type": "code",
   "execution_count": 2,
   "metadata": {},
   "outputs": [],
   "source": [
    "# Reconcile dataset with logged API responses\n",
    "dataframe_builder.update_dataframe()"
   ]
  },
  {
   "cell_type": "code",
   "execution_count": 28,
   "metadata": {},
   "outputs": [],
   "source": [
    "# Make requests for missing information\n",
    "api_request.request_missing_information()"
   ]
  },
  {
   "cell_type": "code",
   "execution_count": 92,
   "metadata": {},
   "outputs": [
    {
     "data": {
      "text/html": [
       "<div>\n",
       "<style scoped>\n",
       "    .dataframe tbody tr th:only-of-type {\n",
       "        vertical-align: middle;\n",
       "    }\n",
       "\n",
       "    .dataframe tbody tr th {\n",
       "        vertical-align: top;\n",
       "    }\n",
       "\n",
       "    .dataframe thead th {\n",
       "        text-align: right;\n",
       "    }\n",
       "</style>\n",
       "<table border=\"1\" class=\"dataframe\">\n",
       "  <thead>\n",
       "    <tr style=\"text-align: right;\">\n",
       "      <th></th>\n",
       "      <th>country</th>\n",
       "      <th>city</th>\n",
       "      <th>yelp</th>\n",
       "      <th>four_square</th>\n",
       "      <th>google</th>\n",
       "    </tr>\n",
       "  </thead>\n",
       "  <tbody>\n",
       "    <tr>\n",
       "      <th>-44.48767, -65.31431</th>\n",
       "      <td>Argentina</td>\n",
       "      <td>Puerto Larrea</td>\n",
       "      <td>0.0</td>\n",
       "      <td>0.0</td>\n",
       "      <td>0.0</td>\n",
       "    </tr>\n",
       "    <tr>\n",
       "      <th>17.55, 32.95</th>\n",
       "      <td>Sudan</td>\n",
       "      <td>Jabal Sa’ada</td>\n",
       "      <td>0.0</td>\n",
       "      <td>0.0</td>\n",
       "      <td>0.0</td>\n",
       "    </tr>\n",
       "    <tr>\n",
       "      <th>-22.2, 131.06667</th>\n",
       "      <td>Australia</td>\n",
       "      <td>Matchee Spring</td>\n",
       "      <td>0.0</td>\n",
       "      <td>0.0</td>\n",
       "      <td>2.0</td>\n",
       "    </tr>\n",
       "    <tr>\n",
       "      <th>52.03982, 0.72503</th>\n",
       "      <td>United Kingdom</td>\n",
       "      <td>Sudbury</td>\n",
       "      <td>24.0</td>\n",
       "      <td>30.0</td>\n",
       "      <td>20.0</td>\n",
       "    </tr>\n",
       "    <tr>\n",
       "      <th>48.953, 3.06238</th>\n",
       "      <td>France</td>\n",
       "      <td>La Ferte-sous-Jouarre</td>\n",
       "      <td>2.0</td>\n",
       "      <td>30.0</td>\n",
       "      <td>20.0</td>\n",
       "    </tr>\n",
       "    <tr>\n",
       "      <th>...</th>\n",
       "      <td>...</td>\n",
       "      <td>...</td>\n",
       "      <td>...</td>\n",
       "      <td>...</td>\n",
       "      <td>...</td>\n",
       "    </tr>\n",
       "    <tr>\n",
       "      <th>4.37577, -54.30529</th>\n",
       "      <td>France</td>\n",
       "      <td>Grand Bala</td>\n",
       "      <td>0.0</td>\n",
       "      <td>1.0</td>\n",
       "      <td>0.0</td>\n",
       "    </tr>\n",
       "    <tr>\n",
       "      <th>35.28852, 109.8059</th>\n",
       "      <td>China</td>\n",
       "      <td>Xichengcun</td>\n",
       "      <td>0.0</td>\n",
       "      <td>0.0</td>\n",
       "      <td>0.0</td>\n",
       "    </tr>\n",
       "    <tr>\n",
       "      <th>-1.83217, 130.12765</th>\n",
       "      <td>Indonesia</td>\n",
       "      <td>Tip</td>\n",
       "      <td>0.0</td>\n",
       "      <td>1.0</td>\n",
       "      <td>0.0</td>\n",
       "    </tr>\n",
       "    <tr>\n",
       "      <th>65.75287, 49.8525</th>\n",
       "      <td>Russia</td>\n",
       "      <td>Kosma</td>\n",
       "      <td>0.0</td>\n",
       "      <td>0.0</td>\n",
       "      <td>0.0</td>\n",
       "    </tr>\n",
       "    <tr>\n",
       "      <th>66.56875, -62.1079</th>\n",
       "      <td>Canada</td>\n",
       "      <td>Knebelsberg Glacier</td>\n",
       "      <td>0.0</td>\n",
       "      <td>0.0</td>\n",
       "      <td>0.0</td>\n",
       "    </tr>\n",
       "  </tbody>\n",
       "</table>\n",
       "<p>393 rows × 5 columns</p>\n",
       "</div>"
      ],
      "text/plain": [
       "                             country                   city  yelp  \\\n",
       "-44.48767, -65.31431       Argentina          Puerto Larrea   0.0   \n",
       "17.55, 32.95                   Sudan           Jabal Sa’ada   0.0   \n",
       "-22.2, 131.06667           Australia         Matchee Spring   0.0   \n",
       "52.03982, 0.72503     United Kingdom                Sudbury  24.0   \n",
       "48.953, 3.06238               France  La Ferte-sous-Jouarre   2.0   \n",
       "...                              ...                    ...   ...   \n",
       "4.37577, -54.30529            France             Grand Bala   0.0   \n",
       "35.28852, 109.8059             China             Xichengcun   0.0   \n",
       "-1.83217, 130.12765        Indonesia                    Tip   0.0   \n",
       "65.75287, 49.8525             Russia                  Kosma   0.0   \n",
       "66.56875, -62.1079            Canada    Knebelsberg Glacier   0.0   \n",
       "\n",
       "                      four_square  google  \n",
       "-44.48767, -65.31431          0.0     0.0  \n",
       "17.55, 32.95                  0.0     0.0  \n",
       "-22.2, 131.06667              0.0     2.0  \n",
       "52.03982, 0.72503            30.0    20.0  \n",
       "48.953, 3.06238              30.0    20.0  \n",
       "...                           ...     ...  \n",
       "4.37577, -54.30529            1.0     0.0  \n",
       "35.28852, 109.8059            0.0     0.0  \n",
       "-1.83217, 130.12765           1.0     0.0  \n",
       "65.75287, 49.8525             0.0     0.0  \n",
       "66.56875, -62.1079            0.0     0.0  \n",
       "\n",
       "[393 rows x 5 columns]"
      ]
     },
     "execution_count": 92,
     "metadata": {},
     "output_type": "execute_result"
    }
   ],
   "source": [
    "pd.read_csv(SAVE_DIR+RESULTS, index_col=0)"
   ]
  },
  {
   "cell_type": "code",
   "execution_count": null,
   "metadata": {},
   "outputs": [],
   "source": []
  },
  {
   "cell_type": "code",
   "execution_count": 130,
   "metadata": {},
   "outputs": [],
   "source": [
    "df = pd.read_csv(SAVE_DIR+RESULTS, index_col=0)\n",
    "codes = pd.read_csv(SAVE_DIR+\"country_codes.csv\")\n",
    "codes.rename(columns={'name':'country','alpha-3':'code'}, inplace=True)\n",
    "# df = df.merge(codes[['country','code']], on='country')\n",
    "\n",
    "# df['total'] = df['yelp'] + df['four_square'] + df['google']\n",
    "df = pd.merge(df, codes[['country','code']], on='country', how='left')"
   ]
  },
  {
   "cell_type": "code",
   "execution_count": 131,
   "metadata": {},
   "outputs": [
    {
     "data": {
      "text/plain": [
       "array(['United Kingdom', nan, 'Iran', 'Russia', 'United States',\n",
       "       'Visayas', 'Democratic Republic of the Congo', 'North Korea',\n",
       "       'Cape Verde', 'Venezuela', 'Bolivia', 'Syria', 'Vietnam', 'Laos',\n",
       "       'Tanzania'], dtype=object)"
      ]
     },
     "execution_count": 131,
     "metadata": {},
     "output_type": "execute_result"
    }
   ],
   "source": [
    "df[df['code'].isna()]['country'].unique()"
   ]
  },
  {
   "cell_type": "code",
   "execution_count": 132,
   "metadata": {},
   "outputs": [],
   "source": [
    "df.loc[df['country'] == 'United Kingdom', 'code'] = 'GBR'\n",
    "df.loc[df['country'] == 'Iran', 'code'] = 'IRN'\n",
    "df.loc[df['country'] == 'Russia', 'code'] = 'RUS'\n",
    "df.loc[df['country'] == 'United States', 'code'] = 'USA'\n",
    "df.loc[df['country'] == 'Visayas', 'code'] = 'PHL'\n",
    "df.loc[df['country'] == 'Democratic Republic of the Congo', 'code'] = 'COD'\n",
    "df.loc[df['country'] == 'North Korea', 'code'] = 'PRK'\n",
    "df.loc[df['country'] == 'Cape Verde', 'code'] = 'CPV'\n",
    "df.loc[df['country'] == 'Venezuela', 'code'] = 'VEN'\n",
    "df.loc[df['country'] == 'Bolivia', 'code'] = 'BOL'\n",
    "df.loc[df['country'] == 'Syria', 'code'] = 'SYR'\n",
    "df.loc[df['country'] == 'Vietnam', 'code'] = 'VNM'\n",
    "df.loc[df['country'] == 'Laos', 'code'] = 'LAO'\n",
    "df.loc[df['country'] == 'Tanzania', 'code'] = 'TZA'\n"
   ]
  },
  {
   "cell_type": "code",
   "execution_count": 137,
   "metadata": {},
   "outputs": [
    {
     "data": {
      "text/html": [
       "<div>\n",
       "<style scoped>\n",
       "    .dataframe tbody tr th:only-of-type {\n",
       "        vertical-align: middle;\n",
       "    }\n",
       "\n",
       "    .dataframe tbody tr th {\n",
       "        vertical-align: top;\n",
       "    }\n",
       "\n",
       "    .dataframe thead th {\n",
       "        text-align: right;\n",
       "    }\n",
       "</style>\n",
       "<table border=\"1\" class=\"dataframe\">\n",
       "  <thead>\n",
       "    <tr style=\"text-align: right;\">\n",
       "      <th></th>\n",
       "      <th>country</th>\n",
       "      <th>city</th>\n",
       "      <th>yelp</th>\n",
       "      <th>four_square</th>\n",
       "      <th>google</th>\n",
       "      <th>code</th>\n",
       "    </tr>\n",
       "  </thead>\n",
       "  <tbody>\n",
       "    <tr>\n",
       "      <th>0</th>\n",
       "      <td>Argentina</td>\n",
       "      <td>Puerto Larrea</td>\n",
       "      <td>0.0</td>\n",
       "      <td>0.0</td>\n",
       "      <td>0.0</td>\n",
       "      <td>ARG</td>\n",
       "    </tr>\n",
       "    <tr>\n",
       "      <th>1</th>\n",
       "      <td>Sudan</td>\n",
       "      <td>Jabal Sa’ada</td>\n",
       "      <td>0.0</td>\n",
       "      <td>0.0</td>\n",
       "      <td>0.0</td>\n",
       "      <td>SDN</td>\n",
       "    </tr>\n",
       "    <tr>\n",
       "      <th>2</th>\n",
       "      <td>Australia</td>\n",
       "      <td>Matchee Spring</td>\n",
       "      <td>0.0</td>\n",
       "      <td>0.0</td>\n",
       "      <td>2.0</td>\n",
       "      <td>AUS</td>\n",
       "    </tr>\n",
       "    <tr>\n",
       "      <th>3</th>\n",
       "      <td>United Kingdom</td>\n",
       "      <td>Sudbury</td>\n",
       "      <td>24.0</td>\n",
       "      <td>30.0</td>\n",
       "      <td>20.0</td>\n",
       "      <td>GBR</td>\n",
       "    </tr>\n",
       "    <tr>\n",
       "      <th>4</th>\n",
       "      <td>France</td>\n",
       "      <td>La Ferte-sous-Jouarre</td>\n",
       "      <td>2.0</td>\n",
       "      <td>30.0</td>\n",
       "      <td>20.0</td>\n",
       "      <td>FRA</td>\n",
       "    </tr>\n",
       "    <tr>\n",
       "      <th>...</th>\n",
       "      <td>...</td>\n",
       "      <td>...</td>\n",
       "      <td>...</td>\n",
       "      <td>...</td>\n",
       "      <td>...</td>\n",
       "      <td>...</td>\n",
       "    </tr>\n",
       "    <tr>\n",
       "      <th>388</th>\n",
       "      <td>France</td>\n",
       "      <td>Grand Bala</td>\n",
       "      <td>0.0</td>\n",
       "      <td>1.0</td>\n",
       "      <td>0.0</td>\n",
       "      <td>FRA</td>\n",
       "    </tr>\n",
       "    <tr>\n",
       "      <th>389</th>\n",
       "      <td>China</td>\n",
       "      <td>Xichengcun</td>\n",
       "      <td>0.0</td>\n",
       "      <td>0.0</td>\n",
       "      <td>0.0</td>\n",
       "      <td>CHN</td>\n",
       "    </tr>\n",
       "    <tr>\n",
       "      <th>390</th>\n",
       "      <td>Indonesia</td>\n",
       "      <td>Tip</td>\n",
       "      <td>0.0</td>\n",
       "      <td>1.0</td>\n",
       "      <td>0.0</td>\n",
       "      <td>IDN</td>\n",
       "    </tr>\n",
       "    <tr>\n",
       "      <th>391</th>\n",
       "      <td>Russia</td>\n",
       "      <td>Kosma</td>\n",
       "      <td>0.0</td>\n",
       "      <td>0.0</td>\n",
       "      <td>0.0</td>\n",
       "      <td>RUS</td>\n",
       "    </tr>\n",
       "    <tr>\n",
       "      <th>392</th>\n",
       "      <td>Canada</td>\n",
       "      <td>Knebelsberg Glacier</td>\n",
       "      <td>0.0</td>\n",
       "      <td>0.0</td>\n",
       "      <td>0.0</td>\n",
       "      <td>CAN</td>\n",
       "    </tr>\n",
       "  </tbody>\n",
       "</table>\n",
       "<p>364 rows × 6 columns</p>\n",
       "</div>"
      ],
      "text/plain": [
       "            country                   city  yelp  four_square  google code\n",
       "0         Argentina          Puerto Larrea   0.0          0.0     0.0  ARG\n",
       "1             Sudan           Jabal Sa’ada   0.0          0.0     0.0  SDN\n",
       "2         Australia         Matchee Spring   0.0          0.0     2.0  AUS\n",
       "3    United Kingdom                Sudbury  24.0         30.0    20.0  GBR\n",
       "4            France  La Ferte-sous-Jouarre   2.0         30.0    20.0  FRA\n",
       "..              ...                    ...   ...          ...     ...  ...\n",
       "388          France             Grand Bala   0.0          1.0     0.0  FRA\n",
       "389           China             Xichengcun   0.0          0.0     0.0  CHN\n",
       "390       Indonesia                    Tip   0.0          1.0     0.0  IDN\n",
       "391          Russia                  Kosma   0.0          0.0     0.0  RUS\n",
       "392          Canada    Knebelsberg Glacier   0.0          0.0     0.0  CAN\n",
       "\n",
       "[364 rows x 6 columns]"
      ]
     },
     "execution_count": 137,
     "metadata": {},
     "output_type": "execute_result"
    }
   ],
   "source": [
    "df.dropna()"
   ]
  },
  {
   "cell_type": "code",
   "execution_count": 138,
   "metadata": {},
   "outputs": [
    {
     "name": "stdout",
     "output_type": "stream",
     "text": [
      " \n",
      "      From 393 samples:\n",
      " \n",
      "      Four Square:\n",
      "      2386.0 venues across 48 countries\n",
      "      \n",
      " \n",
      "      Google:\n",
      "      158.0 venues across 15 countries\n",
      "      \n",
      " \n",
      "      Yelp:\n",
      "      276.0 venues across 11 countries\n",
      "      \n"
     ]
    }
   ],
   "source": [
    "### Compare Coverage\n",
    "fs = df[['country','four_square']].groupby('country').sum()\n",
    "fs_countries = len(fs[fs['four_square']!= 0])\n",
    "fs_venues = sum(fs['four_square'])\n",
    "\n",
    "yelp = df[['country','yelp']].groupby('country').sum()\n",
    "yelp_countries = len(yelp[yelp['yelp']!= 0])\n",
    "yelp_venues = sum(yelp['yelp'])\n",
    "\n",
    "google = df[['country','google']].groupby('country').sum()\n",
    "google_countries = len(google[google['google']!= 0])\n",
    "google_venues = sum(google['google'])\n",
    "\n",
    "samples = len(df)\n",
    "print(f''' \n",
    "      From {samples} samples:''')\n",
    "\n",
    "print(f''' \n",
    "      Four Square:\n",
    "      {fs_venues} venues across {fs_countries} countries\n",
    "      ''')\n",
    "print(f''' \n",
    "      Google:\n",
    "      {google_venues} venues across {google_countries} countries\n",
    "      ''')\n",
    "print(f''' \n",
    "      Yelp:\n",
    "      {yelp_venues} venues across {yelp_countries} countries\n",
    "      ''')"
   ]
  },
  {
   "cell_type": "code",
   "execution_count": 154,
   "metadata": {},
   "outputs": [],
   "source": [
    "df['total'] = df['yelp'] + df['four_square'] + df['google']\n",
    "sum_df = df.groupby('code').sum().sort_values('total', ascending=False )\n",
    "avg_df = df.groupby('code').mean().sort_values('total', ascending=False )"
   ]
  },
  {
   "cell_type": "code",
   "execution_count": 155,
   "metadata": {},
   "outputs": [
    {
     "data": {
      "text/html": [
       "<div>\n",
       "<style scoped>\n",
       "    .dataframe tbody tr th:only-of-type {\n",
       "        vertical-align: middle;\n",
       "    }\n",
       "\n",
       "    .dataframe tbody tr th {\n",
       "        vertical-align: top;\n",
       "    }\n",
       "\n",
       "    .dataframe thead th {\n",
       "        text-align: right;\n",
       "    }\n",
       "</style>\n",
       "<table border=\"1\" class=\"dataframe\">\n",
       "  <thead>\n",
       "    <tr style=\"text-align: right;\">\n",
       "      <th></th>\n",
       "      <th>yelp</th>\n",
       "      <th>four_square</th>\n",
       "      <th>google</th>\n",
       "      <th>total</th>\n",
       "    </tr>\n",
       "    <tr>\n",
       "      <th>code</th>\n",
       "      <th></th>\n",
       "      <th></th>\n",
       "      <th></th>\n",
       "      <th></th>\n",
       "    </tr>\n",
       "  </thead>\n",
       "  <tbody>\n",
       "    <tr>\n",
       "      <th>USA</th>\n",
       "      <td>94.0</td>\n",
       "      <td>394.0</td>\n",
       "      <td>0.0</td>\n",
       "      <td>488.0</td>\n",
       "    </tr>\n",
       "    <tr>\n",
       "      <th>DEU</th>\n",
       "      <td>99.0</td>\n",
       "      <td>90.0</td>\n",
       "      <td>20.0</td>\n",
       "      <td>209.0</td>\n",
       "    </tr>\n",
       "    <tr>\n",
       "      <th>CAN</th>\n",
       "      <td>8.0</td>\n",
       "      <td>131.0</td>\n",
       "      <td>20.0</td>\n",
       "      <td>159.0</td>\n",
       "    </tr>\n",
       "    <tr>\n",
       "      <th>JPN</th>\n",
       "      <td>35.0</td>\n",
       "      <td>120.0</td>\n",
       "      <td>0.0</td>\n",
       "      <td>155.0</td>\n",
       "    </tr>\n",
       "    <tr>\n",
       "      <th>GBR</th>\n",
       "      <td>25.0</td>\n",
       "      <td>60.0</td>\n",
       "      <td>20.0</td>\n",
       "      <td>105.0</td>\n",
       "    </tr>\n",
       "    <tr>\n",
       "      <th>NZL</th>\n",
       "      <td>5.0</td>\n",
       "      <td>72.0</td>\n",
       "      <td>0.0</td>\n",
       "      <td>77.0</td>\n",
       "    </tr>\n",
       "    <tr>\n",
       "      <th>AUS</th>\n",
       "      <td>1.0</td>\n",
       "      <td>64.0</td>\n",
       "      <td>2.0</td>\n",
       "      <td>67.0</td>\n",
       "    </tr>\n",
       "    <tr>\n",
       "      <th>DNK</th>\n",
       "      <td>3.0</td>\n",
       "      <td>60.0</td>\n",
       "      <td>0.0</td>\n",
       "      <td>63.0</td>\n",
       "    </tr>\n",
       "    <tr>\n",
       "      <th>FRA</th>\n",
       "      <td>2.0</td>\n",
       "      <td>31.0</td>\n",
       "      <td>20.0</td>\n",
       "      <td>53.0</td>\n",
       "    </tr>\n",
       "    <tr>\n",
       "      <th>MYS</th>\n",
       "      <td>3.0</td>\n",
       "      <td>30.0</td>\n",
       "      <td>0.0</td>\n",
       "      <td>33.0</td>\n",
       "    </tr>\n",
       "    <tr>\n",
       "      <th>ESP</th>\n",
       "      <td>1.0</td>\n",
       "      <td>30.0</td>\n",
       "      <td>0.0</td>\n",
       "      <td>31.0</td>\n",
       "    </tr>\n",
       "  </tbody>\n",
       "</table>\n",
       "</div>"
      ],
      "text/plain": [
       "      yelp  four_square  google  total\n",
       "code                                  \n",
       "USA   94.0        394.0     0.0  488.0\n",
       "DEU   99.0         90.0    20.0  209.0\n",
       "CAN    8.0        131.0    20.0  159.0\n",
       "JPN   35.0        120.0     0.0  155.0\n",
       "GBR   25.0         60.0    20.0  105.0\n",
       "NZL    5.0         72.0     0.0   77.0\n",
       "AUS    1.0         64.0     2.0   67.0\n",
       "DNK    3.0         60.0     0.0   63.0\n",
       "FRA    2.0         31.0    20.0   53.0\n",
       "MYS    3.0         30.0     0.0   33.0\n",
       "ESP    1.0         30.0     0.0   31.0"
      ]
     },
     "execution_count": 155,
     "metadata": {},
     "output_type": "execute_result"
    }
   ],
   "source": [
    "sum_df[sum_df['yelp'] != 0]"
   ]
  },
  {
   "cell_type": "code",
   "execution_count": 156,
   "metadata": {},
   "outputs": [
    {
     "data": {
      "text/html": [
       "<div>\n",
       "<style scoped>\n",
       "    .dataframe tbody tr th:only-of-type {\n",
       "        vertical-align: middle;\n",
       "    }\n",
       "\n",
       "    .dataframe tbody tr th {\n",
       "        vertical-align: top;\n",
       "    }\n",
       "\n",
       "    .dataframe thead th {\n",
       "        text-align: right;\n",
       "    }\n",
       "</style>\n",
       "<table border=\"1\" class=\"dataframe\">\n",
       "  <thead>\n",
       "    <tr style=\"text-align: right;\">\n",
       "      <th></th>\n",
       "      <th>yelp</th>\n",
       "      <th>four_square</th>\n",
       "      <th>google</th>\n",
       "      <th>total</th>\n",
       "    </tr>\n",
       "    <tr>\n",
       "      <th>code</th>\n",
       "      <th></th>\n",
       "      <th></th>\n",
       "      <th></th>\n",
       "      <th></th>\n",
       "    </tr>\n",
       "  </thead>\n",
       "  <tbody>\n",
       "    <tr>\n",
       "      <th>DEU</th>\n",
       "      <td>33.000000</td>\n",
       "      <td>30.000000</td>\n",
       "      <td>6.666667</td>\n",
       "      <td>69.666667</td>\n",
       "    </tr>\n",
       "    <tr>\n",
       "      <th>GBR</th>\n",
       "      <td>12.500000</td>\n",
       "      <td>30.000000</td>\n",
       "      <td>10.000000</td>\n",
       "      <td>52.500000</td>\n",
       "    </tr>\n",
       "    <tr>\n",
       "      <th>JPN</th>\n",
       "      <td>8.750000</td>\n",
       "      <td>30.000000</td>\n",
       "      <td>0.000000</td>\n",
       "      <td>38.750000</td>\n",
       "    </tr>\n",
       "    <tr>\n",
       "      <th>MYS</th>\n",
       "      <td>3.000000</td>\n",
       "      <td>30.000000</td>\n",
       "      <td>0.000000</td>\n",
       "      <td>33.000000</td>\n",
       "    </tr>\n",
       "    <tr>\n",
       "      <th>DNK</th>\n",
       "      <td>1.500000</td>\n",
       "      <td>30.000000</td>\n",
       "      <td>0.000000</td>\n",
       "      <td>31.500000</td>\n",
       "    </tr>\n",
       "    <tr>\n",
       "      <th>ESP</th>\n",
       "      <td>1.000000</td>\n",
       "      <td>30.000000</td>\n",
       "      <td>0.000000</td>\n",
       "      <td>31.000000</td>\n",
       "    </tr>\n",
       "    <tr>\n",
       "      <th>NZL</th>\n",
       "      <td>1.666667</td>\n",
       "      <td>24.000000</td>\n",
       "      <td>0.000000</td>\n",
       "      <td>25.666667</td>\n",
       "    </tr>\n",
       "    <tr>\n",
       "      <th>FRA</th>\n",
       "      <td>0.666667</td>\n",
       "      <td>10.333333</td>\n",
       "      <td>6.666667</td>\n",
       "      <td>17.666667</td>\n",
       "    </tr>\n",
       "    <tr>\n",
       "      <th>USA</th>\n",
       "      <td>3.032258</td>\n",
       "      <td>12.709677</td>\n",
       "      <td>0.000000</td>\n",
       "      <td>15.741935</td>\n",
       "    </tr>\n",
       "    <tr>\n",
       "      <th>CAN</th>\n",
       "      <td>0.235294</td>\n",
       "      <td>3.852941</td>\n",
       "      <td>0.588235</td>\n",
       "      <td>4.676471</td>\n",
       "    </tr>\n",
       "    <tr>\n",
       "      <th>AUS</th>\n",
       "      <td>0.066667</td>\n",
       "      <td>4.266667</td>\n",
       "      <td>0.133333</td>\n",
       "      <td>4.466667</td>\n",
       "    </tr>\n",
       "  </tbody>\n",
       "</table>\n",
       "</div>"
      ],
      "text/plain": [
       "           yelp  four_square     google      total\n",
       "code                                              \n",
       "DEU   33.000000    30.000000   6.666667  69.666667\n",
       "GBR   12.500000    30.000000  10.000000  52.500000\n",
       "JPN    8.750000    30.000000   0.000000  38.750000\n",
       "MYS    3.000000    30.000000   0.000000  33.000000\n",
       "DNK    1.500000    30.000000   0.000000  31.500000\n",
       "ESP    1.000000    30.000000   0.000000  31.000000\n",
       "NZL    1.666667    24.000000   0.000000  25.666667\n",
       "FRA    0.666667    10.333333   6.666667  17.666667\n",
       "USA    3.032258    12.709677   0.000000  15.741935\n",
       "CAN    0.235294     3.852941   0.588235   4.676471\n",
       "AUS    0.066667     4.266667   0.133333   4.466667"
      ]
     },
     "execution_count": 156,
     "metadata": {},
     "output_type": "execute_result"
    }
   ],
   "source": [
    "avg_df[avg_df['yelp']!= 0]"
   ]
  },
  {
   "cell_type": "code",
   "execution_count": 321,
   "metadata": {},
   "outputs": [],
   "source": [
    "import plotly.graph_objects as go\n",
    "import pandas as pd\n",
    "\n",
    "# df = pd.read_csv('https://raw.githubusercontent.com/plotly/datasets/master/2014_world_gdp_with_codes.csv')\n",
    "def display_company_choropleth(company, color):\n",
    "    fig = go.Figure(data=go.Choropleth(\n",
    "        locations = avg_df[avg_df['yelp']!= 0].index,\n",
    "        z = avg_df[avg_df['yelp']!= 0][company],\n",
    "        text = df['code'],\n",
    "        colorscale = color,\n",
    "        # autocolorscale=False,\n",
    "        # reversescale=True,\n",
    "        marker_line_color='darkgray',\n",
    "        marker_line_width=0.5,\n",
    "        # colorbar_tickprefix = '$',\n",
    "        colorbar_title = 'Average results per request',\n",
    "    ))\n",
    "\n",
    "    fig.update_layout(\n",
    "        width=1000,\n",
    "        autosize=True,\n",
    "        margin=dict(t=50, b=50, l=0, r=0),\n",
    "        title_text=f'{company} performance',\n",
    "        geo=dict(\n",
    "            bgcolor = '#D4D4D4',\n",
    "            landcolor = '#D4D4D4',\n",
    "            lakecolor = '#D4D4D4',\n",
    "            visible=True,\n",
    "            showframe=True,\n",
    "            showcoastlines=True,\n",
    "            projection_type='equirectangular',\n",
    "            # framewidth=600\n",
    "                 ),\n",
    "\n",
    "    \n",
    "                )\n",
    "\n",
    "    fig.data[0].colorbar.x=.9\n",
    "    fig.data[0].colorbar.y=.59\n",
    "    fig.show()"
   ]
  },
  {
   "cell_type": "code",
   "execution_count": 324,
   "metadata": {},
   "outputs": [
    {
     "data": {
      "application/vnd.plotly.v1+json": {
       "config": {
        "plotlyServerURL": "https://plot.ly"
       },
       "data": [
        {
         "colorbar": {
          "title": {
           "text": "Average results per request"
          },
          "x": 0.9,
          "y": 0.59
         },
         "colorscale": [
          [
           0,
           "rgb(255,245,240)"
          ],
          [
           0.125,
           "rgb(254,224,210)"
          ],
          [
           0.25,
           "rgb(252,187,161)"
          ],
          [
           0.375,
           "rgb(252,146,114)"
          ],
          [
           0.5,
           "rgb(251,106,74)"
          ],
          [
           0.625,
           "rgb(239,59,44)"
          ],
          [
           0.75,
           "rgb(203,24,29)"
          ],
          [
           0.875,
           "rgb(165,15,21)"
          ],
          [
           1,
           "rgb(103,0,13)"
          ]
         ],
         "locations": [
          "DEU",
          "GBR",
          "JPN",
          "MYS",
          "DNK",
          "ESP",
          "NZL",
          "FRA",
          "USA",
          "CAN",
          "AUS"
         ],
         "marker": {
          "line": {
           "color": "darkgray",
           "width": 0.5
          }
         },
         "text": [
          "ARG",
          "SDN",
          "AUS",
          "GBR",
          "FRA",
          "IDN",
          "ROU",
          "CHN",
          "CMR",
          "nan",
          "CAN",
          "IRN",
          "CAN",
          "BRA",
          "RUS",
          "RUS",
          "PNG",
          "CAN",
          "SWE",
          "RUS",
          "USA",
          "PNG",
          "DEU",
          "ETH",
          "NOR",
          "PHL",
          "CHN",
          "USA",
          "nan",
          "RUS",
          "CAN",
          "ZMB",
          "RUS",
          "NOR",
          "MOZ",
          "CHN",
          "AUS",
          "COD",
          "ZWE",
          "ZAF",
          "BWA",
          "ZAF",
          "RUS",
          "NOR",
          "ARG",
          "ZAF",
          "NER",
          "USA",
          "TCD",
          "nan",
          "COD",
          "DZA",
          "YEM",
          "MRT",
          "POL",
          "RUS",
          "YEM",
          "NGA",
          "POL",
          "CHN",
          "MEX",
          "AGO",
          "USA",
          "nan",
          "RUS",
          "RUS",
          "PRK",
          "CAN",
          "DNK",
          "COD",
          "nan",
          "RUS",
          "CAN",
          "JPN",
          "NGA",
          "CAN",
          "MRT",
          "TCD",
          "JPN",
          "USA",
          "nan",
          "CHN",
          "CUB",
          "GIN",
          "USA",
          "ARG",
          "SAU",
          "LBY",
          "RUS",
          "RUS",
          "nan",
          "CPV",
          "IND",
          "RUS",
          "RUS",
          "MEX",
          "nan",
          "GRL",
          "VEN",
          "COD",
          "MRT",
          "COD",
          "ZMB",
          "nan",
          "nan",
          "nan",
          "nan",
          "ARG",
          "RUS",
          "RUS",
          "CAN",
          "CHN",
          "BRA",
          "MAR",
          "RUS",
          "RUS",
          "RUS",
          "PNG",
          "AUS",
          "USA",
          "USA",
          "CHN",
          "CAN",
          "GBR",
          "MEX",
          "RUS",
          "AUS",
          "CAN",
          "MRT",
          "SDN",
          "RUS",
          "RUS",
          "RUS",
          "nan",
          "AUS",
          "USA",
          "RUS",
          "RUS",
          "MLI",
          "BRA",
          "JPN",
          "CHL",
          "nan",
          "IRN",
          "TON",
          "USA",
          "ROU",
          "UKR",
          "MNG",
          "DZA",
          "CUB",
          "GNB",
          "TUR",
          "CHN",
          "RUS",
          "EGY",
          "RUS",
          "KAZ",
          "DEU",
          "BRA",
          "UZB",
          "USA",
          "USA",
          "UKR",
          "ARG",
          "nan",
          "CHN",
          "IND",
          "RUS",
          "CAN",
          "RUS",
          "COD",
          "LBY",
          "CAN",
          "MYS",
          "IND",
          "FRA",
          "MMR",
          "GUY",
          "GRL",
          "MLI",
          "CAN",
          "nan",
          "CAN",
          "IND",
          "BRA",
          "RUS",
          "CAN",
          "MDG",
          "nan",
          "nan",
          "USA",
          "DZA",
          "JPN",
          "NZL",
          "BOL",
          "USA",
          "TCD",
          "GRC",
          "MNG",
          "NER",
          "USA",
          "AFG",
          "USA",
          "DZA",
          "KAZ",
          "NZL",
          "BRA",
          "IDN",
          "CAN",
          "AUS",
          "ESP",
          "CHN",
          "UZB",
          "USA",
          "CAN",
          "AUS",
          "COL",
          "AUS",
          "USA",
          "RUS",
          "AUS",
          "CAN",
          "IRN",
          "BOL",
          "SAU",
          "BEN",
          "nan",
          "COL",
          "ETH",
          "ARG",
          "IDN",
          "EGY",
          "PER",
          "AUS",
          "GAB",
          "DZA",
          "USA",
          "CAN",
          "RUS",
          "SUR",
          "CHN",
          "AFG",
          "GAB",
          "NOR",
          "TKM",
          "USA",
          "GRC",
          "CHL",
          "USA",
          "AUS",
          "CAN",
          "RUS",
          "RUS",
          "CAN",
          "SWE",
          "RUS",
          "LBY",
          "CAN",
          "USA",
          "BRA",
          "USA",
          "AFG",
          "IND",
          "TKM",
          "CHN",
          "ARG",
          "SYR",
          "RUS",
          "SLB",
          "USA",
          "IRN",
          "RUS",
          "IDN",
          "SDN",
          "RUS",
          "MNG",
          "COD",
          "RUS",
          "USA",
          "nan",
          "RUS",
          "RUS",
          "IRL",
          "CAN",
          "KAZ",
          "CAN",
          "RUS",
          "IND",
          "CHN",
          "USA",
          "USA",
          "BRA",
          "ARG",
          "VEN",
          "SAU",
          "SAU",
          "NOR",
          "MRT",
          "AUS",
          "SDN",
          "MLI",
          "RUS",
          "USA",
          "YEM",
          "CHN",
          "KGZ",
          "VNM",
          "USA",
          "AUS",
          "IND",
          "CAN",
          "CAN",
          "CAN",
          "CHN",
          "VEN",
          "BRA",
          "nan",
          "IRN",
          "IDN",
          "nan",
          "CAN",
          "BRA",
          "nan",
          "CAN",
          "ARG",
          "SDN",
          "PLW",
          "RUS",
          "nan",
          "RUS",
          "VNM",
          "COD",
          "BRA",
          "RUS",
          "KAZ",
          "nan",
          "AUS",
          "AUS",
          "DEU",
          "EGY",
          "LAO",
          "nan",
          "IDN",
          "CAN",
          "BOL",
          "nan",
          "COD",
          "CHN",
          "TZA",
          "COL",
          "BRA",
          "RUS",
          "MNG",
          "ARG",
          "ETH",
          "NAM",
          "PAK",
          "EGY",
          "IND",
          "MAR",
          "GAB",
          "EGY",
          "BOL",
          "DNK",
          "TUR",
          "USA",
          "CAN",
          "RUS",
          "KAZ",
          "CHN",
          "KAZ",
          "COL",
          "BOL",
          "CHL",
          "nan",
          "CAN",
          "RUS",
          "RUS",
          "ROU",
          "RUS",
          "NZL",
          "nan",
          "IDN",
          "VUT",
          "CAN",
          "USA",
          "MOZ",
          "FRA",
          "CHN",
          "IDN",
          "RUS",
          "CAN"
         ],
         "type": "choropleth",
         "z": [
          30,
          30,
          30,
          30,
          30,
          30,
          24,
          10.333333333333334,
          12.709677419354838,
          3.8529411764705883,
          4.266666666666667
         ]
        }
       ],
       "layout": {
        "autosize": true,
        "geo": {
         "bgcolor": "#D4D4D4",
         "lakecolor": "#D4D4D4",
         "landcolor": "#D4D4D4",
         "projection": {
          "type": "equirectangular"
         },
         "showcoastlines": true,
         "showframe": true,
         "visible": true
        },
        "margin": {
         "b": 50,
         "l": 0,
         "r": 0,
         "t": 50
        },
        "template": {
         "data": {
          "bar": [
           {
            "error_x": {
             "color": "#2a3f5f"
            },
            "error_y": {
             "color": "#2a3f5f"
            },
            "marker": {
             "line": {
              "color": "#E5ECF6",
              "width": 0.5
             },
             "pattern": {
              "fillmode": "overlay",
              "size": 10,
              "solidity": 0.2
             }
            },
            "type": "bar"
           }
          ],
          "barpolar": [
           {
            "marker": {
             "line": {
              "color": "#E5ECF6",
              "width": 0.5
             },
             "pattern": {
              "fillmode": "overlay",
              "size": 10,
              "solidity": 0.2
             }
            },
            "type": "barpolar"
           }
          ],
          "carpet": [
           {
            "aaxis": {
             "endlinecolor": "#2a3f5f",
             "gridcolor": "white",
             "linecolor": "white",
             "minorgridcolor": "white",
             "startlinecolor": "#2a3f5f"
            },
            "baxis": {
             "endlinecolor": "#2a3f5f",
             "gridcolor": "white",
             "linecolor": "white",
             "minorgridcolor": "white",
             "startlinecolor": "#2a3f5f"
            },
            "type": "carpet"
           }
          ],
          "choropleth": [
           {
            "colorbar": {
             "outlinewidth": 0,
             "ticks": ""
            },
            "type": "choropleth"
           }
          ],
          "contour": [
           {
            "colorbar": {
             "outlinewidth": 0,
             "ticks": ""
            },
            "colorscale": [
             [
              0,
              "#0d0887"
             ],
             [
              0.1111111111111111,
              "#46039f"
             ],
             [
              0.2222222222222222,
              "#7201a8"
             ],
             [
              0.3333333333333333,
              "#9c179e"
             ],
             [
              0.4444444444444444,
              "#bd3786"
             ],
             [
              0.5555555555555556,
              "#d8576b"
             ],
             [
              0.6666666666666666,
              "#ed7953"
             ],
             [
              0.7777777777777778,
              "#fb9f3a"
             ],
             [
              0.8888888888888888,
              "#fdca26"
             ],
             [
              1,
              "#f0f921"
             ]
            ],
            "type": "contour"
           }
          ],
          "contourcarpet": [
           {
            "colorbar": {
             "outlinewidth": 0,
             "ticks": ""
            },
            "type": "contourcarpet"
           }
          ],
          "heatmap": [
           {
            "colorbar": {
             "outlinewidth": 0,
             "ticks": ""
            },
            "colorscale": [
             [
              0,
              "#0d0887"
             ],
             [
              0.1111111111111111,
              "#46039f"
             ],
             [
              0.2222222222222222,
              "#7201a8"
             ],
             [
              0.3333333333333333,
              "#9c179e"
             ],
             [
              0.4444444444444444,
              "#bd3786"
             ],
             [
              0.5555555555555556,
              "#d8576b"
             ],
             [
              0.6666666666666666,
              "#ed7953"
             ],
             [
              0.7777777777777778,
              "#fb9f3a"
             ],
             [
              0.8888888888888888,
              "#fdca26"
             ],
             [
              1,
              "#f0f921"
             ]
            ],
            "type": "heatmap"
           }
          ],
          "heatmapgl": [
           {
            "colorbar": {
             "outlinewidth": 0,
             "ticks": ""
            },
            "colorscale": [
             [
              0,
              "#0d0887"
             ],
             [
              0.1111111111111111,
              "#46039f"
             ],
             [
              0.2222222222222222,
              "#7201a8"
             ],
             [
              0.3333333333333333,
              "#9c179e"
             ],
             [
              0.4444444444444444,
              "#bd3786"
             ],
             [
              0.5555555555555556,
              "#d8576b"
             ],
             [
              0.6666666666666666,
              "#ed7953"
             ],
             [
              0.7777777777777778,
              "#fb9f3a"
             ],
             [
              0.8888888888888888,
              "#fdca26"
             ],
             [
              1,
              "#f0f921"
             ]
            ],
            "type": "heatmapgl"
           }
          ],
          "histogram": [
           {
            "marker": {
             "pattern": {
              "fillmode": "overlay",
              "size": 10,
              "solidity": 0.2
             }
            },
            "type": "histogram"
           }
          ],
          "histogram2d": [
           {
            "colorbar": {
             "outlinewidth": 0,
             "ticks": ""
            },
            "colorscale": [
             [
              0,
              "#0d0887"
             ],
             [
              0.1111111111111111,
              "#46039f"
             ],
             [
              0.2222222222222222,
              "#7201a8"
             ],
             [
              0.3333333333333333,
              "#9c179e"
             ],
             [
              0.4444444444444444,
              "#bd3786"
             ],
             [
              0.5555555555555556,
              "#d8576b"
             ],
             [
              0.6666666666666666,
              "#ed7953"
             ],
             [
              0.7777777777777778,
              "#fb9f3a"
             ],
             [
              0.8888888888888888,
              "#fdca26"
             ],
             [
              1,
              "#f0f921"
             ]
            ],
            "type": "histogram2d"
           }
          ],
          "histogram2dcontour": [
           {
            "colorbar": {
             "outlinewidth": 0,
             "ticks": ""
            },
            "colorscale": [
             [
              0,
              "#0d0887"
             ],
             [
              0.1111111111111111,
              "#46039f"
             ],
             [
              0.2222222222222222,
              "#7201a8"
             ],
             [
              0.3333333333333333,
              "#9c179e"
             ],
             [
              0.4444444444444444,
              "#bd3786"
             ],
             [
              0.5555555555555556,
              "#d8576b"
             ],
             [
              0.6666666666666666,
              "#ed7953"
             ],
             [
              0.7777777777777778,
              "#fb9f3a"
             ],
             [
              0.8888888888888888,
              "#fdca26"
             ],
             [
              1,
              "#f0f921"
             ]
            ],
            "type": "histogram2dcontour"
           }
          ],
          "mesh3d": [
           {
            "colorbar": {
             "outlinewidth": 0,
             "ticks": ""
            },
            "type": "mesh3d"
           }
          ],
          "parcoords": [
           {
            "line": {
             "colorbar": {
              "outlinewidth": 0,
              "ticks": ""
             }
            },
            "type": "parcoords"
           }
          ],
          "pie": [
           {
            "automargin": true,
            "type": "pie"
           }
          ],
          "scatter": [
           {
            "marker": {
             "colorbar": {
              "outlinewidth": 0,
              "ticks": ""
             }
            },
            "type": "scatter"
           }
          ],
          "scatter3d": [
           {
            "line": {
             "colorbar": {
              "outlinewidth": 0,
              "ticks": ""
             }
            },
            "marker": {
             "colorbar": {
              "outlinewidth": 0,
              "ticks": ""
             }
            },
            "type": "scatter3d"
           }
          ],
          "scattercarpet": [
           {
            "marker": {
             "colorbar": {
              "outlinewidth": 0,
              "ticks": ""
             }
            },
            "type": "scattercarpet"
           }
          ],
          "scattergeo": [
           {
            "marker": {
             "colorbar": {
              "outlinewidth": 0,
              "ticks": ""
             }
            },
            "type": "scattergeo"
           }
          ],
          "scattergl": [
           {
            "marker": {
             "colorbar": {
              "outlinewidth": 0,
              "ticks": ""
             }
            },
            "type": "scattergl"
           }
          ],
          "scattermapbox": [
           {
            "marker": {
             "colorbar": {
              "outlinewidth": 0,
              "ticks": ""
             }
            },
            "type": "scattermapbox"
           }
          ],
          "scatterpolar": [
           {
            "marker": {
             "colorbar": {
              "outlinewidth": 0,
              "ticks": ""
             }
            },
            "type": "scatterpolar"
           }
          ],
          "scatterpolargl": [
           {
            "marker": {
             "colorbar": {
              "outlinewidth": 0,
              "ticks": ""
             }
            },
            "type": "scatterpolargl"
           }
          ],
          "scatterternary": [
           {
            "marker": {
             "colorbar": {
              "outlinewidth": 0,
              "ticks": ""
             }
            },
            "type": "scatterternary"
           }
          ],
          "surface": [
           {
            "colorbar": {
             "outlinewidth": 0,
             "ticks": ""
            },
            "colorscale": [
             [
              0,
              "#0d0887"
             ],
             [
              0.1111111111111111,
              "#46039f"
             ],
             [
              0.2222222222222222,
              "#7201a8"
             ],
             [
              0.3333333333333333,
              "#9c179e"
             ],
             [
              0.4444444444444444,
              "#bd3786"
             ],
             [
              0.5555555555555556,
              "#d8576b"
             ],
             [
              0.6666666666666666,
              "#ed7953"
             ],
             [
              0.7777777777777778,
              "#fb9f3a"
             ],
             [
              0.8888888888888888,
              "#fdca26"
             ],
             [
              1,
              "#f0f921"
             ]
            ],
            "type": "surface"
           }
          ],
          "table": [
           {
            "cells": {
             "fill": {
              "color": "#EBF0F8"
             },
             "line": {
              "color": "white"
             }
            },
            "header": {
             "fill": {
              "color": "#C8D4E3"
             },
             "line": {
              "color": "white"
             }
            },
            "type": "table"
           }
          ]
         },
         "layout": {
          "annotationdefaults": {
           "arrowcolor": "#2a3f5f",
           "arrowhead": 0,
           "arrowwidth": 1
          },
          "autotypenumbers": "strict",
          "coloraxis": {
           "colorbar": {
            "outlinewidth": 0,
            "ticks": ""
           }
          },
          "colorscale": {
           "diverging": [
            [
             0,
             "#8e0152"
            ],
            [
             0.1,
             "#c51b7d"
            ],
            [
             0.2,
             "#de77ae"
            ],
            [
             0.3,
             "#f1b6da"
            ],
            [
             0.4,
             "#fde0ef"
            ],
            [
             0.5,
             "#f7f7f7"
            ],
            [
             0.6,
             "#e6f5d0"
            ],
            [
             0.7,
             "#b8e186"
            ],
            [
             0.8,
             "#7fbc41"
            ],
            [
             0.9,
             "#4d9221"
            ],
            [
             1,
             "#276419"
            ]
           ],
           "sequential": [
            [
             0,
             "#0d0887"
            ],
            [
             0.1111111111111111,
             "#46039f"
            ],
            [
             0.2222222222222222,
             "#7201a8"
            ],
            [
             0.3333333333333333,
             "#9c179e"
            ],
            [
             0.4444444444444444,
             "#bd3786"
            ],
            [
             0.5555555555555556,
             "#d8576b"
            ],
            [
             0.6666666666666666,
             "#ed7953"
            ],
            [
             0.7777777777777778,
             "#fb9f3a"
            ],
            [
             0.8888888888888888,
             "#fdca26"
            ],
            [
             1,
             "#f0f921"
            ]
           ],
           "sequentialminus": [
            [
             0,
             "#0d0887"
            ],
            [
             0.1111111111111111,
             "#46039f"
            ],
            [
             0.2222222222222222,
             "#7201a8"
            ],
            [
             0.3333333333333333,
             "#9c179e"
            ],
            [
             0.4444444444444444,
             "#bd3786"
            ],
            [
             0.5555555555555556,
             "#d8576b"
            ],
            [
             0.6666666666666666,
             "#ed7953"
            ],
            [
             0.7777777777777778,
             "#fb9f3a"
            ],
            [
             0.8888888888888888,
             "#fdca26"
            ],
            [
             1,
             "#f0f921"
            ]
           ]
          },
          "colorway": [
           "#636efa",
           "#EF553B",
           "#00cc96",
           "#ab63fa",
           "#FFA15A",
           "#19d3f3",
           "#FF6692",
           "#B6E880",
           "#FF97FF",
           "#FECB52"
          ],
          "font": {
           "color": "#2a3f5f"
          },
          "geo": {
           "bgcolor": "white",
           "lakecolor": "white",
           "landcolor": "#E5ECF6",
           "showlakes": true,
           "showland": true,
           "subunitcolor": "white"
          },
          "hoverlabel": {
           "align": "left"
          },
          "hovermode": "closest",
          "mapbox": {
           "style": "light"
          },
          "paper_bgcolor": "white",
          "plot_bgcolor": "#E5ECF6",
          "polar": {
           "angularaxis": {
            "gridcolor": "white",
            "linecolor": "white",
            "ticks": ""
           },
           "bgcolor": "#E5ECF6",
           "radialaxis": {
            "gridcolor": "white",
            "linecolor": "white",
            "ticks": ""
           }
          },
          "scene": {
           "xaxis": {
            "backgroundcolor": "#E5ECF6",
            "gridcolor": "white",
            "gridwidth": 2,
            "linecolor": "white",
            "showbackground": true,
            "ticks": "",
            "zerolinecolor": "white"
           },
           "yaxis": {
            "backgroundcolor": "#E5ECF6",
            "gridcolor": "white",
            "gridwidth": 2,
            "linecolor": "white",
            "showbackground": true,
            "ticks": "",
            "zerolinecolor": "white"
           },
           "zaxis": {
            "backgroundcolor": "#E5ECF6",
            "gridcolor": "white",
            "gridwidth": 2,
            "linecolor": "white",
            "showbackground": true,
            "ticks": "",
            "zerolinecolor": "white"
           }
          },
          "shapedefaults": {
           "line": {
            "color": "#2a3f5f"
           }
          },
          "ternary": {
           "aaxis": {
            "gridcolor": "white",
            "linecolor": "white",
            "ticks": ""
           },
           "baxis": {
            "gridcolor": "white",
            "linecolor": "white",
            "ticks": ""
           },
           "bgcolor": "#E5ECF6",
           "caxis": {
            "gridcolor": "white",
            "linecolor": "white",
            "ticks": ""
           }
          },
          "title": {
           "x": 0.05
          },
          "xaxis": {
           "automargin": true,
           "gridcolor": "white",
           "linecolor": "white",
           "ticks": "",
           "title": {
            "standoff": 15
           },
           "zerolinecolor": "white",
           "zerolinewidth": 2
          },
          "yaxis": {
           "automargin": true,
           "gridcolor": "white",
           "linecolor": "white",
           "ticks": "",
           "title": {
            "standoff": 15
           },
           "zerolinecolor": "white",
           "zerolinewidth": 2
          }
         }
        },
        "title": {
         "text": "four_square performance"
        },
        "width": 1000
       }
      }
     },
     "metadata": {},
     "output_type": "display_data"
    }
   ],
   "source": [
    "display_company_choropleth('four_square','Reds')"
   ]
  },
  {
   "cell_type": "code",
   "execution_count": 325,
   "metadata": {},
   "outputs": [
    {
     "data": {
      "application/vnd.plotly.v1+json": {
       "config": {
        "plotlyServerURL": "https://plot.ly"
       },
       "data": [
        {
         "colorbar": {
          "title": {
           "text": "Average results per request"
          },
          "x": 0.9,
          "y": 0.59
         },
         "colorscale": [
          [
           0,
           "rgb(247,251,255)"
          ],
          [
           0.125,
           "rgb(222,235,247)"
          ],
          [
           0.25,
           "rgb(198,219,239)"
          ],
          [
           0.375,
           "rgb(158,202,225)"
          ],
          [
           0.5,
           "rgb(107,174,214)"
          ],
          [
           0.625,
           "rgb(66,146,198)"
          ],
          [
           0.75,
           "rgb(33,113,181)"
          ],
          [
           0.875,
           "rgb(8,81,156)"
          ],
          [
           1,
           "rgb(8,48,107)"
          ]
         ],
         "locations": [
          "DEU",
          "GBR",
          "JPN",
          "MYS",
          "DNK",
          "ESP",
          "NZL",
          "FRA",
          "USA",
          "CAN",
          "AUS"
         ],
         "marker": {
          "line": {
           "color": "darkgray",
           "width": 0.5
          }
         },
         "text": [
          "ARG",
          "SDN",
          "AUS",
          "GBR",
          "FRA",
          "IDN",
          "ROU",
          "CHN",
          "CMR",
          "nan",
          "CAN",
          "IRN",
          "CAN",
          "BRA",
          "RUS",
          "RUS",
          "PNG",
          "CAN",
          "SWE",
          "RUS",
          "USA",
          "PNG",
          "DEU",
          "ETH",
          "NOR",
          "PHL",
          "CHN",
          "USA",
          "nan",
          "RUS",
          "CAN",
          "ZMB",
          "RUS",
          "NOR",
          "MOZ",
          "CHN",
          "AUS",
          "COD",
          "ZWE",
          "ZAF",
          "BWA",
          "ZAF",
          "RUS",
          "NOR",
          "ARG",
          "ZAF",
          "NER",
          "USA",
          "TCD",
          "nan",
          "COD",
          "DZA",
          "YEM",
          "MRT",
          "POL",
          "RUS",
          "YEM",
          "NGA",
          "POL",
          "CHN",
          "MEX",
          "AGO",
          "USA",
          "nan",
          "RUS",
          "RUS",
          "PRK",
          "CAN",
          "DNK",
          "COD",
          "nan",
          "RUS",
          "CAN",
          "JPN",
          "NGA",
          "CAN",
          "MRT",
          "TCD",
          "JPN",
          "USA",
          "nan",
          "CHN",
          "CUB",
          "GIN",
          "USA",
          "ARG",
          "SAU",
          "LBY",
          "RUS",
          "RUS",
          "nan",
          "CPV",
          "IND",
          "RUS",
          "RUS",
          "MEX",
          "nan",
          "GRL",
          "VEN",
          "COD",
          "MRT",
          "COD",
          "ZMB",
          "nan",
          "nan",
          "nan",
          "nan",
          "ARG",
          "RUS",
          "RUS",
          "CAN",
          "CHN",
          "BRA",
          "MAR",
          "RUS",
          "RUS",
          "RUS",
          "PNG",
          "AUS",
          "USA",
          "USA",
          "CHN",
          "CAN",
          "GBR",
          "MEX",
          "RUS",
          "AUS",
          "CAN",
          "MRT",
          "SDN",
          "RUS",
          "RUS",
          "RUS",
          "nan",
          "AUS",
          "USA",
          "RUS",
          "RUS",
          "MLI",
          "BRA",
          "JPN",
          "CHL",
          "nan",
          "IRN",
          "TON",
          "USA",
          "ROU",
          "UKR",
          "MNG",
          "DZA",
          "CUB",
          "GNB",
          "TUR",
          "CHN",
          "RUS",
          "EGY",
          "RUS",
          "KAZ",
          "DEU",
          "BRA",
          "UZB",
          "USA",
          "USA",
          "UKR",
          "ARG",
          "nan",
          "CHN",
          "IND",
          "RUS",
          "CAN",
          "RUS",
          "COD",
          "LBY",
          "CAN",
          "MYS",
          "IND",
          "FRA",
          "MMR",
          "GUY",
          "GRL",
          "MLI",
          "CAN",
          "nan",
          "CAN",
          "IND",
          "BRA",
          "RUS",
          "CAN",
          "MDG",
          "nan",
          "nan",
          "USA",
          "DZA",
          "JPN",
          "NZL",
          "BOL",
          "USA",
          "TCD",
          "GRC",
          "MNG",
          "NER",
          "USA",
          "AFG",
          "USA",
          "DZA",
          "KAZ",
          "NZL",
          "BRA",
          "IDN",
          "CAN",
          "AUS",
          "ESP",
          "CHN",
          "UZB",
          "USA",
          "CAN",
          "AUS",
          "COL",
          "AUS",
          "USA",
          "RUS",
          "AUS",
          "CAN",
          "IRN",
          "BOL",
          "SAU",
          "BEN",
          "nan",
          "COL",
          "ETH",
          "ARG",
          "IDN",
          "EGY",
          "PER",
          "AUS",
          "GAB",
          "DZA",
          "USA",
          "CAN",
          "RUS",
          "SUR",
          "CHN",
          "AFG",
          "GAB",
          "NOR",
          "TKM",
          "USA",
          "GRC",
          "CHL",
          "USA",
          "AUS",
          "CAN",
          "RUS",
          "RUS",
          "CAN",
          "SWE",
          "RUS",
          "LBY",
          "CAN",
          "USA",
          "BRA",
          "USA",
          "AFG",
          "IND",
          "TKM",
          "CHN",
          "ARG",
          "SYR",
          "RUS",
          "SLB",
          "USA",
          "IRN",
          "RUS",
          "IDN",
          "SDN",
          "RUS",
          "MNG",
          "COD",
          "RUS",
          "USA",
          "nan",
          "RUS",
          "RUS",
          "IRL",
          "CAN",
          "KAZ",
          "CAN",
          "RUS",
          "IND",
          "CHN",
          "USA",
          "USA",
          "BRA",
          "ARG",
          "VEN",
          "SAU",
          "SAU",
          "NOR",
          "MRT",
          "AUS",
          "SDN",
          "MLI",
          "RUS",
          "USA",
          "YEM",
          "CHN",
          "KGZ",
          "VNM",
          "USA",
          "AUS",
          "IND",
          "CAN",
          "CAN",
          "CAN",
          "CHN",
          "VEN",
          "BRA",
          "nan",
          "IRN",
          "IDN",
          "nan",
          "CAN",
          "BRA",
          "nan",
          "CAN",
          "ARG",
          "SDN",
          "PLW",
          "RUS",
          "nan",
          "RUS",
          "VNM",
          "COD",
          "BRA",
          "RUS",
          "KAZ",
          "nan",
          "AUS",
          "AUS",
          "DEU",
          "EGY",
          "LAO",
          "nan",
          "IDN",
          "CAN",
          "BOL",
          "nan",
          "COD",
          "CHN",
          "TZA",
          "COL",
          "BRA",
          "RUS",
          "MNG",
          "ARG",
          "ETH",
          "NAM",
          "PAK",
          "EGY",
          "IND",
          "MAR",
          "GAB",
          "EGY",
          "BOL",
          "DNK",
          "TUR",
          "USA",
          "CAN",
          "RUS",
          "KAZ",
          "CHN",
          "KAZ",
          "COL",
          "BOL",
          "CHL",
          "nan",
          "CAN",
          "RUS",
          "RUS",
          "ROU",
          "RUS",
          "NZL",
          "nan",
          "IDN",
          "VUT",
          "CAN",
          "USA",
          "MOZ",
          "FRA",
          "CHN",
          "IDN",
          "RUS",
          "CAN"
         ],
         "type": "choropleth",
         "z": [
          6.666666666666667,
          10,
          0,
          0,
          0,
          0,
          0,
          6.666666666666667,
          0,
          0.5882352941176471,
          0.13333333333333333
         ]
        }
       ],
       "layout": {
        "autosize": true,
        "geo": {
         "bgcolor": "#D4D4D4",
         "lakecolor": "#D4D4D4",
         "landcolor": "#D4D4D4",
         "projection": {
          "type": "equirectangular"
         },
         "showcoastlines": true,
         "showframe": true,
         "visible": true
        },
        "margin": {
         "b": 50,
         "l": 0,
         "r": 0,
         "t": 50
        },
        "template": {
         "data": {
          "bar": [
           {
            "error_x": {
             "color": "#2a3f5f"
            },
            "error_y": {
             "color": "#2a3f5f"
            },
            "marker": {
             "line": {
              "color": "#E5ECF6",
              "width": 0.5
             },
             "pattern": {
              "fillmode": "overlay",
              "size": 10,
              "solidity": 0.2
             }
            },
            "type": "bar"
           }
          ],
          "barpolar": [
           {
            "marker": {
             "line": {
              "color": "#E5ECF6",
              "width": 0.5
             },
             "pattern": {
              "fillmode": "overlay",
              "size": 10,
              "solidity": 0.2
             }
            },
            "type": "barpolar"
           }
          ],
          "carpet": [
           {
            "aaxis": {
             "endlinecolor": "#2a3f5f",
             "gridcolor": "white",
             "linecolor": "white",
             "minorgridcolor": "white",
             "startlinecolor": "#2a3f5f"
            },
            "baxis": {
             "endlinecolor": "#2a3f5f",
             "gridcolor": "white",
             "linecolor": "white",
             "minorgridcolor": "white",
             "startlinecolor": "#2a3f5f"
            },
            "type": "carpet"
           }
          ],
          "choropleth": [
           {
            "colorbar": {
             "outlinewidth": 0,
             "ticks": ""
            },
            "type": "choropleth"
           }
          ],
          "contour": [
           {
            "colorbar": {
             "outlinewidth": 0,
             "ticks": ""
            },
            "colorscale": [
             [
              0,
              "#0d0887"
             ],
             [
              0.1111111111111111,
              "#46039f"
             ],
             [
              0.2222222222222222,
              "#7201a8"
             ],
             [
              0.3333333333333333,
              "#9c179e"
             ],
             [
              0.4444444444444444,
              "#bd3786"
             ],
             [
              0.5555555555555556,
              "#d8576b"
             ],
             [
              0.6666666666666666,
              "#ed7953"
             ],
             [
              0.7777777777777778,
              "#fb9f3a"
             ],
             [
              0.8888888888888888,
              "#fdca26"
             ],
             [
              1,
              "#f0f921"
             ]
            ],
            "type": "contour"
           }
          ],
          "contourcarpet": [
           {
            "colorbar": {
             "outlinewidth": 0,
             "ticks": ""
            },
            "type": "contourcarpet"
           }
          ],
          "heatmap": [
           {
            "colorbar": {
             "outlinewidth": 0,
             "ticks": ""
            },
            "colorscale": [
             [
              0,
              "#0d0887"
             ],
             [
              0.1111111111111111,
              "#46039f"
             ],
             [
              0.2222222222222222,
              "#7201a8"
             ],
             [
              0.3333333333333333,
              "#9c179e"
             ],
             [
              0.4444444444444444,
              "#bd3786"
             ],
             [
              0.5555555555555556,
              "#d8576b"
             ],
             [
              0.6666666666666666,
              "#ed7953"
             ],
             [
              0.7777777777777778,
              "#fb9f3a"
             ],
             [
              0.8888888888888888,
              "#fdca26"
             ],
             [
              1,
              "#f0f921"
             ]
            ],
            "type": "heatmap"
           }
          ],
          "heatmapgl": [
           {
            "colorbar": {
             "outlinewidth": 0,
             "ticks": ""
            },
            "colorscale": [
             [
              0,
              "#0d0887"
             ],
             [
              0.1111111111111111,
              "#46039f"
             ],
             [
              0.2222222222222222,
              "#7201a8"
             ],
             [
              0.3333333333333333,
              "#9c179e"
             ],
             [
              0.4444444444444444,
              "#bd3786"
             ],
             [
              0.5555555555555556,
              "#d8576b"
             ],
             [
              0.6666666666666666,
              "#ed7953"
             ],
             [
              0.7777777777777778,
              "#fb9f3a"
             ],
             [
              0.8888888888888888,
              "#fdca26"
             ],
             [
              1,
              "#f0f921"
             ]
            ],
            "type": "heatmapgl"
           }
          ],
          "histogram": [
           {
            "marker": {
             "pattern": {
              "fillmode": "overlay",
              "size": 10,
              "solidity": 0.2
             }
            },
            "type": "histogram"
           }
          ],
          "histogram2d": [
           {
            "colorbar": {
             "outlinewidth": 0,
             "ticks": ""
            },
            "colorscale": [
             [
              0,
              "#0d0887"
             ],
             [
              0.1111111111111111,
              "#46039f"
             ],
             [
              0.2222222222222222,
              "#7201a8"
             ],
             [
              0.3333333333333333,
              "#9c179e"
             ],
             [
              0.4444444444444444,
              "#bd3786"
             ],
             [
              0.5555555555555556,
              "#d8576b"
             ],
             [
              0.6666666666666666,
              "#ed7953"
             ],
             [
              0.7777777777777778,
              "#fb9f3a"
             ],
             [
              0.8888888888888888,
              "#fdca26"
             ],
             [
              1,
              "#f0f921"
             ]
            ],
            "type": "histogram2d"
           }
          ],
          "histogram2dcontour": [
           {
            "colorbar": {
             "outlinewidth": 0,
             "ticks": ""
            },
            "colorscale": [
             [
              0,
              "#0d0887"
             ],
             [
              0.1111111111111111,
              "#46039f"
             ],
             [
              0.2222222222222222,
              "#7201a8"
             ],
             [
              0.3333333333333333,
              "#9c179e"
             ],
             [
              0.4444444444444444,
              "#bd3786"
             ],
             [
              0.5555555555555556,
              "#d8576b"
             ],
             [
              0.6666666666666666,
              "#ed7953"
             ],
             [
              0.7777777777777778,
              "#fb9f3a"
             ],
             [
              0.8888888888888888,
              "#fdca26"
             ],
             [
              1,
              "#f0f921"
             ]
            ],
            "type": "histogram2dcontour"
           }
          ],
          "mesh3d": [
           {
            "colorbar": {
             "outlinewidth": 0,
             "ticks": ""
            },
            "type": "mesh3d"
           }
          ],
          "parcoords": [
           {
            "line": {
             "colorbar": {
              "outlinewidth": 0,
              "ticks": ""
             }
            },
            "type": "parcoords"
           }
          ],
          "pie": [
           {
            "automargin": true,
            "type": "pie"
           }
          ],
          "scatter": [
           {
            "marker": {
             "colorbar": {
              "outlinewidth": 0,
              "ticks": ""
             }
            },
            "type": "scatter"
           }
          ],
          "scatter3d": [
           {
            "line": {
             "colorbar": {
              "outlinewidth": 0,
              "ticks": ""
             }
            },
            "marker": {
             "colorbar": {
              "outlinewidth": 0,
              "ticks": ""
             }
            },
            "type": "scatter3d"
           }
          ],
          "scattercarpet": [
           {
            "marker": {
             "colorbar": {
              "outlinewidth": 0,
              "ticks": ""
             }
            },
            "type": "scattercarpet"
           }
          ],
          "scattergeo": [
           {
            "marker": {
             "colorbar": {
              "outlinewidth": 0,
              "ticks": ""
             }
            },
            "type": "scattergeo"
           }
          ],
          "scattergl": [
           {
            "marker": {
             "colorbar": {
              "outlinewidth": 0,
              "ticks": ""
             }
            },
            "type": "scattergl"
           }
          ],
          "scattermapbox": [
           {
            "marker": {
             "colorbar": {
              "outlinewidth": 0,
              "ticks": ""
             }
            },
            "type": "scattermapbox"
           }
          ],
          "scatterpolar": [
           {
            "marker": {
             "colorbar": {
              "outlinewidth": 0,
              "ticks": ""
             }
            },
            "type": "scatterpolar"
           }
          ],
          "scatterpolargl": [
           {
            "marker": {
             "colorbar": {
              "outlinewidth": 0,
              "ticks": ""
             }
            },
            "type": "scatterpolargl"
           }
          ],
          "scatterternary": [
           {
            "marker": {
             "colorbar": {
              "outlinewidth": 0,
              "ticks": ""
             }
            },
            "type": "scatterternary"
           }
          ],
          "surface": [
           {
            "colorbar": {
             "outlinewidth": 0,
             "ticks": ""
            },
            "colorscale": [
             [
              0,
              "#0d0887"
             ],
             [
              0.1111111111111111,
              "#46039f"
             ],
             [
              0.2222222222222222,
              "#7201a8"
             ],
             [
              0.3333333333333333,
              "#9c179e"
             ],
             [
              0.4444444444444444,
              "#bd3786"
             ],
             [
              0.5555555555555556,
              "#d8576b"
             ],
             [
              0.6666666666666666,
              "#ed7953"
             ],
             [
              0.7777777777777778,
              "#fb9f3a"
             ],
             [
              0.8888888888888888,
              "#fdca26"
             ],
             [
              1,
              "#f0f921"
             ]
            ],
            "type": "surface"
           }
          ],
          "table": [
           {
            "cells": {
             "fill": {
              "color": "#EBF0F8"
             },
             "line": {
              "color": "white"
             }
            },
            "header": {
             "fill": {
              "color": "#C8D4E3"
             },
             "line": {
              "color": "white"
             }
            },
            "type": "table"
           }
          ]
         },
         "layout": {
          "annotationdefaults": {
           "arrowcolor": "#2a3f5f",
           "arrowhead": 0,
           "arrowwidth": 1
          },
          "autotypenumbers": "strict",
          "coloraxis": {
           "colorbar": {
            "outlinewidth": 0,
            "ticks": ""
           }
          },
          "colorscale": {
           "diverging": [
            [
             0,
             "#8e0152"
            ],
            [
             0.1,
             "#c51b7d"
            ],
            [
             0.2,
             "#de77ae"
            ],
            [
             0.3,
             "#f1b6da"
            ],
            [
             0.4,
             "#fde0ef"
            ],
            [
             0.5,
             "#f7f7f7"
            ],
            [
             0.6,
             "#e6f5d0"
            ],
            [
             0.7,
             "#b8e186"
            ],
            [
             0.8,
             "#7fbc41"
            ],
            [
             0.9,
             "#4d9221"
            ],
            [
             1,
             "#276419"
            ]
           ],
           "sequential": [
            [
             0,
             "#0d0887"
            ],
            [
             0.1111111111111111,
             "#46039f"
            ],
            [
             0.2222222222222222,
             "#7201a8"
            ],
            [
             0.3333333333333333,
             "#9c179e"
            ],
            [
             0.4444444444444444,
             "#bd3786"
            ],
            [
             0.5555555555555556,
             "#d8576b"
            ],
            [
             0.6666666666666666,
             "#ed7953"
            ],
            [
             0.7777777777777778,
             "#fb9f3a"
            ],
            [
             0.8888888888888888,
             "#fdca26"
            ],
            [
             1,
             "#f0f921"
            ]
           ],
           "sequentialminus": [
            [
             0,
             "#0d0887"
            ],
            [
             0.1111111111111111,
             "#46039f"
            ],
            [
             0.2222222222222222,
             "#7201a8"
            ],
            [
             0.3333333333333333,
             "#9c179e"
            ],
            [
             0.4444444444444444,
             "#bd3786"
            ],
            [
             0.5555555555555556,
             "#d8576b"
            ],
            [
             0.6666666666666666,
             "#ed7953"
            ],
            [
             0.7777777777777778,
             "#fb9f3a"
            ],
            [
             0.8888888888888888,
             "#fdca26"
            ],
            [
             1,
             "#f0f921"
            ]
           ]
          },
          "colorway": [
           "#636efa",
           "#EF553B",
           "#00cc96",
           "#ab63fa",
           "#FFA15A",
           "#19d3f3",
           "#FF6692",
           "#B6E880",
           "#FF97FF",
           "#FECB52"
          ],
          "font": {
           "color": "#2a3f5f"
          },
          "geo": {
           "bgcolor": "white",
           "lakecolor": "white",
           "landcolor": "#E5ECF6",
           "showlakes": true,
           "showland": true,
           "subunitcolor": "white"
          },
          "hoverlabel": {
           "align": "left"
          },
          "hovermode": "closest",
          "mapbox": {
           "style": "light"
          },
          "paper_bgcolor": "white",
          "plot_bgcolor": "#E5ECF6",
          "polar": {
           "angularaxis": {
            "gridcolor": "white",
            "linecolor": "white",
            "ticks": ""
           },
           "bgcolor": "#E5ECF6",
           "radialaxis": {
            "gridcolor": "white",
            "linecolor": "white",
            "ticks": ""
           }
          },
          "scene": {
           "xaxis": {
            "backgroundcolor": "#E5ECF6",
            "gridcolor": "white",
            "gridwidth": 2,
            "linecolor": "white",
            "showbackground": true,
            "ticks": "",
            "zerolinecolor": "white"
           },
           "yaxis": {
            "backgroundcolor": "#E5ECF6",
            "gridcolor": "white",
            "gridwidth": 2,
            "linecolor": "white",
            "showbackground": true,
            "ticks": "",
            "zerolinecolor": "white"
           },
           "zaxis": {
            "backgroundcolor": "#E5ECF6",
            "gridcolor": "white",
            "gridwidth": 2,
            "linecolor": "white",
            "showbackground": true,
            "ticks": "",
            "zerolinecolor": "white"
           }
          },
          "shapedefaults": {
           "line": {
            "color": "#2a3f5f"
           }
          },
          "ternary": {
           "aaxis": {
            "gridcolor": "white",
            "linecolor": "white",
            "ticks": ""
           },
           "baxis": {
            "gridcolor": "white",
            "linecolor": "white",
            "ticks": ""
           },
           "bgcolor": "#E5ECF6",
           "caxis": {
            "gridcolor": "white",
            "linecolor": "white",
            "ticks": ""
           }
          },
          "title": {
           "x": 0.05
          },
          "xaxis": {
           "automargin": true,
           "gridcolor": "white",
           "linecolor": "white",
           "ticks": "",
           "title": {
            "standoff": 15
           },
           "zerolinecolor": "white",
           "zerolinewidth": 2
          },
          "yaxis": {
           "automargin": true,
           "gridcolor": "white",
           "linecolor": "white",
           "ticks": "",
           "title": {
            "standoff": 15
           },
           "zerolinecolor": "white",
           "zerolinewidth": 2
          }
         }
        },
        "title": {
         "text": "google performance"
        },
        "width": 1000
       }
      }
     },
     "metadata": {},
     "output_type": "display_data"
    }
   ],
   "source": [
    "display_company_choropleth('google','Blues')"
   ]
  },
  {
   "cell_type": "code",
   "execution_count": 326,
   "metadata": {},
   "outputs": [
    {
     "data": {
      "application/vnd.plotly.v1+json": {
       "config": {
        "plotlyServerURL": "https://plot.ly"
       },
       "data": [
        {
         "colorbar": {
          "title": {
           "text": "Average results per request"
          },
          "x": 0.9,
          "y": 0.59
         },
         "colorscale": [
          [
           0,
           "rgb(247,252,245)"
          ],
          [
           0.125,
           "rgb(229,245,224)"
          ],
          [
           0.25,
           "rgb(199,233,192)"
          ],
          [
           0.375,
           "rgb(161,217,155)"
          ],
          [
           0.5,
           "rgb(116,196,118)"
          ],
          [
           0.625,
           "rgb(65,171,93)"
          ],
          [
           0.75,
           "rgb(35,139,69)"
          ],
          [
           0.875,
           "rgb(0,109,44)"
          ],
          [
           1,
           "rgb(0,68,27)"
          ]
         ],
         "locations": [
          "DEU",
          "GBR",
          "JPN",
          "MYS",
          "DNK",
          "ESP",
          "NZL",
          "FRA",
          "USA",
          "CAN",
          "AUS"
         ],
         "marker": {
          "line": {
           "color": "darkgray",
           "width": 0.5
          }
         },
         "text": [
          "ARG",
          "SDN",
          "AUS",
          "GBR",
          "FRA",
          "IDN",
          "ROU",
          "CHN",
          "CMR",
          "nan",
          "CAN",
          "IRN",
          "CAN",
          "BRA",
          "RUS",
          "RUS",
          "PNG",
          "CAN",
          "SWE",
          "RUS",
          "USA",
          "PNG",
          "DEU",
          "ETH",
          "NOR",
          "PHL",
          "CHN",
          "USA",
          "nan",
          "RUS",
          "CAN",
          "ZMB",
          "RUS",
          "NOR",
          "MOZ",
          "CHN",
          "AUS",
          "COD",
          "ZWE",
          "ZAF",
          "BWA",
          "ZAF",
          "RUS",
          "NOR",
          "ARG",
          "ZAF",
          "NER",
          "USA",
          "TCD",
          "nan",
          "COD",
          "DZA",
          "YEM",
          "MRT",
          "POL",
          "RUS",
          "YEM",
          "NGA",
          "POL",
          "CHN",
          "MEX",
          "AGO",
          "USA",
          "nan",
          "RUS",
          "RUS",
          "PRK",
          "CAN",
          "DNK",
          "COD",
          "nan",
          "RUS",
          "CAN",
          "JPN",
          "NGA",
          "CAN",
          "MRT",
          "TCD",
          "JPN",
          "USA",
          "nan",
          "CHN",
          "CUB",
          "GIN",
          "USA",
          "ARG",
          "SAU",
          "LBY",
          "RUS",
          "RUS",
          "nan",
          "CPV",
          "IND",
          "RUS",
          "RUS",
          "MEX",
          "nan",
          "GRL",
          "VEN",
          "COD",
          "MRT",
          "COD",
          "ZMB",
          "nan",
          "nan",
          "nan",
          "nan",
          "ARG",
          "RUS",
          "RUS",
          "CAN",
          "CHN",
          "BRA",
          "MAR",
          "RUS",
          "RUS",
          "RUS",
          "PNG",
          "AUS",
          "USA",
          "USA",
          "CHN",
          "CAN",
          "GBR",
          "MEX",
          "RUS",
          "AUS",
          "CAN",
          "MRT",
          "SDN",
          "RUS",
          "RUS",
          "RUS",
          "nan",
          "AUS",
          "USA",
          "RUS",
          "RUS",
          "MLI",
          "BRA",
          "JPN",
          "CHL",
          "nan",
          "IRN",
          "TON",
          "USA",
          "ROU",
          "UKR",
          "MNG",
          "DZA",
          "CUB",
          "GNB",
          "TUR",
          "CHN",
          "RUS",
          "EGY",
          "RUS",
          "KAZ",
          "DEU",
          "BRA",
          "UZB",
          "USA",
          "USA",
          "UKR",
          "ARG",
          "nan",
          "CHN",
          "IND",
          "RUS",
          "CAN",
          "RUS",
          "COD",
          "LBY",
          "CAN",
          "MYS",
          "IND",
          "FRA",
          "MMR",
          "GUY",
          "GRL",
          "MLI",
          "CAN",
          "nan",
          "CAN",
          "IND",
          "BRA",
          "RUS",
          "CAN",
          "MDG",
          "nan",
          "nan",
          "USA",
          "DZA",
          "JPN",
          "NZL",
          "BOL",
          "USA",
          "TCD",
          "GRC",
          "MNG",
          "NER",
          "USA",
          "AFG",
          "USA",
          "DZA",
          "KAZ",
          "NZL",
          "BRA",
          "IDN",
          "CAN",
          "AUS",
          "ESP",
          "CHN",
          "UZB",
          "USA",
          "CAN",
          "AUS",
          "COL",
          "AUS",
          "USA",
          "RUS",
          "AUS",
          "CAN",
          "IRN",
          "BOL",
          "SAU",
          "BEN",
          "nan",
          "COL",
          "ETH",
          "ARG",
          "IDN",
          "EGY",
          "PER",
          "AUS",
          "GAB",
          "DZA",
          "USA",
          "CAN",
          "RUS",
          "SUR",
          "CHN",
          "AFG",
          "GAB",
          "NOR",
          "TKM",
          "USA",
          "GRC",
          "CHL",
          "USA",
          "AUS",
          "CAN",
          "RUS",
          "RUS",
          "CAN",
          "SWE",
          "RUS",
          "LBY",
          "CAN",
          "USA",
          "BRA",
          "USA",
          "AFG",
          "IND",
          "TKM",
          "CHN",
          "ARG",
          "SYR",
          "RUS",
          "SLB",
          "USA",
          "IRN",
          "RUS",
          "IDN",
          "SDN",
          "RUS",
          "MNG",
          "COD",
          "RUS",
          "USA",
          "nan",
          "RUS",
          "RUS",
          "IRL",
          "CAN",
          "KAZ",
          "CAN",
          "RUS",
          "IND",
          "CHN",
          "USA",
          "USA",
          "BRA",
          "ARG",
          "VEN",
          "SAU",
          "SAU",
          "NOR",
          "MRT",
          "AUS",
          "SDN",
          "MLI",
          "RUS",
          "USA",
          "YEM",
          "CHN",
          "KGZ",
          "VNM",
          "USA",
          "AUS",
          "IND",
          "CAN",
          "CAN",
          "CAN",
          "CHN",
          "VEN",
          "BRA",
          "nan",
          "IRN",
          "IDN",
          "nan",
          "CAN",
          "BRA",
          "nan",
          "CAN",
          "ARG",
          "SDN",
          "PLW",
          "RUS",
          "nan",
          "RUS",
          "VNM",
          "COD",
          "BRA",
          "RUS",
          "KAZ",
          "nan",
          "AUS",
          "AUS",
          "DEU",
          "EGY",
          "LAO",
          "nan",
          "IDN",
          "CAN",
          "BOL",
          "nan",
          "COD",
          "CHN",
          "TZA",
          "COL",
          "BRA",
          "RUS",
          "MNG",
          "ARG",
          "ETH",
          "NAM",
          "PAK",
          "EGY",
          "IND",
          "MAR",
          "GAB",
          "EGY",
          "BOL",
          "DNK",
          "TUR",
          "USA",
          "CAN",
          "RUS",
          "KAZ",
          "CHN",
          "KAZ",
          "COL",
          "BOL",
          "CHL",
          "nan",
          "CAN",
          "RUS",
          "RUS",
          "ROU",
          "RUS",
          "NZL",
          "nan",
          "IDN",
          "VUT",
          "CAN",
          "USA",
          "MOZ",
          "FRA",
          "CHN",
          "IDN",
          "RUS",
          "CAN"
         ],
         "type": "choropleth",
         "z": [
          33,
          12.5,
          8.75,
          3,
          1.5,
          1,
          1.6666666666666667,
          0.6666666666666666,
          3.032258064516129,
          0.23529411764705882,
          0.06666666666666667
         ]
        }
       ],
       "layout": {
        "autosize": true,
        "geo": {
         "bgcolor": "#D4D4D4",
         "lakecolor": "#D4D4D4",
         "landcolor": "#D4D4D4",
         "projection": {
          "type": "equirectangular"
         },
         "showcoastlines": true,
         "showframe": true,
         "visible": true
        },
        "margin": {
         "b": 50,
         "l": 0,
         "r": 0,
         "t": 50
        },
        "template": {
         "data": {
          "bar": [
           {
            "error_x": {
             "color": "#2a3f5f"
            },
            "error_y": {
             "color": "#2a3f5f"
            },
            "marker": {
             "line": {
              "color": "#E5ECF6",
              "width": 0.5
             },
             "pattern": {
              "fillmode": "overlay",
              "size": 10,
              "solidity": 0.2
             }
            },
            "type": "bar"
           }
          ],
          "barpolar": [
           {
            "marker": {
             "line": {
              "color": "#E5ECF6",
              "width": 0.5
             },
             "pattern": {
              "fillmode": "overlay",
              "size": 10,
              "solidity": 0.2
             }
            },
            "type": "barpolar"
           }
          ],
          "carpet": [
           {
            "aaxis": {
             "endlinecolor": "#2a3f5f",
             "gridcolor": "white",
             "linecolor": "white",
             "minorgridcolor": "white",
             "startlinecolor": "#2a3f5f"
            },
            "baxis": {
             "endlinecolor": "#2a3f5f",
             "gridcolor": "white",
             "linecolor": "white",
             "minorgridcolor": "white",
             "startlinecolor": "#2a3f5f"
            },
            "type": "carpet"
           }
          ],
          "choropleth": [
           {
            "colorbar": {
             "outlinewidth": 0,
             "ticks": ""
            },
            "type": "choropleth"
           }
          ],
          "contour": [
           {
            "colorbar": {
             "outlinewidth": 0,
             "ticks": ""
            },
            "colorscale": [
             [
              0,
              "#0d0887"
             ],
             [
              0.1111111111111111,
              "#46039f"
             ],
             [
              0.2222222222222222,
              "#7201a8"
             ],
             [
              0.3333333333333333,
              "#9c179e"
             ],
             [
              0.4444444444444444,
              "#bd3786"
             ],
             [
              0.5555555555555556,
              "#d8576b"
             ],
             [
              0.6666666666666666,
              "#ed7953"
             ],
             [
              0.7777777777777778,
              "#fb9f3a"
             ],
             [
              0.8888888888888888,
              "#fdca26"
             ],
             [
              1,
              "#f0f921"
             ]
            ],
            "type": "contour"
           }
          ],
          "contourcarpet": [
           {
            "colorbar": {
             "outlinewidth": 0,
             "ticks": ""
            },
            "type": "contourcarpet"
           }
          ],
          "heatmap": [
           {
            "colorbar": {
             "outlinewidth": 0,
             "ticks": ""
            },
            "colorscale": [
             [
              0,
              "#0d0887"
             ],
             [
              0.1111111111111111,
              "#46039f"
             ],
             [
              0.2222222222222222,
              "#7201a8"
             ],
             [
              0.3333333333333333,
              "#9c179e"
             ],
             [
              0.4444444444444444,
              "#bd3786"
             ],
             [
              0.5555555555555556,
              "#d8576b"
             ],
             [
              0.6666666666666666,
              "#ed7953"
             ],
             [
              0.7777777777777778,
              "#fb9f3a"
             ],
             [
              0.8888888888888888,
              "#fdca26"
             ],
             [
              1,
              "#f0f921"
             ]
            ],
            "type": "heatmap"
           }
          ],
          "heatmapgl": [
           {
            "colorbar": {
             "outlinewidth": 0,
             "ticks": ""
            },
            "colorscale": [
             [
              0,
              "#0d0887"
             ],
             [
              0.1111111111111111,
              "#46039f"
             ],
             [
              0.2222222222222222,
              "#7201a8"
             ],
             [
              0.3333333333333333,
              "#9c179e"
             ],
             [
              0.4444444444444444,
              "#bd3786"
             ],
             [
              0.5555555555555556,
              "#d8576b"
             ],
             [
              0.6666666666666666,
              "#ed7953"
             ],
             [
              0.7777777777777778,
              "#fb9f3a"
             ],
             [
              0.8888888888888888,
              "#fdca26"
             ],
             [
              1,
              "#f0f921"
             ]
            ],
            "type": "heatmapgl"
           }
          ],
          "histogram": [
           {
            "marker": {
             "pattern": {
              "fillmode": "overlay",
              "size": 10,
              "solidity": 0.2
             }
            },
            "type": "histogram"
           }
          ],
          "histogram2d": [
           {
            "colorbar": {
             "outlinewidth": 0,
             "ticks": ""
            },
            "colorscale": [
             [
              0,
              "#0d0887"
             ],
             [
              0.1111111111111111,
              "#46039f"
             ],
             [
              0.2222222222222222,
              "#7201a8"
             ],
             [
              0.3333333333333333,
              "#9c179e"
             ],
             [
              0.4444444444444444,
              "#bd3786"
             ],
             [
              0.5555555555555556,
              "#d8576b"
             ],
             [
              0.6666666666666666,
              "#ed7953"
             ],
             [
              0.7777777777777778,
              "#fb9f3a"
             ],
             [
              0.8888888888888888,
              "#fdca26"
             ],
             [
              1,
              "#f0f921"
             ]
            ],
            "type": "histogram2d"
           }
          ],
          "histogram2dcontour": [
           {
            "colorbar": {
             "outlinewidth": 0,
             "ticks": ""
            },
            "colorscale": [
             [
              0,
              "#0d0887"
             ],
             [
              0.1111111111111111,
              "#46039f"
             ],
             [
              0.2222222222222222,
              "#7201a8"
             ],
             [
              0.3333333333333333,
              "#9c179e"
             ],
             [
              0.4444444444444444,
              "#bd3786"
             ],
             [
              0.5555555555555556,
              "#d8576b"
             ],
             [
              0.6666666666666666,
              "#ed7953"
             ],
             [
              0.7777777777777778,
              "#fb9f3a"
             ],
             [
              0.8888888888888888,
              "#fdca26"
             ],
             [
              1,
              "#f0f921"
             ]
            ],
            "type": "histogram2dcontour"
           }
          ],
          "mesh3d": [
           {
            "colorbar": {
             "outlinewidth": 0,
             "ticks": ""
            },
            "type": "mesh3d"
           }
          ],
          "parcoords": [
           {
            "line": {
             "colorbar": {
              "outlinewidth": 0,
              "ticks": ""
             }
            },
            "type": "parcoords"
           }
          ],
          "pie": [
           {
            "automargin": true,
            "type": "pie"
           }
          ],
          "scatter": [
           {
            "marker": {
             "colorbar": {
              "outlinewidth": 0,
              "ticks": ""
             }
            },
            "type": "scatter"
           }
          ],
          "scatter3d": [
           {
            "line": {
             "colorbar": {
              "outlinewidth": 0,
              "ticks": ""
             }
            },
            "marker": {
             "colorbar": {
              "outlinewidth": 0,
              "ticks": ""
             }
            },
            "type": "scatter3d"
           }
          ],
          "scattercarpet": [
           {
            "marker": {
             "colorbar": {
              "outlinewidth": 0,
              "ticks": ""
             }
            },
            "type": "scattercarpet"
           }
          ],
          "scattergeo": [
           {
            "marker": {
             "colorbar": {
              "outlinewidth": 0,
              "ticks": ""
             }
            },
            "type": "scattergeo"
           }
          ],
          "scattergl": [
           {
            "marker": {
             "colorbar": {
              "outlinewidth": 0,
              "ticks": ""
             }
            },
            "type": "scattergl"
           }
          ],
          "scattermapbox": [
           {
            "marker": {
             "colorbar": {
              "outlinewidth": 0,
              "ticks": ""
             }
            },
            "type": "scattermapbox"
           }
          ],
          "scatterpolar": [
           {
            "marker": {
             "colorbar": {
              "outlinewidth": 0,
              "ticks": ""
             }
            },
            "type": "scatterpolar"
           }
          ],
          "scatterpolargl": [
           {
            "marker": {
             "colorbar": {
              "outlinewidth": 0,
              "ticks": ""
             }
            },
            "type": "scatterpolargl"
           }
          ],
          "scatterternary": [
           {
            "marker": {
             "colorbar": {
              "outlinewidth": 0,
              "ticks": ""
             }
            },
            "type": "scatterternary"
           }
          ],
          "surface": [
           {
            "colorbar": {
             "outlinewidth": 0,
             "ticks": ""
            },
            "colorscale": [
             [
              0,
              "#0d0887"
             ],
             [
              0.1111111111111111,
              "#46039f"
             ],
             [
              0.2222222222222222,
              "#7201a8"
             ],
             [
              0.3333333333333333,
              "#9c179e"
             ],
             [
              0.4444444444444444,
              "#bd3786"
             ],
             [
              0.5555555555555556,
              "#d8576b"
             ],
             [
              0.6666666666666666,
              "#ed7953"
             ],
             [
              0.7777777777777778,
              "#fb9f3a"
             ],
             [
              0.8888888888888888,
              "#fdca26"
             ],
             [
              1,
              "#f0f921"
             ]
            ],
            "type": "surface"
           }
          ],
          "table": [
           {
            "cells": {
             "fill": {
              "color": "#EBF0F8"
             },
             "line": {
              "color": "white"
             }
            },
            "header": {
             "fill": {
              "color": "#C8D4E3"
             },
             "line": {
              "color": "white"
             }
            },
            "type": "table"
           }
          ]
         },
         "layout": {
          "annotationdefaults": {
           "arrowcolor": "#2a3f5f",
           "arrowhead": 0,
           "arrowwidth": 1
          },
          "autotypenumbers": "strict",
          "coloraxis": {
           "colorbar": {
            "outlinewidth": 0,
            "ticks": ""
           }
          },
          "colorscale": {
           "diverging": [
            [
             0,
             "#8e0152"
            ],
            [
             0.1,
             "#c51b7d"
            ],
            [
             0.2,
             "#de77ae"
            ],
            [
             0.3,
             "#f1b6da"
            ],
            [
             0.4,
             "#fde0ef"
            ],
            [
             0.5,
             "#f7f7f7"
            ],
            [
             0.6,
             "#e6f5d0"
            ],
            [
             0.7,
             "#b8e186"
            ],
            [
             0.8,
             "#7fbc41"
            ],
            [
             0.9,
             "#4d9221"
            ],
            [
             1,
             "#276419"
            ]
           ],
           "sequential": [
            [
             0,
             "#0d0887"
            ],
            [
             0.1111111111111111,
             "#46039f"
            ],
            [
             0.2222222222222222,
             "#7201a8"
            ],
            [
             0.3333333333333333,
             "#9c179e"
            ],
            [
             0.4444444444444444,
             "#bd3786"
            ],
            [
             0.5555555555555556,
             "#d8576b"
            ],
            [
             0.6666666666666666,
             "#ed7953"
            ],
            [
             0.7777777777777778,
             "#fb9f3a"
            ],
            [
             0.8888888888888888,
             "#fdca26"
            ],
            [
             1,
             "#f0f921"
            ]
           ],
           "sequentialminus": [
            [
             0,
             "#0d0887"
            ],
            [
             0.1111111111111111,
             "#46039f"
            ],
            [
             0.2222222222222222,
             "#7201a8"
            ],
            [
             0.3333333333333333,
             "#9c179e"
            ],
            [
             0.4444444444444444,
             "#bd3786"
            ],
            [
             0.5555555555555556,
             "#d8576b"
            ],
            [
             0.6666666666666666,
             "#ed7953"
            ],
            [
             0.7777777777777778,
             "#fb9f3a"
            ],
            [
             0.8888888888888888,
             "#fdca26"
            ],
            [
             1,
             "#f0f921"
            ]
           ]
          },
          "colorway": [
           "#636efa",
           "#EF553B",
           "#00cc96",
           "#ab63fa",
           "#FFA15A",
           "#19d3f3",
           "#FF6692",
           "#B6E880",
           "#FF97FF",
           "#FECB52"
          ],
          "font": {
           "color": "#2a3f5f"
          },
          "geo": {
           "bgcolor": "white",
           "lakecolor": "white",
           "landcolor": "#E5ECF6",
           "showlakes": true,
           "showland": true,
           "subunitcolor": "white"
          },
          "hoverlabel": {
           "align": "left"
          },
          "hovermode": "closest",
          "mapbox": {
           "style": "light"
          },
          "paper_bgcolor": "white",
          "plot_bgcolor": "#E5ECF6",
          "polar": {
           "angularaxis": {
            "gridcolor": "white",
            "linecolor": "white",
            "ticks": ""
           },
           "bgcolor": "#E5ECF6",
           "radialaxis": {
            "gridcolor": "white",
            "linecolor": "white",
            "ticks": ""
           }
          },
          "scene": {
           "xaxis": {
            "backgroundcolor": "#E5ECF6",
            "gridcolor": "white",
            "gridwidth": 2,
            "linecolor": "white",
            "showbackground": true,
            "ticks": "",
            "zerolinecolor": "white"
           },
           "yaxis": {
            "backgroundcolor": "#E5ECF6",
            "gridcolor": "white",
            "gridwidth": 2,
            "linecolor": "white",
            "showbackground": true,
            "ticks": "",
            "zerolinecolor": "white"
           },
           "zaxis": {
            "backgroundcolor": "#E5ECF6",
            "gridcolor": "white",
            "gridwidth": 2,
            "linecolor": "white",
            "showbackground": true,
            "ticks": "",
            "zerolinecolor": "white"
           }
          },
          "shapedefaults": {
           "line": {
            "color": "#2a3f5f"
           }
          },
          "ternary": {
           "aaxis": {
            "gridcolor": "white",
            "linecolor": "white",
            "ticks": ""
           },
           "baxis": {
            "gridcolor": "white",
            "linecolor": "white",
            "ticks": ""
           },
           "bgcolor": "#E5ECF6",
           "caxis": {
            "gridcolor": "white",
            "linecolor": "white",
            "ticks": ""
           }
          },
          "title": {
           "x": 0.05
          },
          "xaxis": {
           "automargin": true,
           "gridcolor": "white",
           "linecolor": "white",
           "ticks": "",
           "title": {
            "standoff": 15
           },
           "zerolinecolor": "white",
           "zerolinewidth": 2
          },
          "yaxis": {
           "automargin": true,
           "gridcolor": "white",
           "linecolor": "white",
           "ticks": "",
           "title": {
            "standoff": 15
           },
           "zerolinecolor": "white",
           "zerolinewidth": 2
          }
         }
        },
        "title": {
         "text": "yelp performance"
        },
        "width": 1000
       }
      }
     },
     "metadata": {},
     "output_type": "display_data"
    }
   ],
   "source": [
    "display_company_choropleth('yelp','Greens')"
   ]
  },
  {
   "cell_type": "code",
   "execution_count": null,
   "metadata": {},
   "outputs": [],
   "source": [
    "    add_traces(go.Choropleth(locations=Country_df['Country_code'][Country_df[\"Country\"]==country],\n",
    "                            z = [1],\n",
    "                            colorscale = [[0, col_swe],[1, col_swe]],\n",
    "                            colorbar=None,\n",
    "                            showscale = False))\n",
    "    \n",
    "    "
   ]
  }
 ],
 "metadata": {
  "interpreter": {
   "hash": "4fe28adbe6d40c82bdde6a2233f025e3b944121e67b5abb397657075ce1366ca"
  },
  "kernelspec": {
   "display_name": "Python 3.8.5 64-bit ('lighthouse': conda)",
   "name": "python3"
  },
  "language_info": {
   "codemirror_mode": {
    "name": "ipython",
    "version": 3
   },
   "file_extension": ".py",
   "mimetype": "text/x-python",
   "name": "python",
   "nbconvert_exporter": "python",
   "pygments_lexer": "ipython3",
   "version": "3.8.12"
  },
  "orig_nbformat": 4
 },
 "nbformat": 4,
 "nbformat_minor": 2
}
